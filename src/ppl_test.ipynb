{
 "cells": [
  {
   "cell_type": "code",
   "execution_count": 1,
   "outputs": [],
   "source": [
    "import os\n",
    "import numpy as np\n",
    "import matplotlib.pyplot as plt\n",
    "%matplotlib inline"
   ],
   "metadata": {
    "collapsed": false,
    "ExecuteTime": {
     "end_time": "2023-07-09T13:38:43.628652143Z",
     "start_time": "2023-07-09T13:38:43.151212015Z"
    }
   }
  },
  {
   "cell_type": "code",
   "execution_count": 2,
   "outputs": [
    {
     "data": {
      "text/plain": "'/home/hidde/Desktop/git/Vu/Seeing_the_words/bacholar_project/paper_model'"
     },
     "execution_count": 2,
     "metadata": {},
     "output_type": "execute_result"
    }
   ],
   "source": [
    "os.path.abspath('../paper_model')"
   ],
   "metadata": {
    "collapsed": false,
    "ExecuteTime": {
     "end_time": "2023-07-09T13:38:45.631814821Z",
     "start_time": "2023-07-09T13:38:45.625155053Z"
    }
   }
  },
  {
   "cell_type": "code",
   "execution_count": 8,
   "outputs": [
    {
     "name": "stdout",
     "output_type": "stream",
     "text": [
      "fatal: destination path 'detectron2' already exists and is not an empty directory.\r\n",
      "Defaulting to user installation because normal site-packages is not writeable\r\n",
      "Requirement already satisfied: Pillow>=7.1 in /usr/local/lib/python3.8/dist-packages (9.0.1)\r\n",
      "Requirement already satisfied: matplotlib in /usr/local/lib/python3.8/dist-packages (3.5.1)\r\n",
      "Requirement already satisfied: pycocotools>=2.0.2 in /usr/local/lib/python3.8/dist-packages (2.0.6)\r\n",
      "Requirement already satisfied: termcolor>=1.1 in /home/hidde/.local/lib/python3.8/site-packages (1.1.0)\r\n",
      "Requirement already satisfied: yacs>=0.1.8 in /home/hidde/.local/lib/python3.8/site-packages (0.1.8)\r\n",
      "Requirement already satisfied: tabulate in /home/hidde/.local/lib/python3.8/site-packages (0.9.0)\r\n",
      "Requirement already satisfied: cloudpickle in /home/hidde/.local/lib/python3.8/site-packages (2.1.0)\r\n",
      "Requirement already satisfied: tqdm>4.29.0 in /usr/local/lib/python3.8/dist-packages (4.63.0)\r\n",
      "Requirement already satisfied: tensorboard in /home/hidde/.local/lib/python3.8/site-packages (2.8.0)\r\n",
      "Requirement already satisfied: fvcore<0.1.6,>=0.1.5 in /home/hidde/.local/lib/python3.8/site-packages (0.1.5.post20221221)\r\n",
      "Requirement already satisfied: iopath<0.1.10,>=0.1.7 in /home/hidde/.local/lib/python3.8/site-packages (0.1.9)\r\n",
      "Requirement already satisfied: omegaconf>=2.1 in /home/hidde/.local/lib/python3.8/site-packages (2.3.0)\r\n",
      "Requirement already satisfied: hydra-core>=1.1 in /home/hidde/.local/lib/python3.8/site-packages (1.3.2)\r\n",
      "Requirement already satisfied: black in /home/hidde/.local/lib/python3.8/site-packages (23.3.0)\r\n",
      "Requirement already satisfied: packaging in /home/hidde/.local/lib/python3.8/site-packages (23.1)\r\n",
      "Requirement already satisfied: cycler>=0.10 in /usr/local/lib/python3.8/dist-packages (from matplotlib) (0.11.0)\r\n",
      "Requirement already satisfied: fonttools>=4.22.0 in /usr/local/lib/python3.8/dist-packages (from matplotlib) (4.29.1)\r\n",
      "Requirement already satisfied: python-dateutil>=2.7 in /usr/local/lib/python3.8/dist-packages (from matplotlib) (2.8.2)\r\n",
      "Requirement already satisfied: kiwisolver>=1.0.1 in /usr/local/lib/python3.8/dist-packages (from matplotlib) (1.3.2)\r\n",
      "Requirement already satisfied: pyparsing>=2.2.1 in /usr/local/lib/python3.8/dist-packages (from matplotlib) (3.0.7)\r\n",
      "Requirement already satisfied: numpy>=1.17 in /usr/local/lib/python3.8/dist-packages (from matplotlib) (1.22.3)\r\n",
      "Requirement already satisfied: PyYAML in /usr/lib/python3/dist-packages (from yacs>=0.1.8) (5.3.1)\r\n",
      "Requirement already satisfied: werkzeug>=0.11.15 in /home/hidde/.local/lib/python3.8/site-packages (from tensorboard) (2.0.3)\r\n",
      "Requirement already satisfied: absl-py>=0.4 in /home/hidde/.local/lib/python3.8/site-packages (from tensorboard) (1.0.0)\r\n",
      "Requirement already satisfied: requests<3,>=2.21.0 in /usr/local/lib/python3.8/dist-packages (from tensorboard) (2.28.2)\r\n",
      "Requirement already satisfied: tensorboard-data-server<0.7.0,>=0.6.0 in /home/hidde/.local/lib/python3.8/site-packages (from tensorboard) (0.6.1)\r\n",
      "Requirement already satisfied: tensorboard-plugin-wit>=1.6.0 in /home/hidde/.local/lib/python3.8/site-packages (from tensorboard) (1.8.1)\r\n",
      "Requirement already satisfied: markdown>=2.6.8 in /home/hidde/.local/lib/python3.8/site-packages (from tensorboard) (3.3.6)\r\n",
      "Requirement already satisfied: grpcio>=1.24.3 in /home/hidde/.local/lib/python3.8/site-packages (from tensorboard) (1.45.0)\r\n",
      "Requirement already satisfied: wheel>=0.26 in /home/hidde/.local/lib/python3.8/site-packages (from tensorboard) (0.37.1)\r\n",
      "Requirement already satisfied: google-auth<3,>=1.6.3 in /home/hidde/.local/lib/python3.8/site-packages (from tensorboard) (2.6.2)\r\n",
      "Requirement already satisfied: setuptools>=41.0.0 in /usr/local/lib/python3.8/dist-packages (from tensorboard) (60.9.3)\r\n",
      "Requirement already satisfied: google-auth-oauthlib<0.5,>=0.4.1 in /home/hidde/.local/lib/python3.8/site-packages (from tensorboard) (0.4.6)\r\n",
      "Requirement already satisfied: protobuf>=3.6.0 in /home/hidde/.local/lib/python3.8/site-packages (from tensorboard) (3.19.4)\r\n",
      "Requirement already satisfied: portalocker in /home/hidde/.local/lib/python3.8/site-packages (from iopath<0.1.10,>=0.1.7) (2.7.0)\r\n",
      "Requirement already satisfied: antlr4-python3-runtime==4.9.* in /home/hidde/.local/lib/python3.8/site-packages (from omegaconf>=2.1) (4.9.3)\r\n",
      "Requirement already satisfied: importlib-resources in /usr/local/lib/python3.8/dist-packages (from hydra-core>=1.1) (5.4.0)\r\n",
      "Requirement already satisfied: tomli>=1.1.0 in /home/hidde/.local/lib/python3.8/site-packages (from black) (2.0.1)\r\n",
      "Requirement already satisfied: click>=8.0.0 in /home/hidde/.local/lib/python3.8/site-packages (from black) (8.1.4)\r\n",
      "Requirement already satisfied: platformdirs>=2 in /home/hidde/.local/lib/python3.8/site-packages (from black) (3.8.1)\r\n",
      "Requirement already satisfied: mypy-extensions>=0.4.3 in /usr/local/lib/python3.8/dist-packages (from black) (1.0.0)\r\n",
      "Requirement already satisfied: pathspec>=0.9.0 in /home/hidde/.local/lib/python3.8/site-packages (from black) (0.11.1)\r\n",
      "Requirement already satisfied: typing-extensions>=3.10.0.0 in /home/hidde/.local/lib/python3.8/site-packages (from black) (4.1.1)\r\n",
      "Requirement already satisfied: six in /usr/lib/python3/dist-packages (from absl-py>=0.4->tensorboard) (1.14.0)\r\n",
      "Requirement already satisfied: pyasn1-modules>=0.2.1 in /home/hidde/.local/lib/python3.8/site-packages (from google-auth<3,>=1.6.3->tensorboard) (0.2.8)\r\n",
      "Requirement already satisfied: rsa<5,>=3.1.4 in /home/hidde/.local/lib/python3.8/site-packages (from google-auth<3,>=1.6.3->tensorboard) (4.8)\r\n",
      "Requirement already satisfied: cachetools<6.0,>=2.0.0 in /home/hidde/.local/lib/python3.8/site-packages (from google-auth<3,>=1.6.3->tensorboard) (5.0.0)\r\n",
      "Requirement already satisfied: requests-oauthlib>=0.7.0 in /home/hidde/.local/lib/python3.8/site-packages (from google-auth-oauthlib<0.5,>=0.4.1->tensorboard) (1.3.1)\r\n",
      "Requirement already satisfied: importlib-metadata>=4.4 in /home/hidde/.local/lib/python3.8/site-packages (from markdown>=2.6.8->tensorboard) (4.11.3)\r\n",
      "Requirement already satisfied: charset-normalizer<4,>=2 in /usr/local/lib/python3.8/dist-packages (from requests<3,>=2.21.0->tensorboard) (3.1.0)\r\n",
      "Requirement already satisfied: urllib3<1.27,>=1.21.1 in /usr/lib/python3/dist-packages (from requests<3,>=2.21.0->tensorboard) (1.25.8)\r\n",
      "Requirement already satisfied: certifi>=2017.4.17 in /usr/lib/python3/dist-packages (from requests<3,>=2.21.0->tensorboard) (2019.11.28)\r\n",
      "Requirement already satisfied: idna<4,>=2.5 in /usr/lib/python3/dist-packages (from requests<3,>=2.21.0->tensorboard) (2.8)\r\n",
      "Requirement already satisfied: zipp>=3.1.0 in /usr/local/lib/python3.8/dist-packages (from importlib-resources->hydra-core>=1.1) (3.7.0)\r\n",
      "Requirement already satisfied: pyasn1<0.5.0,>=0.4.6 in /home/hidde/.local/lib/python3.8/site-packages (from pyasn1-modules>=0.2.1->google-auth<3,>=1.6.3->tensorboard) (0.4.8)\r\n",
      "Requirement already satisfied: oauthlib>=3.0.0 in /usr/lib/python3/dist-packages (from requests-oauthlib>=0.7.0->google-auth-oauthlib<0.5,>=0.4.1->tensorboard) (3.1.0)\r\n",
      "\r\n",
      "\u001B[1m[\u001B[0m\u001B[34;49mnotice\u001B[0m\u001B[1;39;49m]\u001B[0m\u001B[39;49m A new release of pip is available: \u001B[0m\u001B[31;49m23.0\u001B[0m\u001B[39;49m -> \u001B[0m\u001B[32;49m23.1.2\u001B[0m\r\n",
      "\u001B[1m[\u001B[0m\u001B[34;49mnotice\u001B[0m\u001B[1;39;49m]\u001B[0m\u001B[39;49m To update, run: \u001B[0m\u001B[32;49mpython3.8 -m pip install --upgrade pip\u001B[0m\r\n"
     ]
    }
   ],
   "source": [
    "# !python -m pip install pyyaml==5.1\n",
    "import sys, os, distutils.core\n",
    "# Note: This is a faster way to install detectron2 in Colab, but it does not include all functionalities (e.g. compiled operators).\n",
    "# See https://detectron2.readthedocs.io/tutorials/install.html for full installation instructions\n",
    "!git clone 'https://github.com/facebookresearch/detectron2'\n",
    "dist = distutils.core.run_setup(\"./detectron2/setup.py\")\n",
    "!pip install {' '.join([f\"'{x}'\" for x in dist.install_requires])}\n",
    "sys.path.insert(0, os.path.abspath('./detectron2'))\n"
   ],
   "metadata": {
    "collapsed": false,
    "ExecuteTime": {
     "end_time": "2023-07-09T11:22:59.952019126Z",
     "start_time": "2023-07-09T11:22:57.226730965Z"
    }
   }
  },
  {
   "cell_type": "code",
   "execution_count": 6,
   "outputs": [
    {
     "name": "stdout",
     "output_type": "stream",
     "text": [
      "Defaulting to user installation because normal site-packages is not writeable\r\n",
      "Looking in links: https://dl.fbaipublicfiles.com/detectron2/wheels/cpu/torch1.10/index.html\r\n",
      "Collecting detectron2\r\n",
      "  Downloading https://dl.fbaipublicfiles.com/detectron2/wheels/cpu/torch1.10/detectron2-0.6%2Bcpu-cp38-cp38-linux_x86_64.whl (5.4 MB)\r\n",
      "\u001B[2K     \u001B[90m━━━━━━━━━━━━━━━━━━━━━━━━━━━━━━━━━━━━━━━━\u001B[0m \u001B[32m5.4/5.4 MB\u001B[0m \u001B[31m2.6 MB/s\u001B[0m eta \u001B[36m0:00:00\u001B[0m00:01\u001B[0m00:01\u001B[0m\r\n",
      "\u001B[?25hRequirement already satisfied: cloudpickle in /home/hidde/.local/lib/python3.8/site-packages (from detectron2) (2.1.0)\r\n",
      "Requirement already satisfied: future in /usr/lib/python3/dist-packages (from detectron2) (0.18.2)\r\n",
      "Requirement already satisfied: omegaconf>=2.1 in /home/hidde/.local/lib/python3.8/site-packages (from detectron2) (2.3.0)\r\n",
      "Requirement already satisfied: fvcore<0.1.6,>=0.1.5 in /home/hidde/.local/lib/python3.8/site-packages (from detectron2) (0.1.5.post20221221)\r\n",
      "Requirement already satisfied: yacs>=0.1.8 in /home/hidde/.local/lib/python3.8/site-packages (from detectron2) (0.1.8)\r\n",
      "Requirement already satisfied: hydra-core>=1.1 in /home/hidde/.local/lib/python3.8/site-packages (from detectron2) (1.3.2)\r\n",
      "Requirement already satisfied: tqdm>4.29.0 in /usr/local/lib/python3.8/dist-packages (from detectron2) (4.63.0)\r\n",
      "Requirement already satisfied: tensorboard in /home/hidde/.local/lib/python3.8/site-packages (from detectron2) (2.8.0)\r\n",
      "Requirement already satisfied: pycocotools>=2.0.2 in /usr/local/lib/python3.8/dist-packages (from detectron2) (2.0.6)\r\n",
      "Requirement already satisfied: matplotlib in /usr/local/lib/python3.8/dist-packages (from detectron2) (3.5.1)\r\n",
      "Requirement already satisfied: Pillow>=7.1 in /usr/local/lib/python3.8/dist-packages (from detectron2) (9.0.1)\r\n",
      "Requirement already satisfied: tabulate in /home/hidde/.local/lib/python3.8/site-packages (from detectron2) (0.9.0)\r\n",
      "Requirement already satisfied: iopath<0.1.10,>=0.1.7 in /home/hidde/.local/lib/python3.8/site-packages (from detectron2) (0.1.9)\r\n",
      "Requirement already satisfied: termcolor>=1.1 in /home/hidde/.local/lib/python3.8/site-packages (from detectron2) (1.1.0)\r\n",
      "Collecting black==21.4b2\r\n",
      "  Downloading black-21.4b2-py3-none-any.whl (130 kB)\r\n",
      "\u001B[2K     \u001B[90m━━━━━━━━━━━━━━━━━━━━━━━━━━━━━━━━━━━━━━━\u001B[0m \u001B[32m131.0/131.0 kB\u001B[0m \u001B[31m1.6 MB/s\u001B[0m eta \u001B[36m0:00:00\u001B[0ma \u001B[36m0:00:01\u001B[0m\r\n",
      "\u001B[?25hCollecting pydot\r\n",
      "  Downloading pydot-1.4.2-py2.py3-none-any.whl (21 kB)\r\n",
      "Collecting toml>=0.10.1\r\n",
      "  Downloading toml-0.10.2-py2.py3-none-any.whl (16 kB)\r\n",
      "Requirement already satisfied: regex>=2020.1.8 in /home/hidde/.local/lib/python3.8/site-packages (from black==21.4b2->detectron2) (2022.3.15)\r\n",
      "Requirement already satisfied: click>=7.1.2 in /home/hidde/.local/lib/python3.8/site-packages (from black==21.4b2->detectron2) (8.1.4)\r\n",
      "Requirement already satisfied: mypy-extensions>=0.4.3 in /usr/local/lib/python3.8/dist-packages (from black==21.4b2->detectron2) (1.0.0)\r\n",
      "Requirement already satisfied: pathspec<1,>=0.8.1 in /home/hidde/.local/lib/python3.8/site-packages (from black==21.4b2->detectron2) (0.11.1)\r\n",
      "Collecting appdirs\r\n",
      "  Downloading appdirs-1.4.4-py2.py3-none-any.whl (9.6 kB)\r\n",
      "Requirement already satisfied: pyyaml>=5.1 in /usr/lib/python3/dist-packages (from fvcore<0.1.6,>=0.1.5->detectron2) (5.3.1)\r\n",
      "Requirement already satisfied: numpy in /usr/local/lib/python3.8/dist-packages (from fvcore<0.1.6,>=0.1.5->detectron2) (1.22.3)\r\n",
      "Requirement already satisfied: packaging in /home/hidde/.local/lib/python3.8/site-packages (from hydra-core>=1.1->detectron2) (23.1)\r\n",
      "Requirement already satisfied: antlr4-python3-runtime==4.9.* in /home/hidde/.local/lib/python3.8/site-packages (from hydra-core>=1.1->detectron2) (4.9.3)\r\n",
      "Requirement already satisfied: importlib-resources in /usr/local/lib/python3.8/dist-packages (from hydra-core>=1.1->detectron2) (5.4.0)\r\n",
      "Requirement already satisfied: portalocker in /home/hidde/.local/lib/python3.8/site-packages (from iopath<0.1.10,>=0.1.7->detectron2) (2.7.0)\r\n",
      "Requirement already satisfied: fonttools>=4.22.0 in /usr/local/lib/python3.8/dist-packages (from matplotlib->detectron2) (4.29.1)\r\n",
      "Requirement already satisfied: cycler>=0.10 in /usr/local/lib/python3.8/dist-packages (from matplotlib->detectron2) (0.11.0)\r\n",
      "Requirement already satisfied: pyparsing>=2.2.1 in /usr/local/lib/python3.8/dist-packages (from matplotlib->detectron2) (3.0.7)\r\n",
      "Requirement already satisfied: kiwisolver>=1.0.1 in /usr/local/lib/python3.8/dist-packages (from matplotlib->detectron2) (1.3.2)\r\n",
      "Requirement already satisfied: python-dateutil>=2.7 in /usr/local/lib/python3.8/dist-packages (from matplotlib->detectron2) (2.8.2)\r\n",
      "Requirement already satisfied: requests<3,>=2.21.0 in /usr/local/lib/python3.8/dist-packages (from tensorboard->detectron2) (2.28.2)\r\n",
      "Requirement already satisfied: protobuf>=3.6.0 in /home/hidde/.local/lib/python3.8/site-packages (from tensorboard->detectron2) (3.19.4)\r\n",
      "Requirement already satisfied: setuptools>=41.0.0 in /usr/local/lib/python3.8/dist-packages (from tensorboard->detectron2) (60.9.3)\r\n",
      "Requirement already satisfied: google-auth<3,>=1.6.3 in /home/hidde/.local/lib/python3.8/site-packages (from tensorboard->detectron2) (2.6.2)\r\n",
      "Requirement already satisfied: tensorboard-plugin-wit>=1.6.0 in /home/hidde/.local/lib/python3.8/site-packages (from tensorboard->detectron2) (1.8.1)\r\n",
      "Requirement already satisfied: wheel>=0.26 in /home/hidde/.local/lib/python3.8/site-packages (from tensorboard->detectron2) (0.37.1)\r\n",
      "Requirement already satisfied: grpcio>=1.24.3 in /home/hidde/.local/lib/python3.8/site-packages (from tensorboard->detectron2) (1.45.0)\r\n",
      "Requirement already satisfied: tensorboard-data-server<0.7.0,>=0.6.0 in /home/hidde/.local/lib/python3.8/site-packages (from tensorboard->detectron2) (0.6.1)\r\n",
      "Requirement already satisfied: werkzeug>=0.11.15 in /home/hidde/.local/lib/python3.8/site-packages (from tensorboard->detectron2) (2.0.3)\r\n",
      "Requirement already satisfied: markdown>=2.6.8 in /home/hidde/.local/lib/python3.8/site-packages (from tensorboard->detectron2) (3.3.6)\r\n",
      "Requirement already satisfied: absl-py>=0.4 in /home/hidde/.local/lib/python3.8/site-packages (from tensorboard->detectron2) (1.0.0)\r\n",
      "Requirement already satisfied: google-auth-oauthlib<0.5,>=0.4.1 in /home/hidde/.local/lib/python3.8/site-packages (from tensorboard->detectron2) (0.4.6)\r\n",
      "Requirement already satisfied: six in /usr/lib/python3/dist-packages (from absl-py>=0.4->tensorboard->detectron2) (1.14.0)\r\n",
      "Requirement already satisfied: rsa<5,>=3.1.4 in /home/hidde/.local/lib/python3.8/site-packages (from google-auth<3,>=1.6.3->tensorboard->detectron2) (4.8)\r\n",
      "Requirement already satisfied: pyasn1-modules>=0.2.1 in /home/hidde/.local/lib/python3.8/site-packages (from google-auth<3,>=1.6.3->tensorboard->detectron2) (0.2.8)\r\n",
      "Requirement already satisfied: cachetools<6.0,>=2.0.0 in /home/hidde/.local/lib/python3.8/site-packages (from google-auth<3,>=1.6.3->tensorboard->detectron2) (5.0.0)\r\n",
      "Requirement already satisfied: requests-oauthlib>=0.7.0 in /home/hidde/.local/lib/python3.8/site-packages (from google-auth-oauthlib<0.5,>=0.4.1->tensorboard->detectron2) (1.3.1)\r\n",
      "Requirement already satisfied: importlib-metadata>=4.4 in /home/hidde/.local/lib/python3.8/site-packages (from markdown>=2.6.8->tensorboard->detectron2) (4.11.3)\r\n",
      "Requirement already satisfied: idna<4,>=2.5 in /usr/lib/python3/dist-packages (from requests<3,>=2.21.0->tensorboard->detectron2) (2.8)\r\n",
      "Requirement already satisfied: certifi>=2017.4.17 in /usr/lib/python3/dist-packages (from requests<3,>=2.21.0->tensorboard->detectron2) (2019.11.28)\r\n",
      "Requirement already satisfied: charset-normalizer<4,>=2 in /usr/local/lib/python3.8/dist-packages (from requests<3,>=2.21.0->tensorboard->detectron2) (3.1.0)\r\n",
      "Requirement already satisfied: urllib3<1.27,>=1.21.1 in /usr/lib/python3/dist-packages (from requests<3,>=2.21.0->tensorboard->detectron2) (1.25.8)\r\n",
      "Requirement already satisfied: zipp>=3.1.0 in /usr/local/lib/python3.8/dist-packages (from importlib-resources->hydra-core>=1.1->detectron2) (3.7.0)\r\n",
      "Requirement already satisfied: pyasn1<0.5.0,>=0.4.6 in /home/hidde/.local/lib/python3.8/site-packages (from pyasn1-modules>=0.2.1->google-auth<3,>=1.6.3->tensorboard->detectron2) (0.4.8)\r\n",
      "Requirement already satisfied: oauthlib>=3.0.0 in /usr/lib/python3/dist-packages (from requests-oauthlib>=0.7.0->google-auth-oauthlib<0.5,>=0.4.1->tensorboard->detectron2) (3.1.0)\r\n",
      "Installing collected packages: appdirs, toml, pydot, black, detectron2\r\n",
      "  Attempting uninstall: black\r\n",
      "    Found existing installation: black 23.3.0\r\n",
      "    Uninstalling black-23.3.0:\r\n",
      "      Successfully uninstalled black-23.3.0\r\n",
      "Successfully installed appdirs-1.4.4 black-21.4b2 detectron2-0.6+cpu pydot-1.4.2 toml-0.10.2\r\n",
      "\r\n",
      "\u001B[1m[\u001B[0m\u001B[34;49mnotice\u001B[0m\u001B[1;39;49m]\u001B[0m\u001B[39;49m A new release of pip is available: \u001B[0m\u001B[31;49m23.0\u001B[0m\u001B[39;49m -> \u001B[0m\u001B[32;49m23.1.2\u001B[0m\r\n",
      "\u001B[1m[\u001B[0m\u001B[34;49mnotice\u001B[0m\u001B[1;39;49m]\u001B[0m\u001B[39;49m To update, run: \u001B[0m\u001B[32;49mpython3.8 -m pip install --upgrade pip\u001B[0m\r\n"
     ]
    }
   ],
   "source": [
    "!pip install detectron2 -f \\\n",
    "  https://dl.fbaipublicfiles.com/detectron2/wheels/cpu/torch1.10/index.html\n"
   ],
   "metadata": {
    "collapsed": false,
    "ExecuteTime": {
     "end_time": "2023-07-09T13:41:27.945526753Z",
     "start_time": "2023-07-09T13:41:21.845746417Z"
    }
   }
  },
  {
   "cell_type": "code",
   "execution_count": 7,
   "outputs": [],
   "source": [
    "\n",
    "import detectron2,cv2\n",
    "from detectron2 import model_zoo\n",
    "from detectron2.engine import DefaultPredictor\n",
    "from detectron2.config import get_cfg\n",
    "from detectron2.utils.visualizer import Visualizer\n",
    "from detectron2.data import MetadataCatalog, DatasetCatalog\n",
    "import matplotlib.pyplot as plt"
   ],
   "metadata": {
    "collapsed": false,
    "ExecuteTime": {
     "end_time": "2023-07-09T13:41:34.406267555Z",
     "start_time": "2023-07-09T13:41:33.386055881Z"
    }
   }
  },
  {
   "cell_type": "code",
   "execution_count": null,
   "outputs": [],
   "source": [
    "cfg = get_cfg()\n",
    "cfg.merge_from_file(model_zoo.get_config_file(\"COCO-InstanceSegmentation/mask_rcnn_R_50_FPN_3x.yaml\"))\n",
    "cfg.MODEL.ROI_HEADS.SCORE_THRESH_TEST = 0.2\n",
    "cfg.MODEL.WEIGHTS = model_zoo.get_checkpoint_url(\"COCO-InstanceSegmentation/mask_rcnn_R_50_FPN_3x.yaml\")\n",
    "cfg.MODEL.DEVICE = \"cpu\" # we use a CPU Detectron copy\n",
    "# create predictor\n",
    "predictor = DefaultPredictor(cfg)"
   ],
   "metadata": {
    "collapsed": false
   }
  },
  {
   "cell_type": "code",
   "execution_count": null,
   "outputs": [],
   "source": [
    "file = caffe_root + '/example_img/example_1.jpg'\n",
    "frame = cv2.imread(file)\n",
    "image = cv2.cvtColor(frame, cv2.IMREAD_COLOR)\n",
    "# predict categories\n",
    "output = predictor(image)\n"
   ],
   "metadata": {
    "collapsed": false
   }
  },
  {
   "cell_type": "code",
   "execution_count": null,
   "outputs": [],
   "source": [
    "v = Visualizer(image[:, :, ::-1], MetadataCatalog.get(cfg.DATASETS.TRAIN[0]), scale=1.2)\n",
    "out = v.draw_instance_predictions(output[\"instances\"].to(\"cpu\"))"
   ],
   "metadata": {
    "collapsed": false
   }
  },
  {
   "cell_type": "code",
   "execution_count": null,
   "outputs": [],
   "source": [
    "plt.figure(figsize=(30,20))\n",
    "plt.imshow(out.get_image()[..., ::-1][..., ::-1])\n",
    "plt.show()"
   ],
   "metadata": {
    "collapsed": false
   }
  },
  {
   "cell_type": "code",
   "execution_count": null,
   "outputs": [],
   "source": [
    "matches = zip(output['instances'].get('pred_classes'),output['instances'].get(     'pred_boxes'))"
   ],
   "metadata": {
    "collapsed": false
   }
  },
  {
   "cell_type": "code",
   "execution_count": null,
   "outputs": [],
   "source": [
    "for l,j in matches:\n",
    "    # skip all categories which do not correspond to people\n",
    "    if int(l)!=0 : continue\n",
    "    # get bounding box for person\n",
    "    i = [int(k) for k in j]\n",
    "\n",
    "\n",
    "    # crop the original image using the bounding box\n",
    "    img = image[i[1]:i[3], i[0]:i[2]] #crop to bb\n",
    "    plt.imshow(img)\n",
    "    plt.show()"
   ],
   "metadata": {
    "collapsed": false
   }
  },
  {
   "cell_type": "markdown",
   "source": [
    "Section is to get sex and age"
   ],
   "metadata": {
    "collapsed": false
   }
  },
  {
   "cell_type": "code",
   "execution_count": 12,
   "metadata": {
    "collapsed": true,
    "ExecuteTime": {
     "end_time": "2023-07-09T12:48:16.892310202Z",
     "start_time": "2023-07-09T12:48:16.176586267Z"
    }
   },
   "outputs": [
    {
     "name": "stdout",
     "output_type": "stream",
     "text": [
      "Loaded backend module://matplotlib_inline.backend_inline version unknown.\n"
     ]
    }
   ],
   "source": [
    "import os\n",
    "import numpy as np\n",
    "import matplotlib.pyplot as plt\n",
    "%matplotlib inline\n",
    "\n",
    "\n",
    "caffe_root = os.path.abspath('/home/hidde/Desktop/git/Vu/Seeing_the_words/paper_model')\n",
    "import sys\n",
    "# sys.path.insert(0, caffe_root + 'python')\n",
    "import caffe\n",
    "\n",
    "plt.rcParams['figure.figsize'] = (10, 10)\n",
    "plt.rcParams['image.interpolation'] = 'nearest'\n",
    "plt.rcParams['image.cmap'] = 'gray'\n"
   ]
  },
  {
   "cell_type": "code",
   "execution_count": null,
   "outputs": [],
   "source": [
    "caffe_root"
   ],
   "metadata": {
    "collapsed": false
   }
  },
  {
   "cell_type": "code",
   "execution_count": 14,
   "outputs": [],
   "source": [
    "mean_filename= caffe_root + '/age_gender_mean.binaryproto'\n",
    "proto_data = open(mean_filename, \"rb\").read()\n",
    "a = caffe.io.caffe_pb2.BlobProto.FromString(proto_data)\n",
    "mean  = caffe.io.blobproto_to_array(a)[0]"
   ],
   "metadata": {
    "collapsed": false,
    "ExecuteTime": {
     "end_time": "2023-07-09T12:48:30.895373893Z",
     "start_time": "2023-07-09T12:48:30.855534080Z"
    }
   }
  },
  {
   "cell_type": "code",
   "execution_count": null,
   "outputs": [],
   "source": [
    "age_net_pretrained= caffe_root + '/age_net.caffemodel'\n",
    "age_net_model_file= caffe_root +  '/deploy_age.prototxt'\n",
    "age_net = caffe.Classifier(age_net_model_file, age_net_pretrained,\n",
    "                       mean=mean,\n",
    "                       channel_swap=(2,1,0),\n",
    "                       raw_scale=255,\n",
    "                       image_dims=(256, 256))"
   ],
   "metadata": {
    "collapsed": false
   }
  },
  {
   "cell_type": "code",
   "execution_count": null,
   "outputs": [],
   "source": [
    "gender_net_pretrained= caffe_root + '/gender_net.caffemodel'\n",
    "gender_net_model_file= caffe_root + '/deploy_gender.prototxt'\n",
    "gender_net = caffe.Classifier(gender_net_model_file, gender_net_pretrained,\n",
    "                       mean=mean,\n",
    "                       channel_swap=(2,1,0),\n",
    "                       raw_scale=255,\n",
    "                       image_dims=(256, 256))"
   ],
   "metadata": {
    "collapsed": false
   }
  },
  {
   "cell_type": "code",
   "execution_count": null,
   "outputs": [],
   "source": [
    "age_list=['(0, 2)','(4, 6)','(8, 12)','(15, 20)','(25, 32)','(38, 43)','(48, 53)','(60, 100)']\n",
    "gender_list=['Male','Female']"
   ],
   "metadata": {
    "collapsed": false
   }
  },
  {
   "cell_type": "code",
   "execution_count": null,
   "outputs": [],
   "source": [
    "example_image = caffe_root + '/example_img/example_1.jpg'\n",
    "input_image = caffe.io.load_image(example_image)\n",
    "_ = plt.imshow(input_image)"
   ],
   "metadata": {
    "collapsed": false
   }
  },
  {
   "cell_type": "code",
   "execution_count": null,
   "outputs": [],
   "source": [
    "prediction = age_net.predict([input_image])\n",
    "\n",
    "print ('predicted age:', age_list[prediction[0].argmax()])"
   ],
   "metadata": {
    "collapsed": false
   }
  },
  {
   "cell_type": "code",
   "execution_count": null,
   "outputs": [],
   "source": [
    "prediction"
   ],
   "metadata": {
    "collapsed": false
   }
  },
  {
   "cell_type": "code",
   "execution_count": null,
   "outputs": [],
   "source": [
    "prediction = gender_net.predict([input_image])\n",
    "\n",
    "print ('predicted gender:', gender_list[prediction[0].argmax()])"
   ],
   "metadata": {
    "collapsed": false
   }
  },
  {
   "cell_type": "code",
   "execution_count": null,
   "outputs": [],
   "source": [
    "cfg = get_cfg()\n",
    "cfg.merge_from_file(model_zoo.get_config_file(\"COCO-InstanceSegmentation/mask_rcnn_R_50_FPN_3x.yaml\"))\n",
    "cfg.MODEL.ROI_HEADS.SCORE_THRESH_TEST = 0.2\n",
    "cfg.MODEL.WEIGHTS = model_zoo.get_checkpoint_url(\"COCO-InstanceSegmentation/mask_rcnn_R_50_FPN_3x.yaml\")\n",
    "cfg.MODEL.DEVICE = \"cpu\" # we use a CPU Detectron copy\n",
    "# create predictor\n",
    "predictor = DefaultPredictor(cfg)"
   ],
   "metadata": {
    "collapsed": false
   }
  },
  {
   "cell_type": "code",
   "execution_count": null,
   "outputs": [],
   "source": [
    "file = caffe_root + '/example_img/example_1.jpg'\n",
    "frame = cv2.imread(file)\n",
    "image = cv2.cvtColor(frame, cv2.IMREAD_COLOR)\n",
    "# predict categories\n",
    "output = predictor(image)\n"
   ],
   "metadata": {
    "collapsed": false
   }
  },
  {
   "cell_type": "code",
   "execution_count": null,
   "outputs": [],
   "source": [
    "v = Visualizer(image[:, :, ::-1], MetadataCatalog.get(cfg.DATASETS.TRAIN[0]), scale=1.2)\n",
    "out = v.draw_instance_predictions(output[\"instances\"].to(\"cpu\"))"
   ],
   "metadata": {
    "collapsed": false
   }
  },
  {
   "cell_type": "code",
   "execution_count": null,
   "outputs": [],
   "source": [
    "plt.figure(figsize=(30,20))\n",
    "plt.imshow(out.get_image()[..., ::-1][..., ::-1])\n",
    "plt.show()"
   ],
   "metadata": {
    "collapsed": false
   }
  },
  {
   "cell_type": "code",
   "execution_count": null,
   "outputs": [],
   "source": [
    "matches = zip(output['instances'].get('pred_classes'),output['instances'].get(     'pred_boxes'))"
   ],
   "metadata": {
    "collapsed": false
   }
  },
  {
   "cell_type": "code",
   "execution_count": null,
   "outputs": [],
   "source": [
    "for l,j in matches:\n",
    "    # skip all categories which do not correspond to people\n",
    "    if int(l)!=0 : continue\n",
    "    # get bounding box for person\n",
    "    i = [int(k) for k in j]\n",
    "\n",
    "\n",
    "    # crop the original image using the bounding box\n",
    "    img = image[i[1]:i[3], i[0]:i[2]] #crop to bb\n",
    "    plt.imshow(img)\n",
    "    plt.show()"
   ],
   "metadata": {
    "collapsed": false
   }
  },
  {
   "cell_type": "code",
   "execution_count": null,
   "outputs": [],
   "source": [],
   "metadata": {
    "collapsed": false
   }
  }
 ],
 "metadata": {
  "kernelspec": {
   "name": "python3",
   "language": "python",
   "display_name": "Python 3 (ipykernel)"
  },
  "language_info": {
   "codemirror_mode": {
    "name": "ipython",
    "version": 2
   },
   "file_extension": ".py",
   "mimetype": "text/x-python",
   "name": "python",
   "nbconvert_exporter": "python",
   "pygments_lexer": "ipython2",
   "version": "2.7.6"
  }
 },
 "nbformat": 4,
 "nbformat_minor": 0
}
