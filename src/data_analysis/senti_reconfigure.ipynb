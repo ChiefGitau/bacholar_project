{
 "cells": [
  {
   "cell_type": "code",
   "execution_count": 2,
   "outputs": [],
   "source": [
    "import pandas as pd\n",
    "import ast"
   ],
   "metadata": {
    "collapsed": false,
    "ExecuteTime": {
     "end_time": "2023-09-19T07:46:25.204064806Z",
     "start_time": "2023-09-19T07:46:25.191915248Z"
    }
   }
  },
  {
   "cell_type": "code",
   "execution_count": 3,
   "metadata": {
    "collapsed": true,
    "ExecuteTime": {
     "end_time": "2023-09-19T07:46:26.198995616Z",
     "start_time": "2023-09-19T07:46:26.156130177Z"
    }
   },
   "outputs": [],
   "source": [
    "data_age = pd.read_csv('data_csv/model_1/prompt_4/data_model1.csv')\n",
    "data_senti =pd.read_csv('data_csv/senti/data/prompt_4/data_senti.csv')"
   ]
  },
  {
   "cell_type": "code",
   "execution_count": 4,
   "outputs": [
    {
     "data": {
      "text/plain": "1326"
     },
     "execution_count": 4,
     "metadata": {},
     "output_type": "execute_result"
    }
   ],
   "source": [
    "len(data_age)"
   ],
   "metadata": {
    "collapsed": false,
    "ExecuteTime": {
     "end_time": "2023-09-19T07:46:27.356669687Z",
     "start_time": "2023-09-19T07:46:27.346621262Z"
    }
   }
  },
  {
   "cell_type": "code",
   "execution_count": 5,
   "outputs": [
    {
     "data": {
      "text/plain": "1326"
     },
     "execution_count": 5,
     "metadata": {},
     "output_type": "execute_result"
    }
   ],
   "source": [
    "len(data_senti)"
   ],
   "metadata": {
    "collapsed": false,
    "ExecuteTime": {
     "end_time": "2023-09-19T07:46:28.408067073Z",
     "start_time": "2023-09-19T07:46:28.397585600Z"
    }
   }
  },
  {
   "cell_type": "code",
   "execution_count": 6,
   "outputs": [],
   "source": [
    "base = data_senti.loc[data_senti['generator'] == 'base']"
   ],
   "metadata": {
    "collapsed": false,
    "ExecuteTime": {
     "end_time": "2023-09-19T07:46:32.724676029Z",
     "start_time": "2023-09-19T07:46:32.713917081Z"
    }
   }
  },
  {
   "cell_type": "code",
   "execution_count": 7,
   "outputs": [
    {
     "data": {
      "text/plain": "      Unnamed: 0                                           image_id generator  \\\n1321        1321  https://ik.imagekit.io/seeingthewords/data/bas...      base   \n1322        1322  https://ik.imagekit.io/seeingthewords/data/bas...      base   \n1323        1323  https://ik.imagekit.io/seeingthewords/data/bas...      base   \n1324        1324  https://ik.imagekit.io/seeingthewords/data/bas...      base   \n1325        1325  https://ik.imagekit.io/seeingthewords/data/bas...      base   \n\n                  predict_score  map_diff_score_base_0  map_diff_score_base_1  \\\n1321  [[0.17353764 0.8264624 ]]               0.000000               0.251113   \n1322  [[0.45502028 0.5449797 ]]               0.251113               0.000000   \n1323  [[0.40954685 0.5904532 ]]               0.298877               0.109365   \n1324  [[0.47051495 0.52948505]]               0.180727               0.097464   \n1325  [[0.11765186 0.8823482 ]]               0.089054               0.231208   \n\n      map_diff_score_base_2  map_diff_score_base_3  map_diff_score_base_4  \n1321               0.298877               0.180727               0.089054  \n1322               0.109365               0.097464               0.231208  \n1323               0.000000               0.136140               0.272468  \n1324               0.136140               0.000000               0.154353  \n1325               0.272468               0.154353               0.000000  ",
      "text/html": "<div>\n<style scoped>\n    .dataframe tbody tr th:only-of-type {\n        vertical-align: middle;\n    }\n\n    .dataframe tbody tr th {\n        vertical-align: top;\n    }\n\n    .dataframe thead th {\n        text-align: right;\n    }\n</style>\n<table border=\"1\" class=\"dataframe\">\n  <thead>\n    <tr style=\"text-align: right;\">\n      <th></th>\n      <th>Unnamed: 0</th>\n      <th>image_id</th>\n      <th>generator</th>\n      <th>predict_score</th>\n      <th>map_diff_score_base_0</th>\n      <th>map_diff_score_base_1</th>\n      <th>map_diff_score_base_2</th>\n      <th>map_diff_score_base_3</th>\n      <th>map_diff_score_base_4</th>\n    </tr>\n  </thead>\n  <tbody>\n    <tr>\n      <th>1321</th>\n      <td>1321</td>\n      <td>https://ik.imagekit.io/seeingthewords/data/bas...</td>\n      <td>base</td>\n      <td>[[0.17353764 0.8264624 ]]</td>\n      <td>0.000000</td>\n      <td>0.251113</td>\n      <td>0.298877</td>\n      <td>0.180727</td>\n      <td>0.089054</td>\n    </tr>\n    <tr>\n      <th>1322</th>\n      <td>1322</td>\n      <td>https://ik.imagekit.io/seeingthewords/data/bas...</td>\n      <td>base</td>\n      <td>[[0.45502028 0.5449797 ]]</td>\n      <td>0.251113</td>\n      <td>0.000000</td>\n      <td>0.109365</td>\n      <td>0.097464</td>\n      <td>0.231208</td>\n    </tr>\n    <tr>\n      <th>1323</th>\n      <td>1323</td>\n      <td>https://ik.imagekit.io/seeingthewords/data/bas...</td>\n      <td>base</td>\n      <td>[[0.40954685 0.5904532 ]]</td>\n      <td>0.298877</td>\n      <td>0.109365</td>\n      <td>0.000000</td>\n      <td>0.136140</td>\n      <td>0.272468</td>\n    </tr>\n    <tr>\n      <th>1324</th>\n      <td>1324</td>\n      <td>https://ik.imagekit.io/seeingthewords/data/bas...</td>\n      <td>base</td>\n      <td>[[0.47051495 0.52948505]]</td>\n      <td>0.180727</td>\n      <td>0.097464</td>\n      <td>0.136140</td>\n      <td>0.000000</td>\n      <td>0.154353</td>\n    </tr>\n    <tr>\n      <th>1325</th>\n      <td>1325</td>\n      <td>https://ik.imagekit.io/seeingthewords/data/bas...</td>\n      <td>base</td>\n      <td>[[0.11765186 0.8823482 ]]</td>\n      <td>0.089054</td>\n      <td>0.231208</td>\n      <td>0.272468</td>\n      <td>0.154353</td>\n      <td>0.000000</td>\n    </tr>\n  </tbody>\n</table>\n</div>"
     },
     "execution_count": 7,
     "metadata": {},
     "output_type": "execute_result"
    }
   ],
   "source": [
    "base"
   ],
   "metadata": {
    "collapsed": false,
    "ExecuteTime": {
     "end_time": "2023-09-19T07:46:33.579251544Z",
     "start_time": "2023-09-19T07:46:33.558245009Z"
    }
   }
  },
  {
   "cell_type": "code",
   "execution_count": 8,
   "outputs": [],
   "source": [
    "correction = {'base_1': 'map_diff_score_base_0', 'base_3': 'map_diff_score_base_1',\n",
    "              'base_2': 'map_diff_score_base_2','base_4': 'map_diff_score_base_3', 'base_0': 'map_diff_score_base_4'}\n",
    "\n",
    "base_pred= {}\n",
    "index_pred = [1, 3, 2, 4, 0]"
   ],
   "metadata": {
    "collapsed": false,
    "ExecuteTime": {
     "end_time": "2023-09-19T07:46:35.503451629Z",
     "start_time": "2023-09-19T07:46:35.485818820Z"
    }
   }
  },
  {
   "cell_type": "code",
   "execution_count": 9,
   "outputs": [],
   "source": [
    "el_index = 0\n",
    "for index, row in base.iterrows():\n",
    "    value  = (row['predict_score']).replace('[', '').replace(']', '').split()\n",
    "    name_val = 'base_' + str(index_pred[el_index])\n",
    "    el_index += 1\n",
    "    base_pred[name_val] = value[1]"
   ],
   "metadata": {
    "collapsed": false,
    "ExecuteTime": {
     "end_time": "2023-09-19T07:46:36.718668932Z",
     "start_time": "2023-09-19T07:46:36.707999697Z"
    }
   }
  },
  {
   "cell_type": "code",
   "execution_count": 10,
   "outputs": [
    {
     "data": {
      "text/plain": "{'base_1': '0.8264624',\n 'base_3': '0.5449797',\n 'base_2': '0.5904532',\n 'base_4': '0.52948505',\n 'base_0': '0.8823482'}"
     },
     "execution_count": 10,
     "metadata": {},
     "output_type": "execute_result"
    }
   ],
   "source": [
    "base_pred"
   ],
   "metadata": {
    "collapsed": false,
    "ExecuteTime": {
     "end_time": "2023-09-19T07:46:37.741692722Z",
     "start_time": "2023-09-19T07:46:37.730521631Z"
    }
   }
  },
  {
   "cell_type": "code",
   "execution_count": 11,
   "outputs": [
    {
     "data": {
      "text/plain": "      Unnamed: 0                                           image_id generator  \\\n1321        1321  https://ik.imagekit.io/seeingthewords/data/bas...      base   \n1322        1322  https://ik.imagekit.io/seeingthewords/data/bas...      base   \n1323        1323  https://ik.imagekit.io/seeingthewords/data/bas...      base   \n1324        1324  https://ik.imagekit.io/seeingthewords/data/bas...      base   \n1325        1325  https://ik.imagekit.io/seeingthewords/data/bas...      base   \n\n                  predict_score  map_diff_score_base_0  map_diff_score_base_1  \\\n1321  [[0.17353764 0.8264624 ]]               0.000000               0.251113   \n1322  [[0.45502028 0.5449797 ]]               0.251113               0.000000   \n1323  [[0.40954685 0.5904532 ]]               0.298877               0.109365   \n1324  [[0.47051495 0.52948505]]               0.180727               0.097464   \n1325  [[0.11765186 0.8823482 ]]               0.089054               0.231208   \n\n      map_diff_score_base_2  map_diff_score_base_3  map_diff_score_base_4  \n1321               0.298877               0.180727               0.089054  \n1322               0.109365               0.097464               0.231208  \n1323               0.000000               0.136140               0.272468  \n1324               0.136140               0.000000               0.154353  \n1325               0.272468               0.154353               0.000000  ",
      "text/html": "<div>\n<style scoped>\n    .dataframe tbody tr th:only-of-type {\n        vertical-align: middle;\n    }\n\n    .dataframe tbody tr th {\n        vertical-align: top;\n    }\n\n    .dataframe thead th {\n        text-align: right;\n    }\n</style>\n<table border=\"1\" class=\"dataframe\">\n  <thead>\n    <tr style=\"text-align: right;\">\n      <th></th>\n      <th>Unnamed: 0</th>\n      <th>image_id</th>\n      <th>generator</th>\n      <th>predict_score</th>\n      <th>map_diff_score_base_0</th>\n      <th>map_diff_score_base_1</th>\n      <th>map_diff_score_base_2</th>\n      <th>map_diff_score_base_3</th>\n      <th>map_diff_score_base_4</th>\n    </tr>\n  </thead>\n  <tbody>\n    <tr>\n      <th>1321</th>\n      <td>1321</td>\n      <td>https://ik.imagekit.io/seeingthewords/data/bas...</td>\n      <td>base</td>\n      <td>[[0.17353764 0.8264624 ]]</td>\n      <td>0.000000</td>\n      <td>0.251113</td>\n      <td>0.298877</td>\n      <td>0.180727</td>\n      <td>0.089054</td>\n    </tr>\n    <tr>\n      <th>1322</th>\n      <td>1322</td>\n      <td>https://ik.imagekit.io/seeingthewords/data/bas...</td>\n      <td>base</td>\n      <td>[[0.45502028 0.5449797 ]]</td>\n      <td>0.251113</td>\n      <td>0.000000</td>\n      <td>0.109365</td>\n      <td>0.097464</td>\n      <td>0.231208</td>\n    </tr>\n    <tr>\n      <th>1323</th>\n      <td>1323</td>\n      <td>https://ik.imagekit.io/seeingthewords/data/bas...</td>\n      <td>base</td>\n      <td>[[0.40954685 0.5904532 ]]</td>\n      <td>0.298877</td>\n      <td>0.109365</td>\n      <td>0.000000</td>\n      <td>0.136140</td>\n      <td>0.272468</td>\n    </tr>\n    <tr>\n      <th>1324</th>\n      <td>1324</td>\n      <td>https://ik.imagekit.io/seeingthewords/data/bas...</td>\n      <td>base</td>\n      <td>[[0.47051495 0.52948505]]</td>\n      <td>0.180727</td>\n      <td>0.097464</td>\n      <td>0.136140</td>\n      <td>0.000000</td>\n      <td>0.154353</td>\n    </tr>\n    <tr>\n      <th>1325</th>\n      <td>1325</td>\n      <td>https://ik.imagekit.io/seeingthewords/data/bas...</td>\n      <td>base</td>\n      <td>[[0.11765186 0.8823482 ]]</td>\n      <td>0.089054</td>\n      <td>0.231208</td>\n      <td>0.272468</td>\n      <td>0.154353</td>\n      <td>0.000000</td>\n    </tr>\n  </tbody>\n</table>\n</div>"
     },
     "execution_count": 11,
     "metadata": {},
     "output_type": "execute_result"
    }
   ],
   "source": [
    "base"
   ],
   "metadata": {
    "collapsed": false,
    "ExecuteTime": {
     "end_time": "2023-09-19T07:46:39.003709587Z",
     "start_time": "2023-09-19T07:46:38.990443853Z"
    }
   }
  },
  {
   "cell_type": "code",
   "execution_count": 12,
   "outputs": [],
   "source": [
    "df = data_senti\n",
    "\n",
    "stab = df[df['generator'] == 'stabilityai']\n",
    "sg= df[df['generator'] == 'SG161222']\n",
    "run = df[df['generator'] == 'runwayml']\n",
    "prompt = df[df['generator'] == 'prompthero']\n",
    "nit = df[df['generator'] == 'nitrosocke']\n",
    "mid = df[df['generator'] == 'mid_journey']\n",
    "dall = df[df['generator'] == 'dall_e_2']\n",
    "dream = df[df['generator'] == 'dream']\n",
    "CompVis = df[df['generator'] == 'CompVis']\n",
    "base = df[df['generator'] == 'base']\n",
    "\n",
    "\n",
    "df_sub = [base, CompVis, dream, dall, mid, nit, prompt, run, sg, stab]\n",
    "value_string = ['base', 'CompVis', 'dream','dall_e_2', 'mid_journey', 'nitrosocke', 'prompthero', 'runwayml','SG161222' , 'stabilityai']\n"
   ],
   "metadata": {
    "collapsed": false,
    "ExecuteTime": {
     "end_time": "2023-09-19T07:46:41.298761836Z",
     "start_time": "2023-09-19T07:46:41.291200152Z"
    }
   }
  },
  {
   "cell_type": "code",
   "execution_count": 13,
   "outputs": [
    {
     "name": "stderr",
     "output_type": "stream",
     "text": [
      "/tmp/ipykernel_119592/3453605098.py:15: FutureWarning: The frame.append method is deprecated and will be removed from pandas in a future version. Use pandas.concat instead.\n",
      "  df_final = df_final.append(df_check)\n",
      "/tmp/ipykernel_119592/3453605098.py:15: FutureWarning: The frame.append method is deprecated and will be removed from pandas in a future version. Use pandas.concat instead.\n",
      "  df_final = df_final.append(df_check)\n",
      "/tmp/ipykernel_119592/3453605098.py:15: FutureWarning: The frame.append method is deprecated and will be removed from pandas in a future version. Use pandas.concat instead.\n",
      "  df_final = df_final.append(df_check)\n",
      "/tmp/ipykernel_119592/3453605098.py:15: FutureWarning: The frame.append method is deprecated and will be removed from pandas in a future version. Use pandas.concat instead.\n",
      "  df_final = df_final.append(df_check)\n",
      "/tmp/ipykernel_119592/3453605098.py:15: FutureWarning: The frame.append method is deprecated and will be removed from pandas in a future version. Use pandas.concat instead.\n",
      "  df_final = df_final.append(df_check)\n",
      "/tmp/ipykernel_119592/3453605098.py:15: FutureWarning: The frame.append method is deprecated and will be removed from pandas in a future version. Use pandas.concat instead.\n",
      "  df_final = df_final.append(df_check)\n",
      "/tmp/ipykernel_119592/3453605098.py:15: FutureWarning: The frame.append method is deprecated and will be removed from pandas in a future version. Use pandas.concat instead.\n",
      "  df_final = df_final.append(df_check)\n",
      "/tmp/ipykernel_119592/3453605098.py:15: FutureWarning: The frame.append method is deprecated and will be removed from pandas in a future version. Use pandas.concat instead.\n",
      "  df_final = df_final.append(df_check)\n",
      "/tmp/ipykernel_119592/3453605098.py:15: FutureWarning: The frame.append method is deprecated and will be removed from pandas in a future version. Use pandas.concat instead.\n",
      "  df_final = df_final.append(df_check)\n",
      "/tmp/ipykernel_119592/3453605098.py:15: FutureWarning: The frame.append method is deprecated and will be removed from pandas in a future version. Use pandas.concat instead.\n",
      "  df_final = df_final.append(df_check)\n"
     ]
    }
   ],
   "source": [
    "df_cols = ['generator', 'base_0', 'base_1', 'base_2', 'base_3', 'base_4']\n",
    "df_final = pd.DataFrame(columns=df_cols)\n",
    "for value_name, mode in enumerate(df_sub):\n",
    "    row_el= {'generator':value_string[value_name] }\n",
    "    df_check = pd.DataFrame(columns=df_cols)\n",
    "    for index, row in mode.iterrows():\n",
    "        value_pred = (row['predict_score']).replace('[', '').replace(']', '').split()\n",
    "        row_el['base_1'] = abs(float(row['map_diff_score_base_0'])+ abs(float(value_pred[1]) - float(base_pred['base_1'])))/2\n",
    "        row_el['base_3'] = abs(float(row['map_diff_score_base_1'])+ abs(float(value_pred[1]) - float(base_pred['base_3'])))/2\n",
    "        row_el['base_2'] = abs(float(row['map_diff_score_base_2'])+ abs(float(value_pred[1]) - float(base_pred['base_2'])))/2\n",
    "        row_el['base_4'] = abs(float(row['map_diff_score_base_3'])+ abs(float(value_pred[1]) - float(base_pred['base_4'])))/2\n",
    "        row_el['base_0'] = abs(float(row['map_diff_score_base_4'])+ abs(float(value_pred[1]) - float(base_pred['base_0'])))/2\n",
    "\n",
    "        df_check.loc[row[\"image_id\"]] =  row_el\n",
    "    df_final = df_final.append(df_check)\n",
    "\n"
   ],
   "metadata": {
    "collapsed": false,
    "ExecuteTime": {
     "end_time": "2023-09-19T07:46:46.390841853Z",
     "start_time": "2023-09-19T07:46:44.644445225Z"
    }
   }
  },
  {
   "cell_type": "code",
   "execution_count": 14,
   "outputs": [
    {
     "data": {
      "text/plain": "                                                      generator    base_0  \\\nhttps://ik.imagekit.io/seeingthewords/data/base...         base   0.07247   \nhttps://ik.imagekit.io/seeingthewords/data/base...         base  0.284288   \nhttps://ik.imagekit.io/seeingthewords/data/base...         base  0.282182   \nhttps://ik.imagekit.io/seeingthewords/data/base...         base  0.253608   \nhttps://ik.imagekit.io/seeingthewords/data/base...         base       0.0   \n...                                                         ...       ...   \nhttps://ik.imagekit.io/seeingthewords/data/stab...  stabilityai  0.066015   \nhttps://ik.imagekit.io/seeingthewords/data/stab...  stabilityai  0.080029   \nhttps://ik.imagekit.io/seeingthewords/data/stab...  stabilityai  0.186613   \nhttps://ik.imagekit.io/seeingthewords/data/stab...  stabilityai  0.203334   \nhttps://ik.imagekit.io/seeingthewords/data/stab...  stabilityai  0.202937   \n\n                                                      base_1    base_2  \\\nhttps://ik.imagekit.io/seeingthewords/data/base...       0.0  0.267443   \nhttps://ik.imagekit.io/seeingthewords/data/base...  0.266298  0.077419   \nhttps://ik.imagekit.io/seeingthewords/data/base...  0.267443       0.0   \nhttps://ik.imagekit.io/seeingthewords/data/base...  0.238852  0.098554   \nhttps://ik.imagekit.io/seeingthewords/data/base...   0.07247  0.282182   \n...                                                      ...       ...   \nhttps://ik.imagekit.io/seeingthewords/data/stab...  0.023093  0.260226   \nhttps://ik.imagekit.io/seeingthewords/data/stab...   0.08197  0.349413   \nhttps://ik.imagekit.io/seeingthewords/data/stab...  0.166484  0.107352   \nhttps://ik.imagekit.io/seeingthewords/data/stab...  0.164831  0.112114   \nhttps://ik.imagekit.io/seeingthewords/data/stab...  0.184168  0.119044   \n\n                                                      base_3    base_4  \nhttps://ik.imagekit.io/seeingthewords/data/base...  0.266298  0.238852  \nhttps://ik.imagekit.io/seeingthewords/data/base...       0.0  0.056479  \nhttps://ik.imagekit.io/seeingthewords/data/base...  0.077419  0.098554  \nhttps://ik.imagekit.io/seeingthewords/data/base...  0.056479       0.0  \nhttps://ik.imagekit.io/seeingthewords/data/base...  0.284288  0.253608  \n...                                                      ...       ...  \nhttps://ik.imagekit.io/seeingthewords/data/stab...  0.260559  0.231635  \nhttps://ik.imagekit.io/seeingthewords/data/stab...  0.347871  0.320822  \nhttps://ik.imagekit.io/seeingthewords/data/stab...  0.107361  0.075533  \nhttps://ik.imagekit.io/seeingthewords/data/stab...  0.103806  0.075953  \nhttps://ik.imagekit.io/seeingthewords/data/stab...  0.095295  0.064511  \n\n[1326 rows x 6 columns]",
      "text/html": "<div>\n<style scoped>\n    .dataframe tbody tr th:only-of-type {\n        vertical-align: middle;\n    }\n\n    .dataframe tbody tr th {\n        vertical-align: top;\n    }\n\n    .dataframe thead th {\n        text-align: right;\n    }\n</style>\n<table border=\"1\" class=\"dataframe\">\n  <thead>\n    <tr style=\"text-align: right;\">\n      <th></th>\n      <th>generator</th>\n      <th>base_0</th>\n      <th>base_1</th>\n      <th>base_2</th>\n      <th>base_3</th>\n      <th>base_4</th>\n    </tr>\n  </thead>\n  <tbody>\n    <tr>\n      <th>https://ik.imagekit.io/seeingthewords/data/base/prompt_1/base_2.jpg</th>\n      <td>base</td>\n      <td>0.07247</td>\n      <td>0.0</td>\n      <td>0.267443</td>\n      <td>0.266298</td>\n      <td>0.238852</td>\n    </tr>\n    <tr>\n      <th>https://ik.imagekit.io/seeingthewords/data/base/prompt_1/base_3.jpg</th>\n      <td>base</td>\n      <td>0.284288</td>\n      <td>0.266298</td>\n      <td>0.077419</td>\n      <td>0.0</td>\n      <td>0.056479</td>\n    </tr>\n    <tr>\n      <th>https://ik.imagekit.io/seeingthewords/data/base/prompt_1/base_1.jpg</th>\n      <td>base</td>\n      <td>0.282182</td>\n      <td>0.267443</td>\n      <td>0.0</td>\n      <td>0.077419</td>\n      <td>0.098554</td>\n    </tr>\n    <tr>\n      <th>https://ik.imagekit.io/seeingthewords/data/base/prompt_1/base_0.jpg</th>\n      <td>base</td>\n      <td>0.253608</td>\n      <td>0.238852</td>\n      <td>0.098554</td>\n      <td>0.056479</td>\n      <td>0.0</td>\n    </tr>\n    <tr>\n      <th>https://ik.imagekit.io/seeingthewords/data/base/prompt_1/base_4.jpg</th>\n      <td>base</td>\n      <td>0.0</td>\n      <td>0.07247</td>\n      <td>0.282182</td>\n      <td>0.284288</td>\n      <td>0.253608</td>\n    </tr>\n    <tr>\n      <th>...</th>\n      <td>...</td>\n      <td>...</td>\n      <td>...</td>\n      <td>...</td>\n      <td>...</td>\n      <td>...</td>\n    </tr>\n    <tr>\n      <th>https://ik.imagekit.io/seeingthewords/data/stabilityai/prompt_1/SD-STABLILITY-P1-33.jpg</th>\n      <td>stabilityai</td>\n      <td>0.066015</td>\n      <td>0.023093</td>\n      <td>0.260226</td>\n      <td>0.260559</td>\n      <td>0.231635</td>\n    </tr>\n    <tr>\n      <th>https://ik.imagekit.io/seeingthewords/data/stabilityai/prompt_1/SD-STABLILITY-P1-14.jpg</th>\n      <td>stabilityai</td>\n      <td>0.080029</td>\n      <td>0.08197</td>\n      <td>0.349413</td>\n      <td>0.347871</td>\n      <td>0.320822</td>\n    </tr>\n    <tr>\n      <th>https://ik.imagekit.io/seeingthewords/data/stabilityai/prompt_1/SD-STABLILITY-P1-197.jpg</th>\n      <td>stabilityai</td>\n      <td>0.186613</td>\n      <td>0.166484</td>\n      <td>0.107352</td>\n      <td>0.107361</td>\n      <td>0.075533</td>\n    </tr>\n    <tr>\n      <th>https://ik.imagekit.io/seeingthewords/data/stabilityai/prompt_1/SD-STABLILITY-P1-27.jpg</th>\n      <td>stabilityai</td>\n      <td>0.203334</td>\n      <td>0.164831</td>\n      <td>0.112114</td>\n      <td>0.103806</td>\n      <td>0.075953</td>\n    </tr>\n    <tr>\n      <th>https://ik.imagekit.io/seeingthewords/data/stabilityai/prompt_1/SD-STABLILITY-P1-141.jpg</th>\n      <td>stabilityai</td>\n      <td>0.202937</td>\n      <td>0.184168</td>\n      <td>0.119044</td>\n      <td>0.095295</td>\n      <td>0.064511</td>\n    </tr>\n  </tbody>\n</table>\n<p>1326 rows × 6 columns</p>\n</div>"
     },
     "execution_count": 14,
     "metadata": {},
     "output_type": "execute_result"
    }
   ],
   "source": [
    "df_final"
   ],
   "metadata": {
    "collapsed": false,
    "ExecuteTime": {
     "end_time": "2023-09-19T07:46:48.065715382Z",
     "start_time": "2023-09-19T07:46:48.055134897Z"
    }
   }
  },
  {
   "cell_type": "code",
   "execution_count": 15,
   "outputs": [],
   "source": [
    "df_final.to_csv(\"data_csv/senti/data/prompt_4/data_model3.csv\")"
   ],
   "metadata": {
    "collapsed": false,
    "ExecuteTime": {
     "end_time": "2023-09-19T07:46:49.652857144Z",
     "start_time": "2023-09-19T07:46:49.609658246Z"
    }
   }
  },
  {
   "cell_type": "code",
   "execution_count": 15,
   "outputs": [],
   "source": [],
   "metadata": {
    "collapsed": false,
    "ExecuteTime": {
     "end_time": "2023-09-19T07:46:51.124048560Z",
     "start_time": "2023-09-19T07:46:51.110969281Z"
    }
   }
  },
  {
   "cell_type": "code",
   "execution_count": 16,
   "outputs": [
    {
     "name": "stderr",
     "output_type": "stream",
     "text": [
      "/tmp/ipykernel_119592/1706021079.py:10: FutureWarning: The frame.append method is deprecated and will be removed from pandas in a future version. Use pandas.concat instead.\n",
      "  df_final_graph = df_final_graph.append(df_check_graph)\n",
      "/tmp/ipykernel_119592/1706021079.py:10: FutureWarning: The frame.append method is deprecated and will be removed from pandas in a future version. Use pandas.concat instead.\n",
      "  df_final_graph = df_final_graph.append(df_check_graph)\n",
      "/tmp/ipykernel_119592/1706021079.py:10: FutureWarning: The frame.append method is deprecated and will be removed from pandas in a future version. Use pandas.concat instead.\n",
      "  df_final_graph = df_final_graph.append(df_check_graph)\n",
      "/tmp/ipykernel_119592/1706021079.py:10: FutureWarning: The frame.append method is deprecated and will be removed from pandas in a future version. Use pandas.concat instead.\n",
      "  df_final_graph = df_final_graph.append(df_check_graph)\n",
      "/tmp/ipykernel_119592/1706021079.py:10: FutureWarning: The frame.append method is deprecated and will be removed from pandas in a future version. Use pandas.concat instead.\n",
      "  df_final_graph = df_final_graph.append(df_check_graph)\n",
      "/tmp/ipykernel_119592/1706021079.py:10: FutureWarning: The frame.append method is deprecated and will be removed from pandas in a future version. Use pandas.concat instead.\n",
      "  df_final_graph = df_final_graph.append(df_check_graph)\n",
      "/tmp/ipykernel_119592/1706021079.py:10: FutureWarning: The frame.append method is deprecated and will be removed from pandas in a future version. Use pandas.concat instead.\n",
      "  df_final_graph = df_final_graph.append(df_check_graph)\n",
      "/tmp/ipykernel_119592/1706021079.py:10: FutureWarning: The frame.append method is deprecated and will be removed from pandas in a future version. Use pandas.concat instead.\n",
      "  df_final_graph = df_final_graph.append(df_check_graph)\n",
      "/tmp/ipykernel_119592/1706021079.py:10: FutureWarning: The frame.append method is deprecated and will be removed from pandas in a future version. Use pandas.concat instead.\n",
      "  df_final_graph = df_final_graph.append(df_check_graph)\n",
      "/tmp/ipykernel_119592/1706021079.py:10: FutureWarning: The frame.append method is deprecated and will be removed from pandas in a future version. Use pandas.concat instead.\n",
      "  df_final_graph = df_final_graph.append(df_check_graph)\n"
     ]
    }
   ],
   "source": [
    "df_cols = ['generator', 'pred']\n",
    "df_final_graph = pd.DataFrame(columns=df_cols)\n",
    "for value_name, mode in enumerate(df_sub):\n",
    "    row_el_pred= {'generator':value_string[value_name] }\n",
    "    df_check_graph = pd.DataFrame(columns=df_cols)\n",
    "    for index, row in mode.iterrows():\n",
    "        value_pred = (row['predict_score']).replace('[', '').replace(']', '').split()\n",
    "        row_el_pred['pred'] = float(value_pred[1])\n",
    "        df_check_graph.loc[row[\"image_id\"]] =  row_el_pred\n",
    "    df_final_graph = df_final_graph.append(df_check_graph)"
   ],
   "metadata": {
    "collapsed": false,
    "ExecuteTime": {
     "end_time": "2023-09-19T07:46:59.287904341Z",
     "start_time": "2023-09-19T07:46:58.150230811Z"
    }
   }
  },
  {
   "cell_type": "code",
   "execution_count": 17,
   "outputs": [
    {
     "data": {
      "text/plain": "                                                      generator      pred\nhttps://ik.imagekit.io/seeingthewords/data/base...         base  0.826462\nhttps://ik.imagekit.io/seeingthewords/data/base...         base   0.54498\nhttps://ik.imagekit.io/seeingthewords/data/base...         base  0.590453\nhttps://ik.imagekit.io/seeingthewords/data/base...         base  0.529485\nhttps://ik.imagekit.io/seeingthewords/data/base...         base  0.882348\n...                                                         ...       ...\nhttps://ik.imagekit.io/seeingthewords/data/stab...  stabilityai  0.819037\nhttps://ik.imagekit.io/seeingthewords/data/stab...  stabilityai   0.92071\nhttps://ik.imagekit.io/seeingthewords/data/stab...  stabilityai  0.632277\nhttps://ik.imagekit.io/seeingthewords/data/stab...  stabilityai  0.580951\nhttps://ik.imagekit.io/seeingthewords/data/stab...  stabilityai  0.564491\n\n[1326 rows x 2 columns]",
      "text/html": "<div>\n<style scoped>\n    .dataframe tbody tr th:only-of-type {\n        vertical-align: middle;\n    }\n\n    .dataframe tbody tr th {\n        vertical-align: top;\n    }\n\n    .dataframe thead th {\n        text-align: right;\n    }\n</style>\n<table border=\"1\" class=\"dataframe\">\n  <thead>\n    <tr style=\"text-align: right;\">\n      <th></th>\n      <th>generator</th>\n      <th>pred</th>\n    </tr>\n  </thead>\n  <tbody>\n    <tr>\n      <th>https://ik.imagekit.io/seeingthewords/data/base/prompt_1/base_2.jpg</th>\n      <td>base</td>\n      <td>0.826462</td>\n    </tr>\n    <tr>\n      <th>https://ik.imagekit.io/seeingthewords/data/base/prompt_1/base_3.jpg</th>\n      <td>base</td>\n      <td>0.54498</td>\n    </tr>\n    <tr>\n      <th>https://ik.imagekit.io/seeingthewords/data/base/prompt_1/base_1.jpg</th>\n      <td>base</td>\n      <td>0.590453</td>\n    </tr>\n    <tr>\n      <th>https://ik.imagekit.io/seeingthewords/data/base/prompt_1/base_0.jpg</th>\n      <td>base</td>\n      <td>0.529485</td>\n    </tr>\n    <tr>\n      <th>https://ik.imagekit.io/seeingthewords/data/base/prompt_1/base_4.jpg</th>\n      <td>base</td>\n      <td>0.882348</td>\n    </tr>\n    <tr>\n      <th>...</th>\n      <td>...</td>\n      <td>...</td>\n    </tr>\n    <tr>\n      <th>https://ik.imagekit.io/seeingthewords/data/stabilityai/prompt_1/SD-STABLILITY-P1-33.jpg</th>\n      <td>stabilityai</td>\n      <td>0.819037</td>\n    </tr>\n    <tr>\n      <th>https://ik.imagekit.io/seeingthewords/data/stabilityai/prompt_1/SD-STABLILITY-P1-14.jpg</th>\n      <td>stabilityai</td>\n      <td>0.92071</td>\n    </tr>\n    <tr>\n      <th>https://ik.imagekit.io/seeingthewords/data/stabilityai/prompt_1/SD-STABLILITY-P1-197.jpg</th>\n      <td>stabilityai</td>\n      <td>0.632277</td>\n    </tr>\n    <tr>\n      <th>https://ik.imagekit.io/seeingthewords/data/stabilityai/prompt_1/SD-STABLILITY-P1-27.jpg</th>\n      <td>stabilityai</td>\n      <td>0.580951</td>\n    </tr>\n    <tr>\n      <th>https://ik.imagekit.io/seeingthewords/data/stabilityai/prompt_1/SD-STABLILITY-P1-141.jpg</th>\n      <td>stabilityai</td>\n      <td>0.564491</td>\n    </tr>\n  </tbody>\n</table>\n<p>1326 rows × 2 columns</p>\n</div>"
     },
     "execution_count": 17,
     "metadata": {},
     "output_type": "execute_result"
    }
   ],
   "source": [
    "df_final_graph"
   ],
   "metadata": {
    "collapsed": false,
    "ExecuteTime": {
     "end_time": "2023-09-19T07:47:02.467099580Z",
     "start_time": "2023-09-19T07:47:02.453303983Z"
    }
   }
  },
  {
   "cell_type": "code",
   "execution_count": 26,
   "outputs": [
    {
     "name": "stderr",
     "output_type": "stream",
     "text": [
      "/usr/local/lib/python3.8/dist-packages/matplotlib/cbook/__init__.py:1220: RuntimeWarning: invalid value encountered in less_equal\n",
      "  wiskhi = x[x <= hival]\n",
      "/usr/local/lib/python3.8/dist-packages/matplotlib/cbook/__init__.py:1227: RuntimeWarning: invalid value encountered in greater_equal\n",
      "  wisklo = x[x >= loval]\n",
      "/usr/local/lib/python3.8/dist-packages/matplotlib/cbook/__init__.py:1235: RuntimeWarning: invalid value encountered in less\n",
      "  x[x < stats['whislo']],\n",
      "/usr/local/lib/python3.8/dist-packages/matplotlib/cbook/__init__.py:1236: RuntimeWarning: invalid value encountered in greater\n",
      "  x[x > stats['whishi']],\n"
     ]
    },
    {
     "data": {
      "text/plain": "<Figure size 1080x504 with 1 Axes>",
      "image/png": "[encoded data removed]"
     },
     "metadata": {},
     "output_type": "display_data"
    }
   ],
   "source": [
    "import matplotlib.pyplot as plt\n",
    "colours = {'base': 'blue', 'dall_e_2': 'green', 'mid_journey': 'coral',  'dream':'cyan', 'CompVis': 'magenta', 'stabilityai': 'yellow',  'nitrosocke':'pink', 'prompthero': 'teal', 'runwayml': 'lightyellow', 'SG161222': 'slategrey' }\n",
    "\n",
    "def get_colours(color_list):\n",
    "    temp_color_list = []\n",
    "    for color  in color_list:\n",
    "        temp_color_list.append(colours[color])\n",
    "    return temp_color_list\n",
    "\n",
    "data_1 = df_final_graph.loc[df_final_graph['generator'] == 'base']['pred']\n",
    "data_2 = df_final_graph.loc[df_final_graph['generator'] == 'dall_e_2']['pred']\n",
    "data_3 = df_final_graph.loc[df_final_graph['generator'] == 'mid_journey']['pred']\n",
    "data_4 = df_final_graph.loc[df_final_graph['generator'] == 'dream']['pred']\n",
    "data_5 = df_final_graph.loc[df_final_graph['generator'] == 'CompVis']['pred']\n",
    "data_6 = df_final_graph.loc[df_final_graph['generator'] == 'stabilityai']['pred']\n",
    "data_7 = df_final_graph.loc[df_final_graph['generator'] == 'nitrosocke']['pred']\n",
    "data_8 = df_final_graph.loc[df_final_graph['generator'] == 'prompthero']['pred']\n",
    "data_9 = df_final_graph.loc[df_final_graph['generator'] == 'runwayml']['pred']\n",
    "data_10 = df_final_graph.loc[df_final_graph['generator'] == 'SG161222']['pred']\n",
    "data = [data_1, data_2, data_3, data_4, data_5, data_6, data_7, data_8, data_9, data_10]\n",
    "\n",
    "fig = plt.figure(figsize =(10, 7))\n",
    "ax = fig.add_subplot(111)\n",
    "\n",
    "# Creating axes instance\n",
    "bp = ax.boxplot(data, patch_artist = True, vert = 0)\n",
    "\n",
    "name_id = ['base', 'dall_e_2', 'mid_journey', 'dream', 'CompVis', 'stabilityai', 'nitrosocke','prompthero', 'runwayml','SG161222' ]\n",
    "\n",
    "for patch, color in zip(bp['boxes'], get_colours(name_id)):\n",
    "    patch.set_facecolor(color)\n",
    "\n",
    "# changing color and linewidth of\n",
    "# whiskers\n",
    "for whisker in bp['whiskers']:\n",
    "    whisker.set(color ='#8B008B',\n",
    "                linewidth = 1.5,\n",
    "                linestyle =\":\")\n",
    "\n",
    "# changing color and linewidth of\n",
    "# caps\n",
    "for cap in bp['caps']:\n",
    "    cap.set(color ='#8B008B',\n",
    "            linewidth = 2)\n",
    "\n",
    "# changing color and linewidth of\n",
    "# medians\n",
    "for median in bp['medians']:\n",
    "    median.set(color ='red',\n",
    "               linewidth = 3)\n",
    "\n",
    "# # changing style of fliers\n",
    "# for flier in bp['fliers']:\n",
    "#     flier.set(marker ='D',\n",
    "#               color ='#e7298a',\n",
    "#               alpha = 0.5)\n",
    "\n",
    "# x-axis labels\n",
    "ax.set_yticklabels(name_id)\n",
    "ax.set_xlabel('Sentimenal value [0 negative, 1 positive]')\n",
    "\n",
    "# Adding title\n",
    "plt.title(\"Sentamental Score\")\n",
    "\n",
    "# Removing top axes and right axes\n",
    "# ticks\n",
    "ax.get_xaxis().tick_bottom()\n",
    "ax.get_yaxis().tick_left()"
   ],
   "metadata": {
    "collapsed": false,
    "ExecuteTime": {
     "end_time": "2023-09-19T08:00:02.543839228Z",
     "start_time": "2023-09-19T08:00:02.404865278Z"
    }
   }
  },
  {
   "cell_type": "code",
   "execution_count": 73,
   "outputs": [],
   "source": [],
   "metadata": {
    "collapsed": false,
    "ExecuteTime": {
     "end_time": "2023-07-27T03:33:36.455354499Z",
     "start_time": "2023-07-27T03:33:36.428513550Z"
    }
   }
  },
  {
   "cell_type": "code",
   "execution_count": null,
   "outputs": [],
   "source": [],
   "metadata": {
    "collapsed": false
   }
  }
 ],
 "metadata": {
  "kernelspec": {
   "display_name": "Python 3",
   "language": "python",
   "name": "python3"
  },
  "language_info": {
   "codemirror_mode": {
    "name": "ipython",
    "version": 2
   },
   "file_extension": ".py",
   "mimetype": "text/x-python",
   "name": "python",
   "nbconvert_exporter": "python",
   "pygments_lexer": "ipython2",
   "version": "2.7.6"
  }
 },
 "nbformat": 4,
 "nbformat_minor": 0
}
