{
 "cells": [
  {
   "cell_type": "code",
   "execution_count": 20,
   "metadata": {
    "collapsed": true,
    "ExecuteTime": {
     "end_time": "2023-07-27T03:33:01.272593093Z",
     "start_time": "2023-07-27T03:33:01.216152857Z"
    }
   },
   "outputs": [],
   "source": [
    "import pandas as pd"
   ]
  },
  {
   "cell_type": "code",
   "execution_count": 21,
   "outputs": [],
   "source": [
    "data_age = pd.read_csv('data_csv/model_1/prompt_4/data_model1.csv', index_col = False)\n",
    "data_senti =pd.read_csv('data_csv/senti/data/prompt_4/data_model3.csv', index_col = False)\n"
   ],
   "metadata": {
    "collapsed": false,
    "ExecuteTime": {
     "end_time": "2023-07-27T03:33:01.629448885Z",
     "start_time": "2023-07-27T03:33:01.614653749Z"
    }
   }
  },
  {
   "cell_type": "code",
   "execution_count": 21,
   "outputs": [],
   "source": [],
   "metadata": {
    "collapsed": false,
    "ExecuteTime": {
     "end_time": "2023-07-27T03:33:01.996249157Z",
     "start_time": "2023-07-27T03:33:01.992400245Z"
    }
   }
  },
  {
   "cell_type": "code",
   "execution_count": 22,
   "outputs": [
    {
     "data": {
      "text/plain": "                                             Unnamed: 0    generator  \\\n0     https://ik.imagekit.io/seeingthewords/data/bas...         base   \n1     https://ik.imagekit.io/seeingthewords/data/bas...         base   \n2     https://ik.imagekit.io/seeingthewords/data/bas...         base   \n3     https://ik.imagekit.io/seeingthewords/data/bas...         base   \n4     https://ik.imagekit.io/seeingthewords/data/bas...         base   \n...                                                 ...          ...   \n1302  https://ik.imagekit.io/seeingthewords/data/sta...  stabilityai   \n1303  https://ik.imagekit.io/seeingthewords/data/sta...  stabilityai   \n1304  https://ik.imagekit.io/seeingthewords/data/sta...  stabilityai   \n1305  https://ik.imagekit.io/seeingthewords/data/sta...  stabilityai   \n1306  https://ik.imagekit.io/seeingthewords/data/sta...  stabilityai   \n\n        base_0    base_1    base_2    base_3    base_4  \n0     0.358435  0.000000  0.390822  0.325258  0.179066  \n1     0.056176  0.325258  0.091976  0.000000  0.159452  \n2     0.068926  0.390822  0.000000  0.091976  0.238925  \n3     0.196116  0.179066  0.238925  0.159452  0.000000  \n4     0.000000  0.358435  0.068926  0.056176  0.196116  \n...        ...       ...       ...       ...       ...  \n1302  0.062611  0.312502  0.109914  0.053566  0.143503  \n1303  0.084947  0.312825  0.124866  0.055634  0.140676  \n1304  0.071760  0.320610  0.110231  0.037654  0.172905  \n1305  0.071623  0.417441  0.037095  0.098573  0.239825  \n1306  0.090461  0.280508  0.124497  0.047621  0.145790  \n\n[1307 rows x 7 columns]",
      "text/html": "<div>\n<style scoped>\n    .dataframe tbody tr th:only-of-type {\n        vertical-align: middle;\n    }\n\n    .dataframe tbody tr th {\n        vertical-align: top;\n    }\n\n    .dataframe thead th {\n        text-align: right;\n    }\n</style>\n<table border=\"1\" class=\"dataframe\">\n  <thead>\n    <tr style=\"text-align: right;\">\n      <th></th>\n      <th>Unnamed: 0</th>\n      <th>generator</th>\n      <th>base_0</th>\n      <th>base_1</th>\n      <th>base_2</th>\n      <th>base_3</th>\n      <th>base_4</th>\n    </tr>\n  </thead>\n  <tbody>\n    <tr>\n      <th>0</th>\n      <td>https://ik.imagekit.io/seeingthewords/data/bas...</td>\n      <td>base</td>\n      <td>0.358435</td>\n      <td>0.000000</td>\n      <td>0.390822</td>\n      <td>0.325258</td>\n      <td>0.179066</td>\n    </tr>\n    <tr>\n      <th>1</th>\n      <td>https://ik.imagekit.io/seeingthewords/data/bas...</td>\n      <td>base</td>\n      <td>0.056176</td>\n      <td>0.325258</td>\n      <td>0.091976</td>\n      <td>0.000000</td>\n      <td>0.159452</td>\n    </tr>\n    <tr>\n      <th>2</th>\n      <td>https://ik.imagekit.io/seeingthewords/data/bas...</td>\n      <td>base</td>\n      <td>0.068926</td>\n      <td>0.390822</td>\n      <td>0.000000</td>\n      <td>0.091976</td>\n      <td>0.238925</td>\n    </tr>\n    <tr>\n      <th>3</th>\n      <td>https://ik.imagekit.io/seeingthewords/data/bas...</td>\n      <td>base</td>\n      <td>0.196116</td>\n      <td>0.179066</td>\n      <td>0.238925</td>\n      <td>0.159452</td>\n      <td>0.000000</td>\n    </tr>\n    <tr>\n      <th>4</th>\n      <td>https://ik.imagekit.io/seeingthewords/data/bas...</td>\n      <td>base</td>\n      <td>0.000000</td>\n      <td>0.358435</td>\n      <td>0.068926</td>\n      <td>0.056176</td>\n      <td>0.196116</td>\n    </tr>\n    <tr>\n      <th>...</th>\n      <td>...</td>\n      <td>...</td>\n      <td>...</td>\n      <td>...</td>\n      <td>...</td>\n      <td>...</td>\n      <td>...</td>\n    </tr>\n    <tr>\n      <th>1302</th>\n      <td>https://ik.imagekit.io/seeingthewords/data/sta...</td>\n      <td>stabilityai</td>\n      <td>0.062611</td>\n      <td>0.312502</td>\n      <td>0.109914</td>\n      <td>0.053566</td>\n      <td>0.143503</td>\n    </tr>\n    <tr>\n      <th>1303</th>\n      <td>https://ik.imagekit.io/seeingthewords/data/sta...</td>\n      <td>stabilityai</td>\n      <td>0.084947</td>\n      <td>0.312825</td>\n      <td>0.124866</td>\n      <td>0.055634</td>\n      <td>0.140676</td>\n    </tr>\n    <tr>\n      <th>1304</th>\n      <td>https://ik.imagekit.io/seeingthewords/data/sta...</td>\n      <td>stabilityai</td>\n      <td>0.071760</td>\n      <td>0.320610</td>\n      <td>0.110231</td>\n      <td>0.037654</td>\n      <td>0.172905</td>\n    </tr>\n    <tr>\n      <th>1305</th>\n      <td>https://ik.imagekit.io/seeingthewords/data/sta...</td>\n      <td>stabilityai</td>\n      <td>0.071623</td>\n      <td>0.417441</td>\n      <td>0.037095</td>\n      <td>0.098573</td>\n      <td>0.239825</td>\n    </tr>\n    <tr>\n      <th>1306</th>\n      <td>https://ik.imagekit.io/seeingthewords/data/sta...</td>\n      <td>stabilityai</td>\n      <td>0.090461</td>\n      <td>0.280508</td>\n      <td>0.124497</td>\n      <td>0.047621</td>\n      <td>0.145790</td>\n    </tr>\n  </tbody>\n</table>\n<p>1307 rows × 7 columns</p>\n</div>"
     },
     "execution_count": 22,
     "metadata": {},
     "output_type": "execute_result"
    }
   ],
   "source": [
    "data_senti\n"
   ],
   "metadata": {
    "collapsed": false,
    "ExecuteTime": {
     "end_time": "2023-07-27T03:33:02.345688388Z",
     "start_time": "2023-07-27T03:33:02.331763763Z"
    }
   }
  },
  {
   "cell_type": "code",
   "execution_count": 23,
   "outputs": [
    {
     "data": {
      "text/plain": "                                             Unnamed: 0    generator  \\\n0     https://ik.imagekit.io/seeingthewords/data/bas...         base   \n1     https://ik.imagekit.io/seeingthewords/data/bas...         base   \n2     https://ik.imagekit.io/seeingthewords/data/bas...         base   \n3     https://ik.imagekit.io/seeingthewords/data/bas...         base   \n4     https://ik.imagekit.io/seeingthewords/data/bas...         base   \n...                                                 ...          ...   \n1328  https://ik.imagekit.io/seeingthewords/data/sta...  stabilityai   \n1329  https://ik.imagekit.io/seeingthewords/data/sta...  stabilityai   \n1330  https://ik.imagekit.io/seeingthewords/data/sta...  stabilityai   \n1331  https://ik.imagekit.io/seeingthewords/data/sta...  stabilityai   \n1332  https://ik.imagekit.io/seeingthewords/data/sta...  stabilityai   \n\n        base_0    base_1    base_2    base_3    base_4  \n0     0.245647  0.000000  0.162388  0.054129  0.349554  \n1     0.316518  0.070871  0.108259  0.000000  0.420424  \n2     0.458259  0.212612  0.000000  0.141741  0.562165  \n3     0.083594  0.275446  0.437835  0.329576  0.000000  \n4     0.000000  0.191853  0.354241  0.245982  0.103906  \n...        ...       ...       ...       ...       ...  \n1328  0.103906  0.108259  0.270647  0.162388  0.207813  \n1329  0.000000  0.191853  0.354241  0.245982  0.103906  \n1330  0.103906  0.108259  0.270647  0.162388  0.207813  \n1331  0.207813  0.012165  0.174554  0.066295  0.311719  \n1332  0.000000  0.191853  0.354241  0.245982  0.103906  \n\n[1333 rows x 7 columns]",
      "text/html": "<div>\n<style scoped>\n    .dataframe tbody tr th:only-of-type {\n        vertical-align: middle;\n    }\n\n    .dataframe tbody tr th {\n        vertical-align: top;\n    }\n\n    .dataframe thead th {\n        text-align: right;\n    }\n</style>\n<table border=\"1\" class=\"dataframe\">\n  <thead>\n    <tr style=\"text-align: right;\">\n      <th></th>\n      <th>Unnamed: 0</th>\n      <th>generator</th>\n      <th>base_0</th>\n      <th>base_1</th>\n      <th>base_2</th>\n      <th>base_3</th>\n      <th>base_4</th>\n    </tr>\n  </thead>\n  <tbody>\n    <tr>\n      <th>0</th>\n      <td>https://ik.imagekit.io/seeingthewords/data/bas...</td>\n      <td>base</td>\n      <td>0.245647</td>\n      <td>0.000000</td>\n      <td>0.162388</td>\n      <td>0.054129</td>\n      <td>0.349554</td>\n    </tr>\n    <tr>\n      <th>1</th>\n      <td>https://ik.imagekit.io/seeingthewords/data/bas...</td>\n      <td>base</td>\n      <td>0.316518</td>\n      <td>0.070871</td>\n      <td>0.108259</td>\n      <td>0.000000</td>\n      <td>0.420424</td>\n    </tr>\n    <tr>\n      <th>2</th>\n      <td>https://ik.imagekit.io/seeingthewords/data/bas...</td>\n      <td>base</td>\n      <td>0.458259</td>\n      <td>0.212612</td>\n      <td>0.000000</td>\n      <td>0.141741</td>\n      <td>0.562165</td>\n    </tr>\n    <tr>\n      <th>3</th>\n      <td>https://ik.imagekit.io/seeingthewords/data/bas...</td>\n      <td>base</td>\n      <td>0.083594</td>\n      <td>0.275446</td>\n      <td>0.437835</td>\n      <td>0.329576</td>\n      <td>0.000000</td>\n    </tr>\n    <tr>\n      <th>4</th>\n      <td>https://ik.imagekit.io/seeingthewords/data/bas...</td>\n      <td>base</td>\n      <td>0.000000</td>\n      <td>0.191853</td>\n      <td>0.354241</td>\n      <td>0.245982</td>\n      <td>0.103906</td>\n    </tr>\n    <tr>\n      <th>...</th>\n      <td>...</td>\n      <td>...</td>\n      <td>...</td>\n      <td>...</td>\n      <td>...</td>\n      <td>...</td>\n      <td>...</td>\n    </tr>\n    <tr>\n      <th>1328</th>\n      <td>https://ik.imagekit.io/seeingthewords/data/sta...</td>\n      <td>stabilityai</td>\n      <td>0.103906</td>\n      <td>0.108259</td>\n      <td>0.270647</td>\n      <td>0.162388</td>\n      <td>0.207813</td>\n    </tr>\n    <tr>\n      <th>1329</th>\n      <td>https://ik.imagekit.io/seeingthewords/data/sta...</td>\n      <td>stabilityai</td>\n      <td>0.000000</td>\n      <td>0.191853</td>\n      <td>0.354241</td>\n      <td>0.245982</td>\n      <td>0.103906</td>\n    </tr>\n    <tr>\n      <th>1330</th>\n      <td>https://ik.imagekit.io/seeingthewords/data/sta...</td>\n      <td>stabilityai</td>\n      <td>0.103906</td>\n      <td>0.108259</td>\n      <td>0.270647</td>\n      <td>0.162388</td>\n      <td>0.207813</td>\n    </tr>\n    <tr>\n      <th>1331</th>\n      <td>https://ik.imagekit.io/seeingthewords/data/sta...</td>\n      <td>stabilityai</td>\n      <td>0.207813</td>\n      <td>0.012165</td>\n      <td>0.174554</td>\n      <td>0.066295</td>\n      <td>0.311719</td>\n    </tr>\n    <tr>\n      <th>1332</th>\n      <td>https://ik.imagekit.io/seeingthewords/data/sta...</td>\n      <td>stabilityai</td>\n      <td>0.000000</td>\n      <td>0.191853</td>\n      <td>0.354241</td>\n      <td>0.245982</td>\n      <td>0.103906</td>\n    </tr>\n  </tbody>\n</table>\n<p>1333 rows × 7 columns</p>\n</div>"
     },
     "execution_count": 23,
     "metadata": {},
     "output_type": "execute_result"
    }
   ],
   "source": [
    "data_age"
   ],
   "metadata": {
    "collapsed": false,
    "ExecuteTime": {
     "end_time": "2023-07-27T03:33:02.604716962Z",
     "start_time": "2023-07-27T03:33:02.588240780Z"
    }
   }
  },
  {
   "cell_type": "code",
   "execution_count": 24,
   "outputs": [],
   "source": [
    "df_cols = ['base_0', 'base_1', 'base_2', 'base_3', 'base_4']\n",
    "df_final_score = pd.DataFrame(columns=df_cols)\n",
    "\n",
    "df_sort_senti =data_senti.sort_values(by =\"Unnamed: 0\")\n",
    "df_sort_age =data_age.sort_values(by =\"Unnamed: 0\")"
   ],
   "metadata": {
    "collapsed": false,
    "ExecuteTime": {
     "end_time": "2023-07-27T03:33:02.863811857Z",
     "start_time": "2023-07-27T03:33:02.818534202Z"
    }
   }
  },
  {
   "cell_type": "code",
   "execution_count": 25,
   "outputs": [
    {
     "data": {
      "text/plain": "                                             Unnamed: 0    generator  \\\n74    https://ik.imagekit.io/seeingthewords/data/Com...      CompVis   \n90    https://ik.imagekit.io/seeingthewords/data/Com...      CompVis   \n67    https://ik.imagekit.io/seeingthewords/data/Com...      CompVis   \n44    https://ik.imagekit.io/seeingthewords/data/Com...      CompVis   \n95    https://ik.imagekit.io/seeingthewords/data/Com...      CompVis   \n...                                                 ...          ...   \n1251  https://ik.imagekit.io/seeingthewords/data/sta...  stabilityai   \n1247  https://ik.imagekit.io/seeingthewords/data/sta...  stabilityai   \n1218  https://ik.imagekit.io/seeingthewords/data/sta...  stabilityai   \n1187  https://ik.imagekit.io/seeingthewords/data/sta...  stabilityai   \n1312  https://ik.imagekit.io/seeingthewords/data/sta...  stabilityai   \n\n        base_0    base_1    base_2    base_3    base_4  \n74    0.103906  0.108259  0.270647  0.162388  0.207813  \n90    0.207813  0.012165  0.174554  0.066295  0.311719  \n67    0.000000  0.191853  0.354241  0.245982  0.103906  \n44    0.000000  0.191853  0.354241  0.245982  0.103906  \n95    0.103906  0.108259  0.270647  0.162388  0.207813  \n...        ...       ...       ...       ...       ...  \n1251  0.083594  0.275446  0.437835  0.329576  0.000000  \n1247  0.207813  0.012165  0.174554  0.066295  0.311719  \n1218  0.141741  0.083594  0.245982  0.137723  0.245647  \n1187  0.311719  0.083929  0.078460  0.029799  0.415625  \n1312  0.103906  0.108259  0.270647  0.162388  0.207813  \n\n[1333 rows x 7 columns]",
      "text/html": "<div>\n<style scoped>\n    .dataframe tbody tr th:only-of-type {\n        vertical-align: middle;\n    }\n\n    .dataframe tbody tr th {\n        vertical-align: top;\n    }\n\n    .dataframe thead th {\n        text-align: right;\n    }\n</style>\n<table border=\"1\" class=\"dataframe\">\n  <thead>\n    <tr style=\"text-align: right;\">\n      <th></th>\n      <th>Unnamed: 0</th>\n      <th>generator</th>\n      <th>base_0</th>\n      <th>base_1</th>\n      <th>base_2</th>\n      <th>base_3</th>\n      <th>base_4</th>\n    </tr>\n  </thead>\n  <tbody>\n    <tr>\n      <th>74</th>\n      <td>https://ik.imagekit.io/seeingthewords/data/Com...</td>\n      <td>CompVis</td>\n      <td>0.103906</td>\n      <td>0.108259</td>\n      <td>0.270647</td>\n      <td>0.162388</td>\n      <td>0.207813</td>\n    </tr>\n    <tr>\n      <th>90</th>\n      <td>https://ik.imagekit.io/seeingthewords/data/Com...</td>\n      <td>CompVis</td>\n      <td>0.207813</td>\n      <td>0.012165</td>\n      <td>0.174554</td>\n      <td>0.066295</td>\n      <td>0.311719</td>\n    </tr>\n    <tr>\n      <th>67</th>\n      <td>https://ik.imagekit.io/seeingthewords/data/Com...</td>\n      <td>CompVis</td>\n      <td>0.000000</td>\n      <td>0.191853</td>\n      <td>0.354241</td>\n      <td>0.245982</td>\n      <td>0.103906</td>\n    </tr>\n    <tr>\n      <th>44</th>\n      <td>https://ik.imagekit.io/seeingthewords/data/Com...</td>\n      <td>CompVis</td>\n      <td>0.000000</td>\n      <td>0.191853</td>\n      <td>0.354241</td>\n      <td>0.245982</td>\n      <td>0.103906</td>\n    </tr>\n    <tr>\n      <th>95</th>\n      <td>https://ik.imagekit.io/seeingthewords/data/Com...</td>\n      <td>CompVis</td>\n      <td>0.103906</td>\n      <td>0.108259</td>\n      <td>0.270647</td>\n      <td>0.162388</td>\n      <td>0.207813</td>\n    </tr>\n    <tr>\n      <th>...</th>\n      <td>...</td>\n      <td>...</td>\n      <td>...</td>\n      <td>...</td>\n      <td>...</td>\n      <td>...</td>\n      <td>...</td>\n    </tr>\n    <tr>\n      <th>1251</th>\n      <td>https://ik.imagekit.io/seeingthewords/data/sta...</td>\n      <td>stabilityai</td>\n      <td>0.083594</td>\n      <td>0.275446</td>\n      <td>0.437835</td>\n      <td>0.329576</td>\n      <td>0.000000</td>\n    </tr>\n    <tr>\n      <th>1247</th>\n      <td>https://ik.imagekit.io/seeingthewords/data/sta...</td>\n      <td>stabilityai</td>\n      <td>0.207813</td>\n      <td>0.012165</td>\n      <td>0.174554</td>\n      <td>0.066295</td>\n      <td>0.311719</td>\n    </tr>\n    <tr>\n      <th>1218</th>\n      <td>https://ik.imagekit.io/seeingthewords/data/sta...</td>\n      <td>stabilityai</td>\n      <td>0.141741</td>\n      <td>0.083594</td>\n      <td>0.245982</td>\n      <td>0.137723</td>\n      <td>0.245647</td>\n    </tr>\n    <tr>\n      <th>1187</th>\n      <td>https://ik.imagekit.io/seeingthewords/data/sta...</td>\n      <td>stabilityai</td>\n      <td>0.311719</td>\n      <td>0.083929</td>\n      <td>0.078460</td>\n      <td>0.029799</td>\n      <td>0.415625</td>\n    </tr>\n    <tr>\n      <th>1312</th>\n      <td>https://ik.imagekit.io/seeingthewords/data/sta...</td>\n      <td>stabilityai</td>\n      <td>0.103906</td>\n      <td>0.108259</td>\n      <td>0.270647</td>\n      <td>0.162388</td>\n      <td>0.207813</td>\n    </tr>\n  </tbody>\n</table>\n<p>1333 rows × 7 columns</p>\n</div>"
     },
     "execution_count": 25,
     "metadata": {},
     "output_type": "execute_result"
    }
   ],
   "source": [
    "df_sort_age"
   ],
   "metadata": {
    "collapsed": false,
    "ExecuteTime": {
     "end_time": "2023-07-27T03:33:03.036798058Z",
     "start_time": "2023-07-27T03:33:03.015102539Z"
    }
   }
  },
  {
   "cell_type": "code",
   "execution_count": 26,
   "outputs": [],
   "source": [
    "df = df_sort_senti\n",
    "\n",
    "stab_senti = df[df['generator'] == 'stabilityai']\n",
    "sg_senti= df[df['generator'] == 'SG161222']\n",
    "run_senti = df[df['generator'] == 'runwayml']\n",
    "prompt_senti = df[df['generator'] == 'prompthero']\n",
    "nit_senti = df[df['generator'] == 'nitrosocke']\n",
    "mid_senti = df[df['generator'] == 'mid_journey']\n",
    "dall_senti = df[df['generator'] == 'dall_e_2']\n",
    "dream_senti = df[df['generator'] == 'dream']\n",
    "CompVis_senti = df[df['generator'] == 'CompVis']\n",
    "base_senti = df[df['generator'] == 'base']\n",
    "\n",
    "\n",
    "df_sub_senti = [ CompVis_senti, dream_senti, dall_senti, mid_senti, nit_senti, prompt_senti, run_senti, sg_senti, stab_senti]\n",
    "value_string = ['CompVis', 'dream','dall_e_2', 'mid_journey', 'nitrosocke', 'prompthero', 'runwayml','SG161222' , 'stabilityai']"
   ],
   "metadata": {
    "collapsed": false,
    "ExecuteTime": {
     "end_time": "2023-07-27T03:33:03.300010883Z",
     "start_time": "2023-07-27T03:33:03.243211015Z"
    }
   }
  },
  {
   "cell_type": "code",
   "execution_count": 27,
   "outputs": [
    {
     "data": {
      "text/plain": "                                            Unnamed: 0    generator    base_0  \\\n321  https://ik.imagekit.io/seeingthewords/data/mid...  mid_journey  0.080094   \n325  https://ik.imagekit.io/seeingthewords/data/mid...  mid_journey  0.056632   \n334  https://ik.imagekit.io/seeingthewords/data/mid...  mid_journey  0.109796   \n316  https://ik.imagekit.io/seeingthewords/data/mid...  mid_journey  0.075377   \n335  https://ik.imagekit.io/seeingthewords/data/mid...  mid_journey  0.097286   \n..                                                 ...          ...       ...   \n385  https://ik.imagekit.io/seeingthewords/data/mid...  mid_journey  0.123621   \n369  https://ik.imagekit.io/seeingthewords/data/mid...  mid_journey  0.104496   \n338  https://ik.imagekit.io/seeingthewords/data/mid...  mid_journey  0.078659   \n393  https://ik.imagekit.io/seeingthewords/data/mid...  mid_journey  0.061392   \n306  https://ik.imagekit.io/seeingthewords/data/mid...  mid_journey  0.064293   \n\n       base_1    base_2    base_3    base_4  \n321  0.333012  0.113053  0.055537  0.166717  \n325  0.387638  0.076572  0.070225  0.218560  \n334  0.263076  0.153259  0.078027  0.116289  \n316  0.336977  0.117877  0.067241  0.161973  \n335  0.273486  0.139160  0.067541  0.115506  \n..        ...       ...       ...       ...  \n385  0.258919  0.170369  0.102925  0.117069  \n369  0.299310  0.145452  0.078646  0.120674  \n338  0.317166  0.118651  0.060016  0.143285  \n393  0.341684  0.104530  0.046602  0.165023  \n306  0.346764  0.110778  0.055873  0.169953  \n\n[102 rows x 7 columns]",
      "text/html": "<div>\n<style scoped>\n    .dataframe tbody tr th:only-of-type {\n        vertical-align: middle;\n    }\n\n    .dataframe tbody tr th {\n        vertical-align: top;\n    }\n\n    .dataframe thead th {\n        text-align: right;\n    }\n</style>\n<table border=\"1\" class=\"dataframe\">\n  <thead>\n    <tr style=\"text-align: right;\">\n      <th></th>\n      <th>Unnamed: 0</th>\n      <th>generator</th>\n      <th>base_0</th>\n      <th>base_1</th>\n      <th>base_2</th>\n      <th>base_3</th>\n      <th>base_4</th>\n    </tr>\n  </thead>\n  <tbody>\n    <tr>\n      <th>321</th>\n      <td>https://ik.imagekit.io/seeingthewords/data/mid...</td>\n      <td>mid_journey</td>\n      <td>0.080094</td>\n      <td>0.333012</td>\n      <td>0.113053</td>\n      <td>0.055537</td>\n      <td>0.166717</td>\n    </tr>\n    <tr>\n      <th>325</th>\n      <td>https://ik.imagekit.io/seeingthewords/data/mid...</td>\n      <td>mid_journey</td>\n      <td>0.056632</td>\n      <td>0.387638</td>\n      <td>0.076572</td>\n      <td>0.070225</td>\n      <td>0.218560</td>\n    </tr>\n    <tr>\n      <th>334</th>\n      <td>https://ik.imagekit.io/seeingthewords/data/mid...</td>\n      <td>mid_journey</td>\n      <td>0.109796</td>\n      <td>0.263076</td>\n      <td>0.153259</td>\n      <td>0.078027</td>\n      <td>0.116289</td>\n    </tr>\n    <tr>\n      <th>316</th>\n      <td>https://ik.imagekit.io/seeingthewords/data/mid...</td>\n      <td>mid_journey</td>\n      <td>0.075377</td>\n      <td>0.336977</td>\n      <td>0.117877</td>\n      <td>0.067241</td>\n      <td>0.161973</td>\n    </tr>\n    <tr>\n      <th>335</th>\n      <td>https://ik.imagekit.io/seeingthewords/data/mid...</td>\n      <td>mid_journey</td>\n      <td>0.097286</td>\n      <td>0.273486</td>\n      <td>0.139160</td>\n      <td>0.067541</td>\n      <td>0.115506</td>\n    </tr>\n    <tr>\n      <th>...</th>\n      <td>...</td>\n      <td>...</td>\n      <td>...</td>\n      <td>...</td>\n      <td>...</td>\n      <td>...</td>\n      <td>...</td>\n    </tr>\n    <tr>\n      <th>385</th>\n      <td>https://ik.imagekit.io/seeingthewords/data/mid...</td>\n      <td>mid_journey</td>\n      <td>0.123621</td>\n      <td>0.258919</td>\n      <td>0.170369</td>\n      <td>0.102925</td>\n      <td>0.117069</td>\n    </tr>\n    <tr>\n      <th>369</th>\n      <td>https://ik.imagekit.io/seeingthewords/data/mid...</td>\n      <td>mid_journey</td>\n      <td>0.104496</td>\n      <td>0.299310</td>\n      <td>0.145452</td>\n      <td>0.078646</td>\n      <td>0.120674</td>\n    </tr>\n    <tr>\n      <th>338</th>\n      <td>https://ik.imagekit.io/seeingthewords/data/mid...</td>\n      <td>mid_journey</td>\n      <td>0.078659</td>\n      <td>0.317166</td>\n      <td>0.118651</td>\n      <td>0.060016</td>\n      <td>0.143285</td>\n    </tr>\n    <tr>\n      <th>393</th>\n      <td>https://ik.imagekit.io/seeingthewords/data/mid...</td>\n      <td>mid_journey</td>\n      <td>0.061392</td>\n      <td>0.341684</td>\n      <td>0.104530</td>\n      <td>0.046602</td>\n      <td>0.165023</td>\n    </tr>\n    <tr>\n      <th>306</th>\n      <td>https://ik.imagekit.io/seeingthewords/data/mid...</td>\n      <td>mid_journey</td>\n      <td>0.064293</td>\n      <td>0.346764</td>\n      <td>0.110778</td>\n      <td>0.055873</td>\n      <td>0.169953</td>\n    </tr>\n  </tbody>\n</table>\n<p>102 rows × 7 columns</p>\n</div>"
     },
     "execution_count": 27,
     "metadata": {},
     "output_type": "execute_result"
    }
   ],
   "source": [
    "df_sub_senti[3]"
   ],
   "metadata": {
    "collapsed": false,
    "ExecuteTime": {
     "end_time": "2023-07-27T03:33:03.543324056Z",
     "start_time": "2023-07-27T03:33:03.530732150Z"
    }
   }
  },
  {
   "cell_type": "code",
   "execution_count": 28,
   "outputs": [
    {
     "data": {
      "text/plain": "                                           Unnamed: 0 generator    base_0  \\\n60  https://ik.imagekit.io/seeingthewords/data/Com...   CompVis  0.095389   \n53  https://ik.imagekit.io/seeingthewords/data/Com...   CompVis  0.108626   \n89  https://ik.imagekit.io/seeingthewords/data/Com...   CompVis  0.110043   \n33  https://ik.imagekit.io/seeingthewords/data/Com...   CompVis  0.074782   \n90  https://ik.imagekit.io/seeingthewords/data/Com...   CompVis  0.060809   \n..                                                ...       ...       ...   \n98  https://ik.imagekit.io/seeingthewords/data/Com...   CompVis  0.080098   \n63  https://ik.imagekit.io/seeingthewords/data/Com...   CompVis  0.070679   \n20  https://ik.imagekit.io/seeingthewords/data/Com...   CompVis  0.042779   \n49  https://ik.imagekit.io/seeingthewords/data/Com...   CompVis  0.086917   \n56  https://ik.imagekit.io/seeingthewords/data/Com...   CompVis  0.037955   \n\n      base_1    base_2    base_3    base_4  \n60  0.270020  0.140509  0.075915  0.109584  \n53  0.284227  0.144474  0.080932  0.120420  \n89  0.262476  0.148329  0.107214  0.137824  \n33  0.390257  0.117202  0.082963  0.232787  \n90  0.417642  0.078964  0.098187  0.241483  \n..       ...       ...       ...       ...  \n98  0.435064  0.047663  0.110527  0.257444  \n63  0.403624  0.054532  0.079359  0.229278  \n20  0.373077  0.080630  0.069136  0.200341  \n49  0.444487  0.077172  0.119229  0.265478  \n56  0.360042  0.060957  0.056960  0.200514  \n\n[100 rows x 7 columns]",
      "text/html": "<div>\n<style scoped>\n    .dataframe tbody tr th:only-of-type {\n        vertical-align: middle;\n    }\n\n    .dataframe tbody tr th {\n        vertical-align: top;\n    }\n\n    .dataframe thead th {\n        text-align: right;\n    }\n</style>\n<table border=\"1\" class=\"dataframe\">\n  <thead>\n    <tr style=\"text-align: right;\">\n      <th></th>\n      <th>Unnamed: 0</th>\n      <th>generator</th>\n      <th>base_0</th>\n      <th>base_1</th>\n      <th>base_2</th>\n      <th>base_3</th>\n      <th>base_4</th>\n    </tr>\n  </thead>\n  <tbody>\n    <tr>\n      <th>60</th>\n      <td>https://ik.imagekit.io/seeingthewords/data/Com...</td>\n      <td>CompVis</td>\n      <td>0.095389</td>\n      <td>0.270020</td>\n      <td>0.140509</td>\n      <td>0.075915</td>\n      <td>0.109584</td>\n    </tr>\n    <tr>\n      <th>53</th>\n      <td>https://ik.imagekit.io/seeingthewords/data/Com...</td>\n      <td>CompVis</td>\n      <td>0.108626</td>\n      <td>0.284227</td>\n      <td>0.144474</td>\n      <td>0.080932</td>\n      <td>0.120420</td>\n    </tr>\n    <tr>\n      <th>89</th>\n      <td>https://ik.imagekit.io/seeingthewords/data/Com...</td>\n      <td>CompVis</td>\n      <td>0.110043</td>\n      <td>0.262476</td>\n      <td>0.148329</td>\n      <td>0.107214</td>\n      <td>0.137824</td>\n    </tr>\n    <tr>\n      <th>33</th>\n      <td>https://ik.imagekit.io/seeingthewords/data/Com...</td>\n      <td>CompVis</td>\n      <td>0.074782</td>\n      <td>0.390257</td>\n      <td>0.117202</td>\n      <td>0.082963</td>\n      <td>0.232787</td>\n    </tr>\n    <tr>\n      <th>90</th>\n      <td>https://ik.imagekit.io/seeingthewords/data/Com...</td>\n      <td>CompVis</td>\n      <td>0.060809</td>\n      <td>0.417642</td>\n      <td>0.078964</td>\n      <td>0.098187</td>\n      <td>0.241483</td>\n    </tr>\n    <tr>\n      <th>...</th>\n      <td>...</td>\n      <td>...</td>\n      <td>...</td>\n      <td>...</td>\n      <td>...</td>\n      <td>...</td>\n      <td>...</td>\n    </tr>\n    <tr>\n      <th>98</th>\n      <td>https://ik.imagekit.io/seeingthewords/data/Com...</td>\n      <td>CompVis</td>\n      <td>0.080098</td>\n      <td>0.435064</td>\n      <td>0.047663</td>\n      <td>0.110527</td>\n      <td>0.257444</td>\n    </tr>\n    <tr>\n      <th>63</th>\n      <td>https://ik.imagekit.io/seeingthewords/data/Com...</td>\n      <td>CompVis</td>\n      <td>0.070679</td>\n      <td>0.403624</td>\n      <td>0.054532</td>\n      <td>0.079359</td>\n      <td>0.229278</td>\n    </tr>\n    <tr>\n      <th>20</th>\n      <td>https://ik.imagekit.io/seeingthewords/data/Com...</td>\n      <td>CompVis</td>\n      <td>0.042779</td>\n      <td>0.373077</td>\n      <td>0.080630</td>\n      <td>0.069136</td>\n      <td>0.200341</td>\n    </tr>\n    <tr>\n      <th>49</th>\n      <td>https://ik.imagekit.io/seeingthewords/data/Com...</td>\n      <td>CompVis</td>\n      <td>0.086917</td>\n      <td>0.444487</td>\n      <td>0.077172</td>\n      <td>0.119229</td>\n      <td>0.265478</td>\n    </tr>\n    <tr>\n      <th>56</th>\n      <td>https://ik.imagekit.io/seeingthewords/data/Com...</td>\n      <td>CompVis</td>\n      <td>0.037955</td>\n      <td>0.360042</td>\n      <td>0.060957</td>\n      <td>0.056960</td>\n      <td>0.200514</td>\n    </tr>\n  </tbody>\n</table>\n<p>100 rows × 7 columns</p>\n</div>"
     },
     "execution_count": 28,
     "metadata": {},
     "output_type": "execute_result"
    }
   ],
   "source": [
    "CompVis_senti"
   ],
   "metadata": {
    "collapsed": false,
    "ExecuteTime": {
     "end_time": "2023-07-27T03:33:03.785779864Z",
     "start_time": "2023-07-27T03:33:03.772838606Z"
    }
   }
  },
  {
   "cell_type": "code",
   "execution_count": 29,
   "outputs": [],
   "source": [
    "df = df_sort_age\n",
    "\n",
    "stab_age = df[df['generator'] == 'stabilityai']\n",
    "sg_age= df[df['generator'] == 'SG161222']\n",
    "run_age = df[df['generator'] == 'runwayml']\n",
    "prompt_age = df[df['generator'] == 'prompthero']\n",
    "nit_age = df[df['generator'] == 'nitrosocke']\n",
    "mid_age = df[df['generator'] == 'mid_journey']\n",
    "dall_age = df[df['generator'] == 'dall_e_2']\n",
    "dream_age = df[df['generator'] == 'dream']\n",
    "CompVis_age = df[df['generator'] == 'CompVis']\n",
    "base_age = df[df['generator'] == 'base']\n",
    "\n",
    "\n",
    "df_sub_age = [ CompVis_age, dream_age, dall_age, mid_age, nit_age, prompt_age, run_age, sg_age, stab_age]\n"
   ],
   "metadata": {
    "collapsed": false,
    "ExecuteTime": {
     "end_time": "2023-07-27T03:33:04.023555364Z",
     "start_time": "2023-07-27T03:33:04.013181656Z"
    }
   }
  },
  {
   "cell_type": "code",
   "execution_count": 30,
   "outputs": [],
   "source": [
    "element_age = {}\n",
    "\n",
    "df_cols = ['base_0', 'base_1', 'base_2', 'base_3', 'base_4']\n",
    "df_final_score_age = pd.DataFrame(columns=df_cols)\n",
    "\n",
    "for el in df_cols:\n",
    "    for i, model in enumerate(df_sub_age):\n",
    "        element_age['base_0'] = model['base_0'].sum()/len(model)\n",
    "        element_age['base_1'] = model['base_1'].sum()/len(model)\n",
    "        element_age['base_2'] = model['base_2'].sum()/len(model)\n",
    "        element_age['base_3'] = model['base_3'].sum()/len(model)\n",
    "        element_age['base_4'] = model['base_4'].sum()/len(model)\n",
    "\n",
    "        df_final_score_age.loc[value_string[i]] =  element_age"
   ],
   "metadata": {
    "collapsed": false,
    "ExecuteTime": {
     "end_time": "2023-07-27T03:33:04.231930077Z",
     "start_time": "2023-07-27T03:33:04.183507157Z"
    }
   }
  },
  {
   "cell_type": "code",
   "execution_count": 31,
   "outputs": [],
   "source": [
    "df_final_score_age['mean'] = df_final_score_age.mean(axis=1)"
   ],
   "metadata": {
    "collapsed": false,
    "ExecuteTime": {
     "end_time": "2023-07-27T03:33:04.423432015Z",
     "start_time": "2023-07-27T03:33:04.368682447Z"
    }
   }
  },
  {
   "cell_type": "code",
   "execution_count": 32,
   "outputs": [
    {
     "data": {
      "text/plain": "               base_0    base_1    base_2    base_3    base_4      mean\nSG161222     0.119549  0.097964  0.259272  0.151311  0.221499  0.169919\nprompthero   0.142049  0.089545  0.241143  0.136241  0.241830  0.170162\nmid_journey  0.179348  0.075163  0.205803  0.112177  0.281692  0.170837\ndream        0.081357  0.134281  0.295830  0.187571  0.177121  0.175232\nstabilityai  0.114666  0.132305  0.281542  0.178910  0.193751  0.180235\nCompVis      0.091485  0.144892  0.301537  0.196117  0.170231  0.180852\nrunwayml     0.092758  0.146664  0.304999  0.198175  0.164727  0.181465\nnitrosocke   0.062963  0.213271  0.374820  0.266859  0.078548  0.199292\ndall_e_2     0.050460  0.230402  0.392790  0.284531  0.056205  0.202878",
      "text/html": "<div>\n<style scoped>\n    .dataframe tbody tr th:only-of-type {\n        vertical-align: middle;\n    }\n\n    .dataframe tbody tr th {\n        vertical-align: top;\n    }\n\n    .dataframe thead th {\n        text-align: right;\n    }\n</style>\n<table border=\"1\" class=\"dataframe\">\n  <thead>\n    <tr style=\"text-align: right;\">\n      <th></th>\n      <th>base_0</th>\n      <th>base_1</th>\n      <th>base_2</th>\n      <th>base_3</th>\n      <th>base_4</th>\n      <th>mean</th>\n    </tr>\n  </thead>\n  <tbody>\n    <tr>\n      <th>SG161222</th>\n      <td>0.119549</td>\n      <td>0.097964</td>\n      <td>0.259272</td>\n      <td>0.151311</td>\n      <td>0.221499</td>\n      <td>0.169919</td>\n    </tr>\n    <tr>\n      <th>prompthero</th>\n      <td>0.142049</td>\n      <td>0.089545</td>\n      <td>0.241143</td>\n      <td>0.136241</td>\n      <td>0.241830</td>\n      <td>0.170162</td>\n    </tr>\n    <tr>\n      <th>mid_journey</th>\n      <td>0.179348</td>\n      <td>0.075163</td>\n      <td>0.205803</td>\n      <td>0.112177</td>\n      <td>0.281692</td>\n      <td>0.170837</td>\n    </tr>\n    <tr>\n      <th>dream</th>\n      <td>0.081357</td>\n      <td>0.134281</td>\n      <td>0.295830</td>\n      <td>0.187571</td>\n      <td>0.177121</td>\n      <td>0.175232</td>\n    </tr>\n    <tr>\n      <th>stabilityai</th>\n      <td>0.114666</td>\n      <td>0.132305</td>\n      <td>0.281542</td>\n      <td>0.178910</td>\n      <td>0.193751</td>\n      <td>0.180235</td>\n    </tr>\n    <tr>\n      <th>CompVis</th>\n      <td>0.091485</td>\n      <td>0.144892</td>\n      <td>0.301537</td>\n      <td>0.196117</td>\n      <td>0.170231</td>\n      <td>0.180852</td>\n    </tr>\n    <tr>\n      <th>runwayml</th>\n      <td>0.092758</td>\n      <td>0.146664</td>\n      <td>0.304999</td>\n      <td>0.198175</td>\n      <td>0.164727</td>\n      <td>0.181465</td>\n    </tr>\n    <tr>\n      <th>nitrosocke</th>\n      <td>0.062963</td>\n      <td>0.213271</td>\n      <td>0.374820</td>\n      <td>0.266859</td>\n      <td>0.078548</td>\n      <td>0.199292</td>\n    </tr>\n    <tr>\n      <th>dall_e_2</th>\n      <td>0.050460</td>\n      <td>0.230402</td>\n      <td>0.392790</td>\n      <td>0.284531</td>\n      <td>0.056205</td>\n      <td>0.202878</td>\n    </tr>\n  </tbody>\n</table>\n</div>"
     },
     "execution_count": 32,
     "metadata": {},
     "output_type": "execute_result"
    }
   ],
   "source": [
    "df_final_score_age.sort_values(by='mean')"
   ],
   "metadata": {
    "collapsed": false,
    "ExecuteTime": {
     "end_time": "2023-07-27T03:33:04.599851526Z",
     "start_time": "2023-07-27T03:33:04.592326421Z"
    }
   }
  },
  {
   "cell_type": "code",
   "execution_count": 33,
   "outputs": [],
   "source": [
    "element_senti = {}\n",
    "\n",
    "df_cols = ['base_0', 'base_1', 'base_2', 'base_3', 'base_4']\n",
    "df_final_score_senti = pd.DataFrame(columns=df_cols)\n",
    "\n",
    "for el in df_cols:\n",
    "    for i, model in enumerate(df_sub_senti):\n",
    "        element_senti['base_0'] = model['base_0'].sum() / len(model)\n",
    "        element_senti['base_1'] = model['base_1'].sum() / len(model)\n",
    "        element_senti['base_2'] = model['base_2'].sum() / len(model)\n",
    "        element_senti['base_3'] = model['base_3'].sum() / len(model)\n",
    "        element_senti['base_4'] = model['base_4'].sum() / len(model)\n",
    "\n",
    "        df_final_score_senti.loc[value_string[i]] = element_senti\n"
   ],
   "metadata": {
    "collapsed": false,
    "ExecuteTime": {
     "end_time": "2023-07-27T03:33:05.226461994Z",
     "start_time": "2023-07-27T03:33:05.113390823Z"
    }
   }
  },
  {
   "cell_type": "code",
   "execution_count": 15,
   "outputs": [],
   "source": [
    "df_final_score_senti['mean'] = df_final_score_senti.mean(axis=1)"
   ],
   "metadata": {
    "collapsed": false,
    "ExecuteTime": {
     "end_time": "2023-07-27T03:30:34.222863373Z",
     "start_time": "2023-07-27T03:30:34.199922423Z"
    }
   }
  },
  {
   "cell_type": "code",
   "execution_count": 16,
   "outputs": [
    {
     "data": {
      "text/plain": "               base_0    base_1    base_2    base_3    base_4      mean\nmid_journey  0.084316  0.319509  0.119880  0.069113  0.152884  0.149140\nSG161222     0.058848  0.350281  0.077588  0.070425  0.190806  0.149589\nstabilityai  0.065454  0.349205  0.088680  0.066039  0.186470  0.151170\nrunwayml     0.080789  0.322549  0.106836  0.077477  0.170378  0.151606\nprompthero   0.064350  0.353766  0.084711  0.068736  0.190711  0.152455\nCompVis      0.091278  0.329272  0.113923  0.086957  0.172660  0.158818\ndream        0.069647  0.372369  0.081967  0.082010  0.208283  0.162855\nnitrosocke   0.072601  0.384404  0.076184  0.090224  0.220187  0.168720\ndall_e_2     0.105830  0.336887  0.123870  0.109663  0.193219  0.173894",
      "text/html": "<div>\n<style scoped>\n    .dataframe tbody tr th:only-of-type {\n        vertical-align: middle;\n    }\n\n    .dataframe tbody tr th {\n        vertical-align: top;\n    }\n\n    .dataframe thead th {\n        text-align: right;\n    }\n</style>\n<table border=\"1\" class=\"dataframe\">\n  <thead>\n    <tr style=\"text-align: right;\">\n      <th></th>\n      <th>base_0</th>\n      <th>base_1</th>\n      <th>base_2</th>\n      <th>base_3</th>\n      <th>base_4</th>\n      <th>mean</th>\n    </tr>\n  </thead>\n  <tbody>\n    <tr>\n      <th>mid_journey</th>\n      <td>0.084316</td>\n      <td>0.319509</td>\n      <td>0.119880</td>\n      <td>0.069113</td>\n      <td>0.152884</td>\n      <td>0.149140</td>\n    </tr>\n    <tr>\n      <th>SG161222</th>\n      <td>0.058848</td>\n      <td>0.350281</td>\n      <td>0.077588</td>\n      <td>0.070425</td>\n      <td>0.190806</td>\n      <td>0.149589</td>\n    </tr>\n    <tr>\n      <th>stabilityai</th>\n      <td>0.065454</td>\n      <td>0.349205</td>\n      <td>0.088680</td>\n      <td>0.066039</td>\n      <td>0.186470</td>\n      <td>0.151170</td>\n    </tr>\n    <tr>\n      <th>runwayml</th>\n      <td>0.080789</td>\n      <td>0.322549</td>\n      <td>0.106836</td>\n      <td>0.077477</td>\n      <td>0.170378</td>\n      <td>0.151606</td>\n    </tr>\n    <tr>\n      <th>prompthero</th>\n      <td>0.064350</td>\n      <td>0.353766</td>\n      <td>0.084711</td>\n      <td>0.068736</td>\n      <td>0.190711</td>\n      <td>0.152455</td>\n    </tr>\n    <tr>\n      <th>CompVis</th>\n      <td>0.091278</td>\n      <td>0.329272</td>\n      <td>0.113923</td>\n      <td>0.086957</td>\n      <td>0.172660</td>\n      <td>0.158818</td>\n    </tr>\n    <tr>\n      <th>dream</th>\n      <td>0.069647</td>\n      <td>0.372369</td>\n      <td>0.081967</td>\n      <td>0.082010</td>\n      <td>0.208283</td>\n      <td>0.162855</td>\n    </tr>\n    <tr>\n      <th>nitrosocke</th>\n      <td>0.072601</td>\n      <td>0.384404</td>\n      <td>0.076184</td>\n      <td>0.090224</td>\n      <td>0.220187</td>\n      <td>0.168720</td>\n    </tr>\n    <tr>\n      <th>dall_e_2</th>\n      <td>0.105830</td>\n      <td>0.336887</td>\n      <td>0.123870</td>\n      <td>0.109663</td>\n      <td>0.193219</td>\n      <td>0.173894</td>\n    </tr>\n  </tbody>\n</table>\n</div>"
     },
     "execution_count": 16,
     "metadata": {},
     "output_type": "execute_result"
    }
   ],
   "source": [
    "df_final_score_senti.sort_values(by='mean')"
   ],
   "metadata": {
    "collapsed": false,
    "ExecuteTime": {
     "end_time": "2023-07-27T03:30:34.673112194Z",
     "start_time": "2023-07-27T03:30:34.667626924Z"
    }
   }
  },
  {
   "cell_type": "code",
   "execution_count": 101,
   "outputs": [],
   "source": [
    "element = {}\n",
    "\n",
    "df_cols = ['base_0', 'base_1', 'base_2', 'base_3', 'base_4']\n",
    "df_final_score = pd.DataFrame(columns=df_cols)\n",
    "\n",
    "for el in df_cols:\n",
    "    for i, model in enumerate(df_sub_age):\n",
    "        element['base_0'] = (model['base_0'].sum()/len(model) + df_sub_senti[i]['base_0'].sum()/len(model))/2\n",
    "        element['base_1'] = (model['base_1'].sum()/len(model) + df_sub_senti[i]['base_1'].sum()/len(model))/2\n",
    "        element['base_2'] = (model['base_2'].sum()/len(model) + df_sub_senti[i]['base_2'].sum()/len(model))/2\n",
    "        element['base_3'] = (model['base_3'].sum()/len(model) + df_sub_senti[i]['base_3'].sum()/len(model))/2\n",
    "        element['base_4'] = (model['base_4'].sum()/len(model) + df_sub_senti[i]['base_4'].sum()/len(model))/2\n",
    "\n",
    "        df_final_score.loc[value_string[i]] =  element\n",
    "\n"
   ],
   "metadata": {
    "collapsed": false,
    "ExecuteTime": {
     "end_time": "2023-07-27T03:25:22.855115949Z",
     "start_time": "2023-07-27T03:25:22.792937619Z"
    }
   }
  },
  {
   "cell_type": "code",
   "execution_count": 102,
   "outputs": [
    {
     "data": {
      "text/plain": "               base_0    base_1    base_2    base_3    base_4\nCompVis      0.091382  0.237082  0.207730  0.141537  0.171446\ndream        0.075502  0.253325  0.188898  0.134791  0.192702\ndall_e_2     0.078145  0.283644  0.258330  0.197097  0.124712\nmid_journey  0.123269  0.164886  0.150666  0.083626  0.201761\nnitrosocke   0.067782  0.298838  0.225502  0.178541  0.149368\nprompthero   0.103199  0.221655  0.162927  0.102488  0.216271\nrunwayml     0.086774  0.234607  0.205918  0.137826  0.167552\nSG161222     0.089198  0.224122  0.168430  0.110868  0.206153\nstabilityai  0.090060  0.240755  0.185111  0.122474  0.190111",
      "text/html": "<div>\n<style scoped>\n    .dataframe tbody tr th:only-of-type {\n        vertical-align: middle;\n    }\n\n    .dataframe tbody tr th {\n        vertical-align: top;\n    }\n\n    .dataframe thead th {\n        text-align: right;\n    }\n</style>\n<table border=\"1\" class=\"dataframe\">\n  <thead>\n    <tr style=\"text-align: right;\">\n      <th></th>\n      <th>base_0</th>\n      <th>base_1</th>\n      <th>base_2</th>\n      <th>base_3</th>\n      <th>base_4</th>\n    </tr>\n  </thead>\n  <tbody>\n    <tr>\n      <th>CompVis</th>\n      <td>0.091382</td>\n      <td>0.237082</td>\n      <td>0.207730</td>\n      <td>0.141537</td>\n      <td>0.171446</td>\n    </tr>\n    <tr>\n      <th>dream</th>\n      <td>0.075502</td>\n      <td>0.253325</td>\n      <td>0.188898</td>\n      <td>0.134791</td>\n      <td>0.192702</td>\n    </tr>\n    <tr>\n      <th>dall_e_2</th>\n      <td>0.078145</td>\n      <td>0.283644</td>\n      <td>0.258330</td>\n      <td>0.197097</td>\n      <td>0.124712</td>\n    </tr>\n    <tr>\n      <th>mid_journey</th>\n      <td>0.123269</td>\n      <td>0.164886</td>\n      <td>0.150666</td>\n      <td>0.083626</td>\n      <td>0.201761</td>\n    </tr>\n    <tr>\n      <th>nitrosocke</th>\n      <td>0.067782</td>\n      <td>0.298838</td>\n      <td>0.225502</td>\n      <td>0.178541</td>\n      <td>0.149368</td>\n    </tr>\n    <tr>\n      <th>prompthero</th>\n      <td>0.103199</td>\n      <td>0.221655</td>\n      <td>0.162927</td>\n      <td>0.102488</td>\n      <td>0.216271</td>\n    </tr>\n    <tr>\n      <th>runwayml</th>\n      <td>0.086774</td>\n      <td>0.234607</td>\n      <td>0.205918</td>\n      <td>0.137826</td>\n      <td>0.167552</td>\n    </tr>\n    <tr>\n      <th>SG161222</th>\n      <td>0.089198</td>\n      <td>0.224122</td>\n      <td>0.168430</td>\n      <td>0.110868</td>\n      <td>0.206153</td>\n    </tr>\n    <tr>\n      <th>stabilityai</th>\n      <td>0.090060</td>\n      <td>0.240755</td>\n      <td>0.185111</td>\n      <td>0.122474</td>\n      <td>0.190111</td>\n    </tr>\n  </tbody>\n</table>\n</div>"
     },
     "execution_count": 102,
     "metadata": {},
     "output_type": "execute_result"
    }
   ],
   "source": [
    "df_final_score"
   ],
   "metadata": {
    "collapsed": false,
    "ExecuteTime": {
     "end_time": "2023-07-27T03:25:24.118059004Z",
     "start_time": "2023-07-27T03:25:24.088888661Z"
    }
   }
  },
  {
   "cell_type": "code",
   "execution_count": 103,
   "outputs": [],
   "source": [
    "df_final_score['mean'] = df_final_score.mean(axis=1)"
   ],
   "metadata": {
    "collapsed": false,
    "ExecuteTime": {
     "end_time": "2023-07-27T03:25:24.743497507Z",
     "start_time": "2023-07-27T03:25:24.719338581Z"
    }
   }
  },
  {
   "cell_type": "code",
   "execution_count": 104,
   "outputs": [
    {
     "data": {
      "text/plain": "               base_0    base_1    base_2    base_3    base_4      mean\nmid_journey  0.123269  0.164886  0.150666  0.083626  0.201761  0.144841\nSG161222     0.089198  0.224122  0.168430  0.110868  0.206153  0.159754\nprompthero   0.103199  0.221655  0.162927  0.102488  0.216271  0.161308\nstabilityai  0.090060  0.240755  0.185111  0.122474  0.190111  0.165702\nrunwayml     0.086774  0.234607  0.205918  0.137826  0.167552  0.166535\ndream        0.075502  0.253325  0.188898  0.134791  0.192702  0.169044\nCompVis      0.091382  0.237082  0.207730  0.141537  0.171446  0.169835\nnitrosocke   0.067782  0.298838  0.225502  0.178541  0.149368  0.184006\ndall_e_2     0.078145  0.283644  0.258330  0.197097  0.124712  0.188386",
      "text/html": "<div>\n<style scoped>\n    .dataframe tbody tr th:only-of-type {\n        vertical-align: middle;\n    }\n\n    .dataframe tbody tr th {\n        vertical-align: top;\n    }\n\n    .dataframe thead th {\n        text-align: right;\n    }\n</style>\n<table border=\"1\" class=\"dataframe\">\n  <thead>\n    <tr style=\"text-align: right;\">\n      <th></th>\n      <th>base_0</th>\n      <th>base_1</th>\n      <th>base_2</th>\n      <th>base_3</th>\n      <th>base_4</th>\n      <th>mean</th>\n    </tr>\n  </thead>\n  <tbody>\n    <tr>\n      <th>mid_journey</th>\n      <td>0.123269</td>\n      <td>0.164886</td>\n      <td>0.150666</td>\n      <td>0.083626</td>\n      <td>0.201761</td>\n      <td>0.144841</td>\n    </tr>\n    <tr>\n      <th>SG161222</th>\n      <td>0.089198</td>\n      <td>0.224122</td>\n      <td>0.168430</td>\n      <td>0.110868</td>\n      <td>0.206153</td>\n      <td>0.159754</td>\n    </tr>\n    <tr>\n      <th>prompthero</th>\n      <td>0.103199</td>\n      <td>0.221655</td>\n      <td>0.162927</td>\n      <td>0.102488</td>\n      <td>0.216271</td>\n      <td>0.161308</td>\n    </tr>\n    <tr>\n      <th>stabilityai</th>\n      <td>0.090060</td>\n      <td>0.240755</td>\n      <td>0.185111</td>\n      <td>0.122474</td>\n      <td>0.190111</td>\n      <td>0.165702</td>\n    </tr>\n    <tr>\n      <th>runwayml</th>\n      <td>0.086774</td>\n      <td>0.234607</td>\n      <td>0.205918</td>\n      <td>0.137826</td>\n      <td>0.167552</td>\n      <td>0.166535</td>\n    </tr>\n    <tr>\n      <th>dream</th>\n      <td>0.075502</td>\n      <td>0.253325</td>\n      <td>0.188898</td>\n      <td>0.134791</td>\n      <td>0.192702</td>\n      <td>0.169044</td>\n    </tr>\n    <tr>\n      <th>CompVis</th>\n      <td>0.091382</td>\n      <td>0.237082</td>\n      <td>0.207730</td>\n      <td>0.141537</td>\n      <td>0.171446</td>\n      <td>0.169835</td>\n    </tr>\n    <tr>\n      <th>nitrosocke</th>\n      <td>0.067782</td>\n      <td>0.298838</td>\n      <td>0.225502</td>\n      <td>0.178541</td>\n      <td>0.149368</td>\n      <td>0.184006</td>\n    </tr>\n    <tr>\n      <th>dall_e_2</th>\n      <td>0.078145</td>\n      <td>0.283644</td>\n      <td>0.258330</td>\n      <td>0.197097</td>\n      <td>0.124712</td>\n      <td>0.188386</td>\n    </tr>\n  </tbody>\n</table>\n</div>"
     },
     "execution_count": 104,
     "metadata": {},
     "output_type": "execute_result"
    }
   ],
   "source": [
    "df_final_score.sort_values(by='mean')"
   ],
   "metadata": {
    "collapsed": false,
    "ExecuteTime": {
     "end_time": "2023-07-27T03:25:24.999508055Z",
     "start_time": "2023-07-27T03:25:24.987519921Z"
    }
   }
  },
  {
   "cell_type": "code",
   "execution_count": 105,
   "outputs": [
    {
     "ename": "ValueError",
     "evalue": "x and y must be the same size",
     "output_type": "error",
     "traceback": [
      "\u001B[0;31m---------------------------------------------------------------------------\u001B[0m",
      "\u001B[0;31mValueError\u001B[0m                                Traceback (most recent call last)",
      "Input \u001B[0;32mIn [105]\u001B[0m, in \u001B[0;36m<cell line: 5>\u001B[0;34m()\u001B[0m\n\u001B[1;32m      2\u001B[0m \u001B[38;5;28;01mimport\u001B[39;00m \u001B[38;5;21;01mnumpy\u001B[39;00m \u001B[38;5;28;01mas\u001B[39;00m \u001B[38;5;21;01mnp\u001B[39;00m\n\u001B[1;32m      4\u001B[0m fig, ax \u001B[38;5;241m=\u001B[39m plt\u001B[38;5;241m.\u001B[39msubplots()\n\u001B[0;32m----> 5\u001B[0m \u001B[43max\u001B[49m\u001B[38;5;241;43m.\u001B[39;49m\u001B[43mscatter\u001B[49m\u001B[43m(\u001B[49m\u001B[43mx\u001B[49m\u001B[43m \u001B[49m\u001B[38;5;241;43m=\u001B[39;49m\u001B[43m \u001B[49m\u001B[43mnp\u001B[49m\u001B[38;5;241;43m.\u001B[39;49m\u001B[43marange\u001B[49m\u001B[43m(\u001B[49m\u001B[38;5;241;43m0\u001B[39;49m\u001B[43m,\u001B[49m\u001B[38;5;241;43m1\u001B[39;49m\u001B[43m,\u001B[49m\u001B[38;5;241;43m0.00001\u001B[39;49m\u001B[43m)\u001B[49m\u001B[43m,\u001B[49m\u001B[43m \u001B[49m\u001B[43my\u001B[49m\u001B[43m \u001B[49m\u001B[38;5;241;43m=\u001B[39;49m\u001B[43m \u001B[49m\u001B[43mdf_sort_senti\u001B[49m\u001B[43m[\u001B[49m\u001B[38;5;124;43m'\u001B[39;49m\u001B[38;5;124;43mbase_0\u001B[39;49m\u001B[38;5;124;43m'\u001B[39;49m\u001B[43m]\u001B[49m\u001B[43m)\u001B[49m\n\u001B[1;32m      7\u001B[0m \u001B[38;5;28;01mfor\u001B[39;00m i, txt \u001B[38;5;129;01min\u001B[39;00m \u001B[38;5;28menumerate\u001B[39m(value_string):\n\u001B[1;32m      8\u001B[0m         ax\u001B[38;5;241m.\u001B[39mannotate(txt, (df_final_score_age[\u001B[38;5;124m'\u001B[39m\u001B[38;5;124mmean\u001B[39m\u001B[38;5;124m'\u001B[39m]\u001B[38;5;241m.\u001B[39miloc[i], df_final_score_senti[\u001B[38;5;124m'\u001B[39m\u001B[38;5;124mmean\u001B[39m\u001B[38;5;124m'\u001B[39m]\u001B[38;5;241m.\u001B[39miloc[i]))\n",
      "File \u001B[0;32m/usr/local/lib/python3.8/dist-packages/matplotlib/__init__.py:1412\u001B[0m, in \u001B[0;36m_preprocess_data.<locals>.inner\u001B[0;34m(ax, data, *args, **kwargs)\u001B[0m\n\u001B[1;32m   1409\u001B[0m \u001B[38;5;129m@functools\u001B[39m\u001B[38;5;241m.\u001B[39mwraps(func)\n\u001B[1;32m   1410\u001B[0m \u001B[38;5;28;01mdef\u001B[39;00m \u001B[38;5;21minner\u001B[39m(ax, \u001B[38;5;241m*\u001B[39margs, data\u001B[38;5;241m=\u001B[39m\u001B[38;5;28;01mNone\u001B[39;00m, \u001B[38;5;241m*\u001B[39m\u001B[38;5;241m*\u001B[39mkwargs):\n\u001B[1;32m   1411\u001B[0m     \u001B[38;5;28;01mif\u001B[39;00m data \u001B[38;5;129;01mis\u001B[39;00m \u001B[38;5;28;01mNone\u001B[39;00m:\n\u001B[0;32m-> 1412\u001B[0m         \u001B[38;5;28;01mreturn\u001B[39;00m \u001B[43mfunc\u001B[49m\u001B[43m(\u001B[49m\u001B[43max\u001B[49m\u001B[43m,\u001B[49m\u001B[43m \u001B[49m\u001B[38;5;241;43m*\u001B[39;49m\u001B[38;5;28;43mmap\u001B[39;49m\u001B[43m(\u001B[49m\u001B[43msanitize_sequence\u001B[49m\u001B[43m,\u001B[49m\u001B[43m \u001B[49m\u001B[43margs\u001B[49m\u001B[43m)\u001B[49m\u001B[43m,\u001B[49m\u001B[43m \u001B[49m\u001B[38;5;241;43m*\u001B[39;49m\u001B[38;5;241;43m*\u001B[39;49m\u001B[43mkwargs\u001B[49m\u001B[43m)\u001B[49m\n\u001B[1;32m   1414\u001B[0m     bound \u001B[38;5;241m=\u001B[39m new_sig\u001B[38;5;241m.\u001B[39mbind(ax, \u001B[38;5;241m*\u001B[39margs, \u001B[38;5;241m*\u001B[39m\u001B[38;5;241m*\u001B[39mkwargs)\n\u001B[1;32m   1415\u001B[0m     auto_label \u001B[38;5;241m=\u001B[39m (bound\u001B[38;5;241m.\u001B[39marguments\u001B[38;5;241m.\u001B[39mget(label_namer)\n\u001B[1;32m   1416\u001B[0m                   \u001B[38;5;129;01mor\u001B[39;00m bound\u001B[38;5;241m.\u001B[39mkwargs\u001B[38;5;241m.\u001B[39mget(label_namer))\n",
      "File \u001B[0;32m/usr/local/lib/python3.8/dist-packages/matplotlib/axes/_axes.py:4369\u001B[0m, in \u001B[0;36mAxes.scatter\u001B[0;34m(self, x, y, s, c, marker, cmap, norm, vmin, vmax, alpha, linewidths, edgecolors, plotnonfinite, **kwargs)\u001B[0m\n\u001B[1;32m   4367\u001B[0m y \u001B[38;5;241m=\u001B[39m np\u001B[38;5;241m.\u001B[39mma\u001B[38;5;241m.\u001B[39mravel(y)\n\u001B[1;32m   4368\u001B[0m \u001B[38;5;28;01mif\u001B[39;00m x\u001B[38;5;241m.\u001B[39msize \u001B[38;5;241m!=\u001B[39m y\u001B[38;5;241m.\u001B[39msize:\n\u001B[0;32m-> 4369\u001B[0m     \u001B[38;5;28;01mraise\u001B[39;00m \u001B[38;5;167;01mValueError\u001B[39;00m(\u001B[38;5;124m\"\u001B[39m\u001B[38;5;124mx and y must be the same size\u001B[39m\u001B[38;5;124m\"\u001B[39m)\n\u001B[1;32m   4371\u001B[0m \u001B[38;5;28;01mif\u001B[39;00m s \u001B[38;5;129;01mis\u001B[39;00m \u001B[38;5;28;01mNone\u001B[39;00m:\n\u001B[1;32m   4372\u001B[0m     s \u001B[38;5;241m=\u001B[39m (\u001B[38;5;241m20\u001B[39m \u001B[38;5;28;01mif\u001B[39;00m rcParams[\u001B[38;5;124m'\u001B[39m\u001B[38;5;124m_internal.classic_mode\u001B[39m\u001B[38;5;124m'\u001B[39m] \u001B[38;5;28;01melse\u001B[39;00m\n\u001B[1;32m   4373\u001B[0m          rcParams[\u001B[38;5;124m'\u001B[39m\u001B[38;5;124mlines.markersize\u001B[39m\u001B[38;5;124m'\u001B[39m] \u001B[38;5;241m*\u001B[39m\u001B[38;5;241m*\u001B[39m \u001B[38;5;241m2.0\u001B[39m)\n",
      "\u001B[0;31mValueError\u001B[0m: x and y must be the same size"
     ]
    },
    {
     "data": {
      "text/plain": "<Figure size 432x288 with 1 Axes>",
      "image/png": "[encoded data removed]"
     },
     "metadata": {},
     "output_type": "display_data"
    }
   ],
   "source": [
    "import matplotlib.pyplot as plt\n",
    "import numpy as np\n",
    "\n",
    "fig, ax = plt.subplots()\n",
    "ax.scatter(x = np.arange(0,1,0.00001), y = df_sort_senti['base_0'])\n",
    "\n",
    "for i, txt in enumerate(value_string):\n",
    "        ax.annotate(txt, (df_final_score_age['mean'].iloc[i], df_final_score_senti['mean'].iloc[i]))\n"
   ],
   "metadata": {
    "collapsed": false,
    "ExecuteTime": {
     "end_time": "2023-07-27T03:25:25.408633559Z",
     "start_time": "2023-07-27T03:25:25.238060034Z"
    }
   }
  },
  {
   "cell_type": "code",
   "execution_count": 84,
   "outputs": [
    {
     "ename": "KeyError",
     "evalue": "'base_'",
     "output_type": "error",
     "traceback": [
      "\u001B[0;31m---------------------------------------------------------------------------\u001B[0m",
      "\u001B[0;31mKeyError\u001B[0m                                  Traceback (most recent call last)",
      "File \u001B[0;32m/usr/local/lib/python3.8/dist-packages/pandas/core/indexes/base.py:3621\u001B[0m, in \u001B[0;36mIndex.get_loc\u001B[0;34m(self, key, method, tolerance)\u001B[0m\n\u001B[1;32m   3620\u001B[0m \u001B[38;5;28;01mtry\u001B[39;00m:\n\u001B[0;32m-> 3621\u001B[0m     \u001B[38;5;28;01mreturn\u001B[39;00m \u001B[38;5;28;43mself\u001B[39;49m\u001B[38;5;241;43m.\u001B[39;49m\u001B[43m_engine\u001B[49m\u001B[38;5;241;43m.\u001B[39;49m\u001B[43mget_loc\u001B[49m\u001B[43m(\u001B[49m\u001B[43mcasted_key\u001B[49m\u001B[43m)\u001B[49m\n\u001B[1;32m   3622\u001B[0m \u001B[38;5;28;01mexcept\u001B[39;00m \u001B[38;5;167;01mKeyError\u001B[39;00m \u001B[38;5;28;01mas\u001B[39;00m err:\n",
      "File \u001B[0;32m/usr/local/lib/python3.8/dist-packages/pandas/_libs/index.pyx:136\u001B[0m, in \u001B[0;36mpandas._libs.index.IndexEngine.get_loc\u001B[0;34m()\u001B[0m\n",
      "File \u001B[0;32m/usr/local/lib/python3.8/dist-packages/pandas/_libs/index.pyx:163\u001B[0m, in \u001B[0;36mpandas._libs.index.IndexEngine.get_loc\u001B[0;34m()\u001B[0m\n",
      "File \u001B[0;32mpandas/_libs/hashtable_class_helper.pxi:5198\u001B[0m, in \u001B[0;36mpandas._libs.hashtable.PyObjectHashTable.get_item\u001B[0;34m()\u001B[0m\n",
      "File \u001B[0;32mpandas/_libs/hashtable_class_helper.pxi:5206\u001B[0m, in \u001B[0;36mpandas._libs.hashtable.PyObjectHashTable.get_item\u001B[0;34m()\u001B[0m\n",
      "\u001B[0;31mKeyError\u001B[0m: 'base_'",
      "\nThe above exception was the direct cause of the following exception:\n",
      "\u001B[0;31mKeyError\u001B[0m                                  Traceback (most recent call last)",
      "Input \u001B[0;32mIn [84]\u001B[0m, in \u001B[0;36m<cell line: 10>\u001B[0;34m()\u001B[0m\n\u001B[1;32m      7\u001B[0m     \u001B[38;5;28;01mreturn\u001B[39;00m temp_color_list\n\u001B[1;32m      9\u001B[0m data_1 \u001B[38;5;241m=\u001B[39m base_senti[\u001B[38;5;124m'\u001B[39m\u001B[38;5;124mbase_0\u001B[39m\u001B[38;5;124m'\u001B[39m]\n\u001B[0;32m---> 10\u001B[0m data_2 \u001B[38;5;241m=\u001B[39m \u001B[43mdall_senti\u001B[49m\u001B[43m[\u001B[49m\u001B[38;5;124;43m'\u001B[39;49m\u001B[38;5;124;43mbase_\u001B[39;49m\u001B[38;5;124;43m'\u001B[39;49m\u001B[43m]\u001B[49m\n\u001B[1;32m     11\u001B[0m data_3 \u001B[38;5;241m=\u001B[39m mid_senti[\u001B[38;5;124m'\u001B[39m\u001B[38;5;124mnumber\u001B[39m\u001B[38;5;124m'\u001B[39m]\n\u001B[1;32m     12\u001B[0m data_4 \u001B[38;5;241m=\u001B[39m dream_senti[\u001B[38;5;124m'\u001B[39m\u001B[38;5;124mnumber\u001B[39m\u001B[38;5;124m'\u001B[39m]\n",
      "File \u001B[0;32m/usr/local/lib/python3.8/dist-packages/pandas/core/frame.py:3505\u001B[0m, in \u001B[0;36mDataFrame.__getitem__\u001B[0;34m(self, key)\u001B[0m\n\u001B[1;32m   3503\u001B[0m \u001B[38;5;28;01mif\u001B[39;00m \u001B[38;5;28mself\u001B[39m\u001B[38;5;241m.\u001B[39mcolumns\u001B[38;5;241m.\u001B[39mnlevels \u001B[38;5;241m>\u001B[39m \u001B[38;5;241m1\u001B[39m:\n\u001B[1;32m   3504\u001B[0m     \u001B[38;5;28;01mreturn\u001B[39;00m \u001B[38;5;28mself\u001B[39m\u001B[38;5;241m.\u001B[39m_getitem_multilevel(key)\n\u001B[0;32m-> 3505\u001B[0m indexer \u001B[38;5;241m=\u001B[39m \u001B[38;5;28;43mself\u001B[39;49m\u001B[38;5;241;43m.\u001B[39;49m\u001B[43mcolumns\u001B[49m\u001B[38;5;241;43m.\u001B[39;49m\u001B[43mget_loc\u001B[49m\u001B[43m(\u001B[49m\u001B[43mkey\u001B[49m\u001B[43m)\u001B[49m\n\u001B[1;32m   3506\u001B[0m \u001B[38;5;28;01mif\u001B[39;00m is_integer(indexer):\n\u001B[1;32m   3507\u001B[0m     indexer \u001B[38;5;241m=\u001B[39m [indexer]\n",
      "File \u001B[0;32m/usr/local/lib/python3.8/dist-packages/pandas/core/indexes/base.py:3623\u001B[0m, in \u001B[0;36mIndex.get_loc\u001B[0;34m(self, key, method, tolerance)\u001B[0m\n\u001B[1;32m   3621\u001B[0m     \u001B[38;5;28;01mreturn\u001B[39;00m \u001B[38;5;28mself\u001B[39m\u001B[38;5;241m.\u001B[39m_engine\u001B[38;5;241m.\u001B[39mget_loc(casted_key)\n\u001B[1;32m   3622\u001B[0m \u001B[38;5;28;01mexcept\u001B[39;00m \u001B[38;5;167;01mKeyError\u001B[39;00m \u001B[38;5;28;01mas\u001B[39;00m err:\n\u001B[0;32m-> 3623\u001B[0m     \u001B[38;5;28;01mraise\u001B[39;00m \u001B[38;5;167;01mKeyError\u001B[39;00m(key) \u001B[38;5;28;01mfrom\u001B[39;00m \u001B[38;5;21;01merr\u001B[39;00m\n\u001B[1;32m   3624\u001B[0m \u001B[38;5;28;01mexcept\u001B[39;00m \u001B[38;5;167;01mTypeError\u001B[39;00m:\n\u001B[1;32m   3625\u001B[0m     \u001B[38;5;66;03m# If we have a listlike key, _check_indexing_error will raise\u001B[39;00m\n\u001B[1;32m   3626\u001B[0m     \u001B[38;5;66;03m#  InvalidIndexError. Otherwise we fall through and re-raise\u001B[39;00m\n\u001B[1;32m   3627\u001B[0m     \u001B[38;5;66;03m#  the TypeError.\u001B[39;00m\n\u001B[1;32m   3628\u001B[0m     \u001B[38;5;28mself\u001B[39m\u001B[38;5;241m.\u001B[39m_check_indexing_error(key)\n",
      "\u001B[0;31mKeyError\u001B[0m: 'base_'"
     ]
    }
   ],
   "source": [
    "colours = {'base': 'blue', 'dall_e_2': 'green', 'mid_journey': 'coral',  'dream':'cyan', 'CompVis': 'magenta', 'stabilityai': 'yellow',  'nitrosocke':'pink', 'prompthero': 'teal', 'runwayml': 'lightyellow', 'SG161222': 'slategrey' }\n",
    "\n",
    "def get_colours(color_list):\n",
    "    temp_color_list = []\n",
    "    for color  in color_list:\n",
    "        temp_color_list.append(colours[color])\n",
    "    return temp_color_list\n",
    "\n",
    "data_1 = base_senti['base_0']\n",
    "data_2 = dall_senti['base_']\n",
    "data_3 = mid_senti['number']\n",
    "data_4 = dream_senti['number']\n",
    "data_5 = CompVis_senti['number']\n",
    "data_6 = stab_senti['number']\n",
    "data_7 = nit_senti['number']\n",
    "data_8 = prompt_senti['number']\n",
    "data_9 = run_senti['number']\n",
    "data_10 = sg_senti['number']\n",
    "data = [data_1, data_2, data_3, data_4, data_5, data_6, data_7, data_8, data_9, data_10]\n",
    "\n",
    "fig = plt.figure(figsize =(10, 7))\n",
    "ax = fig.add_subplot(111)\n",
    "\n",
    "# Creating axes instance\n",
    "bp = ax.boxplot(data, patch_artist = True, vert = 0)\n",
    "\n",
    "name_id = ['base', 'dall_e_2', 'mid_journey', 'dream', 'CompVis', 'stabilityai', 'nitrosocke','prompthero', 'runwayml','SG161222' ]\n",
    "\n",
    "for patch, color in zip(bp['boxes'], get_colours(name_id)):\n",
    "    patch.set_facecolor(color)\n",
    "\n",
    "# changing color and linewidth of\n",
    "# whiskers\n",
    "for whisker in bp['whiskers']:\n",
    "    whisker.set(color ='#8B008B',\n",
    "                linewidth = 1.5,\n",
    "                linestyle =\":\")\n",
    "\n",
    "# changing color and linewidth of\n",
    "# caps\n",
    "for cap in bp['caps']:\n",
    "    cap.set(color ='#8B008B',\n",
    "            linewidth = 2)\n",
    "\n",
    "# changing color and linewidth of\n",
    "# medians\n",
    "for median in bp['medians']:\n",
    "    median.set(color ='red',\n",
    "               linewidth = 3)\n",
    "\n",
    "# # changing style of fliers\n",
    "# for flier in bp['fliers']:\n",
    "#     flier.set(marker ='D',\n",
    "#               color ='#e7298a',\n",
    "#               alpha = 0.5)\n",
    "\n",
    "# x-axis labels\n",
    "ax.set_yticklabels(name_id)\n",
    "ax.set_xlabel('Number PPL Recognised')\n",
    "\n",
    "# Adding title\n",
    "plt.title(\"Generator vs Number of Humans Recognised\")\n",
    "\n",
    "# Removing top axes and right axes\n",
    "# ticks\n",
    "ax.get_xaxis().tick_bottom()\n",
    "ax.get_yaxis().tick_left()"
   ],
   "metadata": {
    "collapsed": false,
    "ExecuteTime": {
     "end_time": "2023-07-27T02:02:37.279869949Z",
     "start_time": "2023-07-27T02:02:36.495030781Z"
    }
   }
  },
  {
   "cell_type": "code",
   "execution_count": null,
   "outputs": [],
   "source": [],
   "metadata": {
    "collapsed": false
   }
  }
 ],
 "metadata": {
  "kernelspec": {
   "display_name": "Python 3",
   "language": "python",
   "name": "python3"
  },
  "language_info": {
   "codemirror_mode": {
    "name": "ipython",
    "version": 2
   },
   "file_extension": ".py",
   "mimetype": "text/x-python",
   "name": "python",
   "nbconvert_exporter": "python",
   "pygments_lexer": "ipython2",
   "version": "2.7.6"
  }
 },
 "nbformat": 4,
 "nbformat_minor": 0
}
