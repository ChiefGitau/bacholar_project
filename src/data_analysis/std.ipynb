{
 "cells": [
  {
   "cell_type": "code",
   "execution_count": 1,
   "outputs": [],
   "source": [
    "import pandas as pd"
   ],
   "metadata": {
    "collapsed": false,
    "ExecuteTime": {
     "end_time": "2023-09-18T05:57:27.209448300Z",
     "start_time": "2023-09-18T05:57:27.207273678Z"
    }
   },
   "id": "44cfc2abd9900e47"
  },
  {
   "cell_type": "code",
   "execution_count": 7,
   "id": "initial_id",
   "metadata": {
    "collapsed": true,
    "ExecuteTime": {
     "end_time": "2023-09-18T06:01:00.696750589Z",
     "start_time": "2023-09-18T06:01:00.652209248Z"
    }
   },
   "outputs": [],
   "source": [
    "df = pd.read_csv('data_csv/model_1/prompt_0/data_model1.csv')"
   ]
  },
  {
   "cell_type": "code",
   "execution_count": 8,
   "outputs": [
    {
     "data": {
      "text/plain": "                                          Unnamed: 0 generator  base_0  \\\n0  https://ik.imagekit.io/seeingthewords/data/bas...      base  0.0250   \n1  https://ik.imagekit.io/seeingthewords/data/bas...      base  0.0000   \n2  https://ik.imagekit.io/seeingthewords/data/bas...      base  0.1525   \n3  https://ik.imagekit.io/seeingthewords/data/bas...      base  0.1275   \n4  https://ik.imagekit.io/seeingthewords/data/bas...      base  0.2550   \n\n   base_1  base_2  base_3  base_4  \n0  0.1725  0.1225  0.2950  0.0000  \n1  0.2475  0.1725  0.3450  0.0750  \n2  0.0000  0.0250  0.1225  0.1275  \n3  0.0750  0.0000  0.1725  0.0775  \n4  0.0775  0.1275  0.0000  0.2050  ",
      "text/html": "<div>\n<style scoped>\n    .dataframe tbody tr th:only-of-type {\n        vertical-align: middle;\n    }\n\n    .dataframe tbody tr th {\n        vertical-align: top;\n    }\n\n    .dataframe thead th {\n        text-align: right;\n    }\n</style>\n<table border=\"1\" class=\"dataframe\">\n  <thead>\n    <tr style=\"text-align: right;\">\n      <th></th>\n      <th>Unnamed: 0</th>\n      <th>generator</th>\n      <th>base_0</th>\n      <th>base_1</th>\n      <th>base_2</th>\n      <th>base_3</th>\n      <th>base_4</th>\n    </tr>\n  </thead>\n  <tbody>\n    <tr>\n      <th>0</th>\n      <td>https://ik.imagekit.io/seeingthewords/data/bas...</td>\n      <td>base</td>\n      <td>0.0250</td>\n      <td>0.1725</td>\n      <td>0.1225</td>\n      <td>0.2950</td>\n      <td>0.0000</td>\n    </tr>\n    <tr>\n      <th>1</th>\n      <td>https://ik.imagekit.io/seeingthewords/data/bas...</td>\n      <td>base</td>\n      <td>0.0000</td>\n      <td>0.2475</td>\n      <td>0.1725</td>\n      <td>0.3450</td>\n      <td>0.0750</td>\n    </tr>\n    <tr>\n      <th>2</th>\n      <td>https://ik.imagekit.io/seeingthewords/data/bas...</td>\n      <td>base</td>\n      <td>0.1525</td>\n      <td>0.0000</td>\n      <td>0.0250</td>\n      <td>0.1225</td>\n      <td>0.1275</td>\n    </tr>\n    <tr>\n      <th>3</th>\n      <td>https://ik.imagekit.io/seeingthewords/data/bas...</td>\n      <td>base</td>\n      <td>0.1275</td>\n      <td>0.0750</td>\n      <td>0.0000</td>\n      <td>0.1725</td>\n      <td>0.0775</td>\n    </tr>\n    <tr>\n      <th>4</th>\n      <td>https://ik.imagekit.io/seeingthewords/data/bas...</td>\n      <td>base</td>\n      <td>0.2550</td>\n      <td>0.0775</td>\n      <td>0.1275</td>\n      <td>0.0000</td>\n      <td>0.2050</td>\n    </tr>\n  </tbody>\n</table>\n</div>"
     },
     "execution_count": 8,
     "metadata": {},
     "output_type": "execute_result"
    }
   ],
   "source": [
    "df.head()"
   ],
   "metadata": {
    "collapsed": false,
    "ExecuteTime": {
     "end_time": "2023-09-18T06:01:01.118139242Z",
     "start_time": "2023-09-18T06:01:01.110639700Z"
    }
   },
   "id": "35f76c0a6c34ab66"
  },
  {
   "cell_type": "code",
   "execution_count": 9,
   "outputs": [],
   "source": [
    "stab = df[df['generator'] == 'stabilityai']\n",
    "sg= df[df['generator'] == 'SG161222']\n",
    "run = df[df['generator'] == 'runwayml']\n",
    "prompt = df[df['generator'] == 'prompthero']\n",
    "nit = df[df['generator'] == 'nitrosocke']\n",
    "mid = df[df['generator'] == 'mid_journey']\n",
    "dall = df[df['generator'] == 'dall_e_2']\n",
    "dream = df[df['generator'] == 'dream']\n",
    "CompVis = df[df['generator'] == 'CompVis']\n",
    "base = df[df['generator'] == 'base']"
   ],
   "metadata": {
    "collapsed": false,
    "ExecuteTime": {
     "end_time": "2023-09-18T06:01:02.589876027Z",
     "start_time": "2023-09-18T06:01:02.577268415Z"
    }
   },
   "id": "eeb89b21f2e52c2c"
  },
  {
   "cell_type": "code",
   "execution_count": 10,
   "outputs": [
    {
     "data": {
      "text/plain": "                                            Unnamed: 0    generator  base_0  \\\n305  https://ik.imagekit.io/seeingthewords/data/mid...  mid_journey  0.3325   \n306  https://ik.imagekit.io/seeingthewords/data/mid...  mid_journey  0.0775   \n307  https://ik.imagekit.io/seeingthewords/data/mid...  mid_journey  0.0000   \n308  https://ik.imagekit.io/seeingthewords/data/mid...  mid_journey  0.3325   \n309  https://ik.imagekit.io/seeingthewords/data/mid...  mid_journey  0.1275   \n\n     base_1  base_2  base_3  base_4  \n305  0.1550  0.2050  0.0775  0.2825  \n306  0.1500  0.0750  0.2475  0.0025  \n307  0.2475  0.1725  0.3450  0.0750  \n308  0.1550  0.2050  0.0775  0.2825  \n309  0.0750  0.0000  0.1725  0.0775  ",
      "text/html": "<div>\n<style scoped>\n    .dataframe tbody tr th:only-of-type {\n        vertical-align: middle;\n    }\n\n    .dataframe tbody tr th {\n        vertical-align: top;\n    }\n\n    .dataframe thead th {\n        text-align: right;\n    }\n</style>\n<table border=\"1\" class=\"dataframe\">\n  <thead>\n    <tr style=\"text-align: right;\">\n      <th></th>\n      <th>Unnamed: 0</th>\n      <th>generator</th>\n      <th>base_0</th>\n      <th>base_1</th>\n      <th>base_2</th>\n      <th>base_3</th>\n      <th>base_4</th>\n    </tr>\n  </thead>\n  <tbody>\n    <tr>\n      <th>305</th>\n      <td>https://ik.imagekit.io/seeingthewords/data/mid...</td>\n      <td>mid_journey</td>\n      <td>0.3325</td>\n      <td>0.1550</td>\n      <td>0.2050</td>\n      <td>0.0775</td>\n      <td>0.2825</td>\n    </tr>\n    <tr>\n      <th>306</th>\n      <td>https://ik.imagekit.io/seeingthewords/data/mid...</td>\n      <td>mid_journey</td>\n      <td>0.0775</td>\n      <td>0.1500</td>\n      <td>0.0750</td>\n      <td>0.2475</td>\n      <td>0.0025</td>\n    </tr>\n    <tr>\n      <th>307</th>\n      <td>https://ik.imagekit.io/seeingthewords/data/mid...</td>\n      <td>mid_journey</td>\n      <td>0.0000</td>\n      <td>0.2475</td>\n      <td>0.1725</td>\n      <td>0.3450</td>\n      <td>0.0750</td>\n    </tr>\n    <tr>\n      <th>308</th>\n      <td>https://ik.imagekit.io/seeingthewords/data/mid...</td>\n      <td>mid_journey</td>\n      <td>0.3325</td>\n      <td>0.1550</td>\n      <td>0.2050</td>\n      <td>0.0775</td>\n      <td>0.2825</td>\n    </tr>\n    <tr>\n      <th>309</th>\n      <td>https://ik.imagekit.io/seeingthewords/data/mid...</td>\n      <td>mid_journey</td>\n      <td>0.1275</td>\n      <td>0.0750</td>\n      <td>0.0000</td>\n      <td>0.1725</td>\n      <td>0.0775</td>\n    </tr>\n  </tbody>\n</table>\n</div>"
     },
     "execution_count": 10,
     "metadata": {},
     "output_type": "execute_result"
    }
   ],
   "source": [
    "mid.head()"
   ],
   "metadata": {
    "collapsed": false,
    "ExecuteTime": {
     "end_time": "2023-09-18T06:01:03.785327506Z",
     "start_time": "2023-09-18T06:01:03.778719320Z"
    }
   },
   "id": "4d29951308051ebb"
  },
  {
   "cell_type": "code",
   "execution_count": 16,
   "outputs": [
    {
     "name": "stderr",
     "output_type": "stream",
     "text": [
      "/tmp/ipykernel_94094/3743074346.py:1: FutureWarning: Dropping of nuisance columns in DataFrame reductions (with 'numeric_only=None') is deprecated; in a future version this will raise TypeError.  Select only valid columns before calling the reduction.\n",
      "  temp = mid.std().mean()\n"
     ]
    },
    {
     "data": {
      "text/plain": "0.09025038483991045"
     },
     "execution_count": 16,
     "metadata": {},
     "output_type": "execute_result"
    }
   ],
   "source": [
    "temp = mid.std().mean()\n",
    "temp"
   ],
   "metadata": {
    "collapsed": false,
    "ExecuteTime": {
     "end_time": "2023-09-18T06:02:38.032014101Z",
     "start_time": "2023-09-18T06:02:38.024258121Z"
    }
   },
   "id": "db6cce26e24180dc"
  },
  {
   "cell_type": "code",
   "execution_count": 17,
   "outputs": [
    {
     "data": {
      "text/plain": "0.0"
     },
     "execution_count": 17,
     "metadata": {},
     "output_type": "execute_result"
    }
   ],
   "source": [],
   "metadata": {
    "collapsed": false,
    "ExecuteTime": {
     "end_time": "2023-09-18T06:02:55.827144441Z",
     "start_time": "2023-09-18T06:02:55.812058836Z"
    }
   },
   "id": "8b5b730200b64113"
  },
  {
   "cell_type": "code",
   "execution_count": null,
   "outputs": [],
   "source": [],
   "metadata": {
    "collapsed": false
   },
   "id": "cf0b7e42ed608e52"
  }
 ],
 "metadata": {
  "kernelspec": {
   "display_name": "Python 3",
   "language": "python",
   "name": "python3"
  },
  "language_info": {
   "codemirror_mode": {
    "name": "ipython",
    "version": 2
   },
   "file_extension": ".py",
   "mimetype": "text/x-python",
   "name": "python",
   "nbconvert_exporter": "python",
   "pygments_lexer": "ipython2",
   "version": "2.7.6"
  }
 },
 "nbformat": 4,
 "nbformat_minor": 5
}
