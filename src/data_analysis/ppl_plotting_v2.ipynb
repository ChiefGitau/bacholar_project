{
 "cells": [
  {
   "cell_type": "code",
   "execution_count": 8,
   "outputs": [
    {
     "name": "stdout",
     "output_type": "stream",
     "text": [
      "Found existing installation: numpy 1.21.0\r\n",
      "Uninstalling numpy-1.21.0:\r\n",
      "  Would remove:\r\n",
      "    /home/hidde/.local/bin/f2py\r\n",
      "    /home/hidde/.local/bin/f2py3\r\n",
      "    /home/hidde/.local/bin/f2py3.8\r\n",
      "    /home/hidde/.local/lib/python3.8/site-packages/numpy-1.21.0.dist-info/*\r\n",
      "    /home/hidde/.local/lib/python3.8/site-packages/numpy.libs/libgfortran-2e0d59d6.so.5.0.0\r\n",
      "    /home/hidde/.local/lib/python3.8/site-packages/numpy.libs/libopenblasp-r0-5bebc122.3.13.dev.so\r\n",
      "    /home/hidde/.local/lib/python3.8/site-packages/numpy.libs/libquadmath-2d0c479f.so.0.0.0\r\n",
      "    /home/hidde/.local/lib/python3.8/site-packages/numpy.libs/libz-eb09ad1d.so.1.2.3\r\n",
      "    /home/hidde/.local/lib/python3.8/site-packages/numpy/*\r\n",
      "Proceed (Y/n)? ^C\r\n",
      "\u001B[31mERROR: Operation cancelled by user\u001B[0m\u001B[31m\r\n",
      "\u001B[0m"
     ]
    }
   ],
   "source": [
    "!pip uninstall numpy"
   ],
   "metadata": {
    "collapsed": false,
    "ExecuteTime": {
     "end_time": "2023-09-13T14:47:28.951648836Z",
     "start_time": "2023-09-13T14:47:01.827851947Z"
    }
   }
  },
  {
   "cell_type": "code",
   "execution_count": 1,
   "outputs": [
    {
     "name": "stdout",
     "output_type": "stream",
     "text": [
      "Defaulting to user installation because normal site-packages is not writeable\r\n",
      "Requirement already satisfied: numpy==1.21 in /home/hidde/.local/lib/python3.8/site-packages (1.21.0)\r\n",
      "\r\n",
      "\u001B[1m[\u001B[0m\u001B[34;49mnotice\u001B[0m\u001B[1;39;49m]\u001B[0m\u001B[39;49m A new release of pip is available: \u001B[0m\u001B[31;49m23.0\u001B[0m\u001B[39;49m -> \u001B[0m\u001B[32;49m23.2.1\u001B[0m\r\n",
      "\u001B[1m[\u001B[0m\u001B[34;49mnotice\u001B[0m\u001B[1;39;49m]\u001B[0m\u001B[39;49m To update, run: \u001B[0m\u001B[32;49mpython3.8 -m pip install --upgrade pip\u001B[0m\r\n"
     ]
    }
   ],
   "source": [
    "!pip install numpy==1.21"
   ],
   "metadata": {
    "collapsed": false,
    "ExecuteTime": {
     "end_time": "2023-09-18T04:42:06.543423501Z",
     "start_time": "2023-09-18T04:42:04.672863689Z"
    }
   }
  },
  {
   "cell_type": "code",
   "execution_count": 1,
   "outputs": [
    {
     "data": {
      "text/plain": "'1.21.0'"
     },
     "execution_count": 1,
     "metadata": {},
     "output_type": "execute_result"
    }
   ],
   "source": [
    "import numpy\n",
    "numpy.version.version"
   ],
   "metadata": {
    "collapsed": false,
    "ExecuteTime": {
     "end_time": "2023-09-14T06:48:22.483443049Z",
     "start_time": "2023-09-14T06:48:22.479889956Z"
    }
   }
  },
  {
   "cell_type": "code",
   "execution_count": 2,
   "metadata": {
    "collapsed": true,
    "ExecuteTime": {
     "end_time": "2023-09-18T04:42:37.208959870Z",
     "start_time": "2023-09-18T04:42:37.163264932Z"
    }
   },
   "outputs": [],
   "source": [
    "import numpy as np \n",
    "import pandas as pd\n",
    "import matplotlib.pyplot as plt\n",
    "import seaborn as sns"
   ]
  },
  {
   "cell_type": "code",
   "execution_count": 32,
   "outputs": [],
   "source": [
    "data_frame = pd.read_csv('data_csv/prompt_0/data_ppl_detectron.csv')\n",
    "\n",
    "temp = data_frame.head()\n",
    "\n",
    "\n",
    "df = data_frame"
   ],
   "metadata": {
    "collapsed": false,
    "ExecuteTime": {
     "end_time": "2023-09-18T05:15:48.936917720Z",
     "start_time": "2023-09-18T05:15:48.889870504Z"
    }
   }
  },
  {
   "cell_type": "code",
   "execution_count": 33,
   "outputs": [
    {
     "data": {
      "text/plain": "   Unnamed: 0                                           image_id    generator  \\\n0           0  https://ik.imagekit.io/seeingthewords/data/sta...  stabilityai   \n1           1  https://ik.imagekit.io/seeingthewords/data/sta...  stabilityai   \n2           2  https://ik.imagekit.io/seeingthewords/data/sta...  stabilityai   \n3           3  https://ik.imagekit.io/seeingthewords/data/sta...  stabilityai   \n4           4  https://ik.imagekit.io/seeingthewords/data/sta...  stabilityai   \n\n   number  female  male                     age_details  \n0       0       0     0                              []  \n1       0       0     0                              []  \n2       2       1     1  [['Male', 28], ['Female', 28]]  \n3       2       0     2    [['Male', 40], ['Male', 80]]  \n4       2       1     1   [['Female', 1], ['Male', 80]]  ",
      "text/html": "<div>\n<style scoped>\n    .dataframe tbody tr th:only-of-type {\n        vertical-align: middle;\n    }\n\n    .dataframe tbody tr th {\n        vertical-align: top;\n    }\n\n    .dataframe thead th {\n        text-align: right;\n    }\n</style>\n<table border=\"1\" class=\"dataframe\">\n  <thead>\n    <tr style=\"text-align: right;\">\n      <th></th>\n      <th>Unnamed: 0</th>\n      <th>image_id</th>\n      <th>generator</th>\n      <th>number</th>\n      <th>female</th>\n      <th>male</th>\n      <th>age_details</th>\n    </tr>\n  </thead>\n  <tbody>\n    <tr>\n      <th>0</th>\n      <td>0</td>\n      <td>https://ik.imagekit.io/seeingthewords/data/sta...</td>\n      <td>stabilityai</td>\n      <td>0</td>\n      <td>0</td>\n      <td>0</td>\n      <td>[]</td>\n    </tr>\n    <tr>\n      <th>1</th>\n      <td>1</td>\n      <td>https://ik.imagekit.io/seeingthewords/data/sta...</td>\n      <td>stabilityai</td>\n      <td>0</td>\n      <td>0</td>\n      <td>0</td>\n      <td>[]</td>\n    </tr>\n    <tr>\n      <th>2</th>\n      <td>2</td>\n      <td>https://ik.imagekit.io/seeingthewords/data/sta...</td>\n      <td>stabilityai</td>\n      <td>2</td>\n      <td>1</td>\n      <td>1</td>\n      <td>[['Male', 28], ['Female', 28]]</td>\n    </tr>\n    <tr>\n      <th>3</th>\n      <td>3</td>\n      <td>https://ik.imagekit.io/seeingthewords/data/sta...</td>\n      <td>stabilityai</td>\n      <td>2</td>\n      <td>0</td>\n      <td>2</td>\n      <td>[['Male', 40], ['Male', 80]]</td>\n    </tr>\n    <tr>\n      <th>4</th>\n      <td>4</td>\n      <td>https://ik.imagekit.io/seeingthewords/data/sta...</td>\n      <td>stabilityai</td>\n      <td>2</td>\n      <td>1</td>\n      <td>1</td>\n      <td>[['Female', 1], ['Male', 80]]</td>\n    </tr>\n  </tbody>\n</table>\n</div>"
     },
     "execution_count": 33,
     "metadata": {},
     "output_type": "execute_result"
    }
   ],
   "source": [
    "temp"
   ],
   "metadata": {
    "collapsed": false,
    "ExecuteTime": {
     "end_time": "2023-09-18T05:15:49.925158837Z",
     "start_time": "2023-09-18T05:15:49.915316926Z"
    }
   }
  },
  {
   "cell_type": "code",
   "execution_count": 34,
   "outputs": [],
   "source": [
    "stab = df[df['generator'] == 'stabilityai']\n",
    "sg= df[df['generator'] == 'SG161222']\n",
    "run = df[df['generator'] == 'runwayml']\n",
    "prompt = df[df['generator'] == 'prompthero']\n",
    "nit = df[df['generator'] == 'nitrosocke']\n",
    "mid = df[df['generator'] == 'mid_journey']\n",
    "dall = df[df['generator'] == 'dall_e_2']\n",
    "dream = df[df['generator'] == 'dream']\n",
    "CompVis = df[df['generator'] == 'CompVis']\n",
    "base = df[df['generator'] == 'base']"
   ],
   "metadata": {
    "collapsed": false,
    "ExecuteTime": {
     "end_time": "2023-09-18T05:15:50.734244081Z",
     "start_time": "2023-09-18T05:15:50.721555313Z"
    }
   }
  },
  {
   "cell_type": "code",
   "execution_count": 34,
   "outputs": [],
   "source": [],
   "metadata": {
    "collapsed": false,
    "ExecuteTime": {
     "end_time": "2023-09-18T05:15:51.803429039Z",
     "start_time": "2023-09-18T05:15:51.787585420Z"
    }
   }
  },
  {
   "cell_type": "code",
   "execution_count": 34,
   "outputs": [],
   "source": [],
   "metadata": {
    "collapsed": false,
    "ExecuteTime": {
     "end_time": "2023-09-18T05:15:52.441287445Z",
     "start_time": "2023-09-18T05:15:52.428957566Z"
    }
   }
  },
  {
   "cell_type": "code",
   "execution_count": 35,
   "outputs": [],
   "source": [
    "temp_value = []\n",
    "temp_value_i = []\n"
   ],
   "metadata": {
    "collapsed": false,
    "ExecuteTime": {
     "end_time": "2023-09-18T05:15:53.124369048Z",
     "start_time": "2023-09-18T05:15:53.110613712Z"
    }
   }
  },
  {
   "cell_type": "code",
   "execution_count": 36,
   "outputs": [
    {
     "data": {
      "text/plain": "   Unnamed: 0                                           image_id    generator  \\\n0           0  https://ik.imagekit.io/seeingthewords/data/sta...  stabilityai   \n1           1  https://ik.imagekit.io/seeingthewords/data/sta...  stabilityai   \n2           2  https://ik.imagekit.io/seeingthewords/data/sta...  stabilityai   \n3           3  https://ik.imagekit.io/seeingthewords/data/sta...  stabilityai   \n4           4  https://ik.imagekit.io/seeingthewords/data/sta...  stabilityai   \n\n   number  female  male                     age_details  \n0       0       0     0                              []  \n1       0       0     0                              []  \n2       2       1     1  [['Male', 28], ['Female', 28]]  \n3       2       0     2    [['Male', 40], ['Male', 80]]  \n4       2       1     1   [['Female', 1], ['Male', 80]]  ",
      "text/html": "<div>\n<style scoped>\n    .dataframe tbody tr th:only-of-type {\n        vertical-align: middle;\n    }\n\n    .dataframe tbody tr th {\n        vertical-align: top;\n    }\n\n    .dataframe thead th {\n        text-align: right;\n    }\n</style>\n<table border=\"1\" class=\"dataframe\">\n  <thead>\n    <tr style=\"text-align: right;\">\n      <th></th>\n      <th>Unnamed: 0</th>\n      <th>image_id</th>\n      <th>generator</th>\n      <th>number</th>\n      <th>female</th>\n      <th>male</th>\n      <th>age_details</th>\n    </tr>\n  </thead>\n  <tbody>\n    <tr>\n      <th>0</th>\n      <td>0</td>\n      <td>https://ik.imagekit.io/seeingthewords/data/sta...</td>\n      <td>stabilityai</td>\n      <td>0</td>\n      <td>0</td>\n      <td>0</td>\n      <td>[]</td>\n    </tr>\n    <tr>\n      <th>1</th>\n      <td>1</td>\n      <td>https://ik.imagekit.io/seeingthewords/data/sta...</td>\n      <td>stabilityai</td>\n      <td>0</td>\n      <td>0</td>\n      <td>0</td>\n      <td>[]</td>\n    </tr>\n    <tr>\n      <th>2</th>\n      <td>2</td>\n      <td>https://ik.imagekit.io/seeingthewords/data/sta...</td>\n      <td>stabilityai</td>\n      <td>2</td>\n      <td>1</td>\n      <td>1</td>\n      <td>[['Male', 28], ['Female', 28]]</td>\n    </tr>\n    <tr>\n      <th>3</th>\n      <td>3</td>\n      <td>https://ik.imagekit.io/seeingthewords/data/sta...</td>\n      <td>stabilityai</td>\n      <td>2</td>\n      <td>0</td>\n      <td>2</td>\n      <td>[['Male', 40], ['Male', 80]]</td>\n    </tr>\n    <tr>\n      <th>4</th>\n      <td>4</td>\n      <td>https://ik.imagekit.io/seeingthewords/data/sta...</td>\n      <td>stabilityai</td>\n      <td>2</td>\n      <td>1</td>\n      <td>1</td>\n      <td>[['Female', 1], ['Male', 80]]</td>\n    </tr>\n  </tbody>\n</table>\n</div>"
     },
     "execution_count": 36,
     "metadata": {},
     "output_type": "execute_result"
    }
   ],
   "source": [
    "check  = sg"
   ],
   "metadata": {
    "collapsed": false,
    "ExecuteTime": {
     "end_time": "2023-09-18T05:15:53.917487778Z",
     "start_time": "2023-09-18T05:15:53.907633448Z"
    }
   }
  },
  {
   "cell_type": "code",
   "execution_count": 37,
   "outputs": [],
   "source": [
    "for i in range (0, df['number'].max() + 1):\n",
    "    print(\"i -> \" + str(i))\n",
    "    total = ((((((len(sg.loc[sg['number'] == i])/ len(sg)) \n",
    "             + (len(stab.loc[stab['number'] == i]) / len(stab)) \n",
    "             + (len(run.loc[run['number'] == i])/ len(run)))\n",
    "             + (len(prompt.loc[prompt['number'] == i])/ len(prompt)))\n",
    "             + (len(CompVis.loc[CompVis['number'] == i])/ len(CompVis))) \n",
    "             + (len(dream.loc[dream['number'] == i])/ len(dream))) \n",
    "             + (len(nit.loc[nit['number'] == i])/ len(nit)))/7\n",
    "\n",
    "    \n",
    "    temp_value.append(total)\n",
    "    temp_value_i.append(i)\n",
    "    \n",
    "    \n",
    "    \n",
    "    print('average -> ' + str(total) + '%')\n",
    "    "
   ],
   "metadata": {
    "collapsed": false,
    "ExecuteTime": {
     "end_time": "2023-09-18T05:15:54.893057469Z",
     "start_time": "2023-09-18T05:15:54.872226156Z"
    }
   }
  },
  {
   "cell_type": "code",
   "execution_count": 38,
   "outputs": [
    {
     "name": "stdout",
     "output_type": "stream",
     "text": [
      "i -> 0\n",
      "average -> 0.11285714285714286%\n",
      "i -> 1\n",
      "average -> 0.16142857142857142%\n",
      "i -> 2\n",
      "average -> 0.12071428571428573%\n",
      "i -> 3\n",
      "average -> 0.13071428571428573%\n",
      "i -> 4\n",
      "average -> 0.125%\n",
      "i -> 5\n",
      "average -> 0.11285714285714285%\n",
      "i -> 6\n",
      "average -> 0.08071428571428572%\n",
      "i -> 7\n",
      "average -> 0.06071428571428571%\n",
      "i -> 8\n",
      "average -> 0.038571428571428576%\n",
      "i -> 9\n",
      "average -> 0.029285714285714286%\n",
      "i -> 10\n",
      "average -> 0.012857142857142857%\n",
      "i -> 11\n",
      "average -> 0.0071428571428571435%\n",
      "i -> 12\n",
      "average -> 0.002857142857142857%\n",
      "i -> 13\n",
      "average -> 0.002857142857142857%\n",
      "i -> 14\n",
      "average -> 0.0014285714285714286%\n"
     ]
    }
   ],
   "source": [
    "dict_distribution = {'Number': temp_value_i, ' DALL E': temp_value_dall, 'Mid Jourey': temp_value_mid, 'RW': temp_value_stab}\n",
    "\n",
    "\n",
    "\n",
    "df_distribution = pd.DataFrame(dict_distribution)\n",
    "\n",
    "df_distribution = df.loc[(df['generator']=='mid_journey') |  (df['generator']=='dall_e_2' ) | (df['generator']=='runwayml') | (df['generator']=='SG161222') | (df['generator']=='base')]\n"
   ],
   "metadata": {
    "collapsed": false,
    "ExecuteTime": {
     "end_time": "2023-09-18T05:15:55.996333708Z",
     "start_time": "2023-09-18T05:15:55.971341547Z"
    }
   }
  },
  {
   "cell_type": "code",
   "execution_count": 39,
   "outputs": [],
   "source": [
    "df_distribution.head()\n",
    "penguins = sns.load_dataset(\"penguins\")\n",
    "df.head()"
   ],
   "metadata": {
    "collapsed": false,
    "ExecuteTime": {
     "end_time": "2023-09-18T05:15:57.932346652Z",
     "start_time": "2023-09-18T05:15:57.921635669Z"
    }
   }
  },
  {
   "cell_type": "code",
   "execution_count": 40,
   "outputs": [
    {
     "data": {
      "text/plain": "   Unnamed: 0                                           image_id    generator  \\\n0           0  https://ik.imagekit.io/seeingthewords/data/sta...  stabilityai   \n1           1  https://ik.imagekit.io/seeingthewords/data/sta...  stabilityai   \n2           2  https://ik.imagekit.io/seeingthewords/data/sta...  stabilityai   \n3           3  https://ik.imagekit.io/seeingthewords/data/sta...  stabilityai   \n4           4  https://ik.imagekit.io/seeingthewords/data/sta...  stabilityai   \n\n   number  female  male                     age_details  \n0       0       0     0                              []  \n1       0       0     0                              []  \n2       2       1     1  [['Male', 28], ['Female', 28]]  \n3       2       0     2    [['Male', 40], ['Male', 80]]  \n4       2       1     1   [['Female', 1], ['Male', 80]]  ",
      "text/html": "<div>\n<style scoped>\n    .dataframe tbody tr th:only-of-type {\n        vertical-align: middle;\n    }\n\n    .dataframe tbody tr th {\n        vertical-align: top;\n    }\n\n    .dataframe thead th {\n        text-align: right;\n    }\n</style>\n<table border=\"1\" class=\"dataframe\">\n  <thead>\n    <tr style=\"text-align: right;\">\n      <th></th>\n      <th>Unnamed: 0</th>\n      <th>image_id</th>\n      <th>generator</th>\n      <th>number</th>\n      <th>female</th>\n      <th>male</th>\n      <th>age_details</th>\n    </tr>\n  </thead>\n  <tbody>\n    <tr>\n      <th>0</th>\n      <td>0</td>\n      <td>https://ik.imagekit.io/seeingthewords/data/sta...</td>\n      <td>stabilityai</td>\n      <td>0</td>\n      <td>0</td>\n      <td>0</td>\n      <td>[]</td>\n    </tr>\n    <tr>\n      <th>1</th>\n      <td>1</td>\n      <td>https://ik.imagekit.io/seeingthewords/data/sta...</td>\n      <td>stabilityai</td>\n      <td>0</td>\n      <td>0</td>\n      <td>0</td>\n      <td>[]</td>\n    </tr>\n    <tr>\n      <th>2</th>\n      <td>2</td>\n      <td>https://ik.imagekit.io/seeingthewords/data/sta...</td>\n      <td>stabilityai</td>\n      <td>2</td>\n      <td>1</td>\n      <td>1</td>\n      <td>[['Male', 28], ['Female', 28]]</td>\n    </tr>\n    <tr>\n      <th>3</th>\n      <td>3</td>\n      <td>https://ik.imagekit.io/seeingthewords/data/sta...</td>\n      <td>stabilityai</td>\n      <td>2</td>\n      <td>0</td>\n      <td>2</td>\n      <td>[['Male', 40], ['Male', 80]]</td>\n    </tr>\n    <tr>\n      <th>4</th>\n      <td>4</td>\n      <td>https://ik.imagekit.io/seeingthewords/data/sta...</td>\n      <td>stabilityai</td>\n      <td>2</td>\n      <td>1</td>\n      <td>1</td>\n      <td>[['Female', 1], ['Male', 80]]</td>\n    </tr>\n  </tbody>\n</table>\n</div>"
     },
     "execution_count": 40,
     "metadata": {},
     "output_type": "execute_result"
    }
   ],
   "source": [
    "sns.displot(df_distribution, x='number', hue = 'generator', multiple='dodge', stat='percent', common_norm = False,)"
   ],
   "metadata": {
    "collapsed": false,
    "ExecuteTime": {
     "end_time": "2023-09-18T05:15:58.859817242Z",
     "start_time": "2023-09-18T05:15:58.846249061Z"
    }
   }
  },
  {
   "cell_type": "code",
   "execution_count": 55,
   "outputs": [
    {
     "data": {
      "text/plain": "<matplotlib.legend.Legend at 0x7f92e97bc610>"
     },
     "execution_count": 55,
     "metadata": {},
     "output_type": "execute_result"
    },
    {
     "data": {
      "text/plain": "<Figure size 1080x360 with 1 Axes>",
      "image/png": "[encoded data removed]"
     },
     "metadata": {},
     "output_type": "display_data"
    }
   ],
   "source": [
    "find_max = run['number'].unique()\n",
    "find_max"
   ],
   "metadata": {
    "collapsed": false,
    "ExecuteTime": {
     "end_time": "2023-09-19T05:58:14.512956682Z",
     "start_time": "2023-09-19T05:58:14.268891899Z"
    }
   }
  },
  {
   "cell_type": "code",
   "execution_count": 53,
   "outputs": [
    {
     "data": {
      "text/plain": "<Figure size 1177.5x360 with 1 Axes>",
      "image/png": "[encoded data removed]"
     },
     "metadata": {},
     "output_type": "display_data"
    }
   ],
   "source": [
    "len(run.loc[run['number'] == 5])\n"
   ],
   "metadata": {
    "collapsed": false,
    "ExecuteTime": {
     "end_time": "2023-09-19T05:56:03.757211237Z",
     "start_time": "2023-09-19T05:56:03.484100617Z"
    }
   }
  },
  {
   "cell_type": "code",
   "execution_count": 45,
   "outputs": [
    {
     "data": {
      "text/plain": "29"
     },
     "execution_count": 45,
     "metadata": {},
     "output_type": "execute_result"
    }
   ],
   "source": [
    "get_max = check['number'].unique()\n",
    "get_max = check[check['number'] == 4]\n",
    "get_max.head()"
   ],
   "metadata": {
    "collapsed": false,
    "ExecuteTime": {
     "end_time": "2023-09-18T05:38:28.522845994Z",
     "start_time": "2023-09-18T05:38:28.472832572Z"
    }
   }
  },
  {
   "cell_type": "code",
   "execution_count": 46,
   "outputs": [
    {
     "data": {
      "text/plain": "     Unnamed: 0                                           image_id generator  \\\n207         207  https://ik.imagekit.io/seeingthewords/data/SG1...  SG161222   \n209         209  https://ik.imagekit.io/seeingthewords/data/SG1...  SG161222   \n210         210  https://ik.imagekit.io/seeingthewords/data/SG1...  SG161222   \n214         214  https://ik.imagekit.io/seeingthewords/data/SG1...  SG161222   \n222         222  https://ik.imagekit.io/seeingthewords/data/SG1...  SG161222   \n\n     number  female  male                                        age_details  \n207       4       3     1  [['Male', 1], ['Female', 28], ['Female', 28], ...  \n209       4       3     1  [['Female', 80], ['Male', 5], ['Female', 80], ...  \n210       4       3     1  [['Female', 28], ['Male', 28], ['Female', 80],...  \n214       4       3     1  [['Male', 28], ['Female', 40], ['Female', 80],...  \n222       4       1     3  [['Male', 80], ['Male', 28], ['Male', 80], ['F...  ",
      "text/html": "<div>\n<style scoped>\n    .dataframe tbody tr th:only-of-type {\n        vertical-align: middle;\n    }\n\n    .dataframe tbody tr th {\n        vertical-align: top;\n    }\n\n    .dataframe thead th {\n        text-align: right;\n    }\n</style>\n<table border=\"1\" class=\"dataframe\">\n  <thead>\n    <tr style=\"text-align: right;\">\n      <th></th>\n      <th>Unnamed: 0</th>\n      <th>image_id</th>\n      <th>generator</th>\n      <th>number</th>\n      <th>female</th>\n      <th>male</th>\n      <th>age_details</th>\n    </tr>\n  </thead>\n  <tbody>\n    <tr>\n      <th>207</th>\n      <td>207</td>\n      <td>https://ik.imagekit.io/seeingthewords/data/SG1...</td>\n      <td>SG161222</td>\n      <td>4</td>\n      <td>3</td>\n      <td>1</td>\n      <td>[['Male', 1], ['Female', 28], ['Female', 28], ...</td>\n    </tr>\n    <tr>\n      <th>209</th>\n      <td>209</td>\n      <td>https://ik.imagekit.io/seeingthewords/data/SG1...</td>\n      <td>SG161222</td>\n      <td>4</td>\n      <td>3</td>\n      <td>1</td>\n      <td>[['Female', 80], ['Male', 5], ['Female', 80], ...</td>\n    </tr>\n    <tr>\n      <th>210</th>\n      <td>210</td>\n      <td>https://ik.imagekit.io/seeingthewords/data/SG1...</td>\n      <td>SG161222</td>\n      <td>4</td>\n      <td>3</td>\n      <td>1</td>\n      <td>[['Female', 28], ['Male', 28], ['Female', 80],...</td>\n    </tr>\n    <tr>\n      <th>214</th>\n      <td>214</td>\n      <td>https://ik.imagekit.io/seeingthewords/data/SG1...</td>\n      <td>SG161222</td>\n      <td>4</td>\n      <td>3</td>\n      <td>1</td>\n      <td>[['Male', 28], ['Female', 40], ['Female', 80],...</td>\n    </tr>\n    <tr>\n      <th>222</th>\n      <td>222</td>\n      <td>https://ik.imagekit.io/seeingthewords/data/SG1...</td>\n      <td>SG161222</td>\n      <td>4</td>\n      <td>1</td>\n      <td>3</td>\n      <td>[['Male', 80], ['Male', 28], ['Male', 80], ['F...</td>\n    </tr>\n  </tbody>\n</table>\n</div>"
     },
     "execution_count": 46,
     "metadata": {},
     "output_type": "execute_result"
    }
   ],
   "source": [
    "colours = {'base': 'blue', 'dall_e_2': 'green', 'mid_journey': 'coral',  'dream':'cyan', 'CompVis': 'magenta', 'stabilityai': 'yellow',  'nitrosocke':'pink', 'prompthero': 'teal', 'runwayml': 'lightyellow', 'SG161222': 'slategrey' }\n",
    "\n",
    "name_id = ['base', 'dall_e_2', 'mid_journey', 'dream', 'CompVis', 'stabilityai', 'nitrosocke','prompthero', 'runwayml','SG161222' ]\n",
    "\n",
    "\n",
    "def get_colours(color_list):\n",
    "    temp_color_list = []\n",
    "    for color  in color_list:\n",
    "        temp_color_list.append(colours[color])\n",
    "    return temp_color_list"
   ],
   "metadata": {
    "collapsed": false,
    "ExecuteTime": {
     "end_time": "2023-09-18T05:38:29.457437814Z",
     "start_time": "2023-09-18T05:38:29.447273386Z"
    }
   }
  },
  {
   "cell_type": "code",
   "execution_count": null,
   "outputs": [],
   "source": [
    "data_1 = base['number']\n",
    "data_2 = dall['number']\n",
    "data_3 = mid['number']\n",
    "data_4 = dream['number']\n",
    "data_5 = CompVis['number']\n",
    "data_6 = stab['number']\n",
    "data_7 = nit['number']\n",
    "data_8 = prompt['number']\n",
    "data_9 = run['number']\n",
    "data_10 = sg['number']\n",
    "data = [data_1, data_2, data_3, data_4, data_5, data_6, data_7, data_8, data_9, data_10]\n",
    "\n",
    "fig = plt.figure(figsize =(10, 7))\n",
    "ax = fig.add_subplot(111)\n",
    "\n",
    "# Creating axes instance\n",
    "bp = ax.boxplot(data, patch_artist = True, vert = 0)\n",
    "\n",
    "\n",
    "\n",
    "for patch, color in zip(bp['boxes'], get_colours(name_id)):\n",
    "    patch.set_facecolor(color)\n",
    "\n",
    "# changing color and linewidth of\n",
    "# whiskers\n",
    "for whisker in bp['whiskers']:\n",
    "    whisker.set(color ='#8B008B',\n",
    "                linewidth = 1.5,\n",
    "                linestyle =\":\")\n",
    "\n",
    "# changing color and linewidth of\n",
    "# caps\n",
    "for cap in bp['caps']:\n",
    "    cap.set(color ='#8B008B',\n",
    "            linewidth = 2)\n",
    "\n",
    "# changing color and linewidth of\n",
    "# medians\n",
    "for median in bp['medians']:\n",
    "    median.set(color ='red',\n",
    "               linewidth = 3)\n",
    "\n",
    "# # changing style of fliers\n",
    "# for flier in bp['fliers']:\n",
    "#     flier.set(marker ='D',\n",
    "#               color ='#e7298a',\n",
    "#               alpha = 0.5)\n",
    "\n",
    "# x-axis labels\n",
    "ax.set_yticklabels(name_id)\n",
    "ax.set_xlabel('Number PPL Recognised')\n",
    "\n",
    "# Adding title\n",
    "plt.title(\"Generator vs Number of Humans Recognised\")\n",
    "\n",
    "# Removing top axes and right axes\n",
    "# ticks\n",
    "ax.get_xaxis().tick_bottom()\n",
    "ax.get_yaxis().tick_left()"
   ],
   "metadata": {
    "collapsed": false,
    "ExecuteTime": {
     "start_time": "2023-09-13T14:32:44.715549319Z"
    }
   }
  },
  {
   "cell_type": "code",
   "execution_count": null,
   "outputs": [],
   "source": [
    "def get_age_cat(num):\n",
    "    if num < 10:\n",
    "     return '0-10'\n",
    "    elif num < 20:\n",
    "     return '10-20'\n",
    "    elif num < 30:\n",
    "     return '20-30'\n",
    "    elif num < 40:\n",
    "     return '30-40'\n",
    "    elif num < 50:\n",
    "     return '40-50'\n",
    "    elif num < 60:\n",
    "     return '50-60'\n",
    "    elif num < 70:\n",
    "     return '60-70'\n",
    "    elif num < 80:\n",
    "     return '70-80'\n",
    "    elif num < 90:\n",
    "     return '80-90'\n",
    "    else:\n",
    "     return '90+'"
   ],
   "metadata": {
    "collapsed": false,
    "ExecuteTime": {
     "start_time": "2023-09-13T14:32:44.715626621Z"
    }
   }
  },
  {
   "cell_type": "code",
   "execution_count": null,
   "outputs": [],
   "source": [
    "df_test = stab.iloc[2]\n",
    "df_test['age_details']"
   ],
   "metadata": {
    "collapsed": false,
    "ExecuteTime": {
     "start_time": "2023-09-13T14:32:44.715767116Z"
    }
   }
  },
  {
   "cell_type": "code",
   "execution_count": null,
   "outputs": [],
   "source": [
    "import ast\n",
    "\n",
    "def make_age_gender(df_age_mid, df_age):\n",
    "    for index, row in df_age_mid.iterrows():\n",
    "        # female = row['female']\n",
    "        # male = row['male']\n",
    "        #\n",
    "        # row['age_group_a']\n",
    "        if row['number'] == 0:\n",
    "            continue\n",
    "        else:\n",
    "            x = row['age_details']\n",
    "\n",
    "            value_x = ast.literal_eval(x)\n",
    "            # new_value = value_x['data']\n",
    "\n",
    "            for el in value_x:\n",
    "\n",
    "                gender_value = el[0]\n",
    "                age_value = el[1]\n",
    "\n",
    "\n",
    "                temp_group = get_age_cat(age_value)\n",
    "\n",
    "\n",
    "                if gender_value == 'Female':\n",
    "                    df_age.loc[df_age['age'] == temp_group, 'female'] =  df_age['female'].loc[df_age['age'] == temp_group].item() + 1\n",
    "                else:\n",
    "                    df_age.loc[df_age['age'] == temp_group, 'male'] =  df_age['male'].loc[df_age['age'] == temp_group].item() + 1\n",
    "\n",
    "    return df_age"
   ],
   "metadata": {
    "collapsed": false,
    "ExecuteTime": {
     "start_time": "2023-09-13T14:32:44.715888190Z"
    }
   }
  },
  {
   "cell_type": "code",
   "execution_count": null,
   "outputs": [],
   "source": [
    "cat_gen = ['stabilityai','SG161222','runwayml','prompthero','nitrosocke','mid_journey','dall_e_2','dream','CompVis','base']\n",
    "age_column_list = ['0-10', '10-20', '20-30', '30-40', '40-50', '50-60', '60-70', '70-80', '80-90', '90+']\n",
    "\n",
    "df_list_age=[]\n",
    "\n",
    "for gen in cat_gen:\n",
    "\n",
    "    df_age = pd.DataFrame(columns=['age', 'male', 'female'])\n",
    "\n",
    "    for age in age_column_list:\n",
    "        df_age.loc[len(df_age)]= {'age': age, 'male': 0, 'female': 0}\n",
    "\n",
    "\n",
    "    df_age_mid = df.loc[df['generator'] == gen]\n",
    "\n",
    "    df_list_age.append(make_age_gender(df_age_mid, df_age))"
   ],
   "metadata": {
    "collapsed": false,
    "ExecuteTime": {
     "start_time": "2023-09-13T14:32:44.715983090Z"
    }
   }
  },
  {
   "cell_type": "code",
   "execution_count": null,
   "outputs": [],
   "source": [
    "import matplotlib.gridspec as gridspec\n",
    "\n",
    "fig = plt.figure(figsize=(9, 6))\n",
    "outer = gridspec.GridSpec(2, 10, wspace=0.2, hspace=0.2)\n",
    "\n",
    "for i in range(len(df_list_age)):\n",
    "\n",
    "    maxi = (df_list_age[i]['female'].max())\n",
    "\n",
    "    if maxi < df_list_age[i]['male'].max():\n",
    "        maxi = df_list_age[i]['male'].max()\n",
    "    inner = gridspec.GridSpecFromSubplotSpec(2, 1,\n",
    "                    subplot_spec=outer[i], wspace=0.1, hspace=0.1)\n",
    "\n",
    "    y = range(0, len(df_list_age[i]['age']))\n",
    "    x_male = df_list_age[i]['male']\n",
    "    x_female = df_list_age[i]['female']\n",
    "\n",
    "    #ax = plt.Subplot(fig, inner[j])\n",
    "    fig, axes = plt.subplots(ncols=2, sharey=True)\n",
    "    # t = ax.text(0.5,0.5, 'outer=%d, inner=%d' % (i, j))\n",
    "    # t.set_ha('center')\n",
    "    plt.figtext(.5,.9,cat_gen[i], fontsize=15, ha='center')\n",
    "\n",
    "\n",
    "#define male and female bars\n",
    "    axes[0].barh(y, x_male, align='center', color='royalblue')\n",
    "    axes[0].set(title='Males')\n",
    "\n",
    "\n",
    "\n",
    "    axes[1].barh(y, x_female, align='center', color='lightpink')\n",
    "    axes[1].set_xlim(0, maxi)\n",
    "    axes[1].set(title='Females')\n",
    "\n",
    "\n",
    "\n",
    "\n",
    "    #adjust grid parameters and specify labels for y-axis\n",
    "    axes[1].grid()\n",
    "    axes[0].set(yticks=y, yticklabels=df_list_age[i]['age'])\n",
    "    axes[0].set_xlim(0, maxi)\n",
    "    axes[0].invert_xaxis()\n",
    "    axes[0].grid()\n",
    "\n",
    "\n",
    "\n",
    "    fig.add_subplot(axes[0])\n",
    "\n",
    "\n",
    "\n",
    "    plt.savefig(\"pyramid/population_\"+cat_gen[i] + '_pyramid.png')\n",
    "\n",
    "fig.show()"
   ],
   "metadata": {
    "collapsed": false,
    "ExecuteTime": {
     "start_time": "2023-09-13T14:32:44.716041758Z"
    }
   }
  },
  {
   "cell_type": "code",
   "execution_count": null,
   "outputs": [],
   "source": [],
   "metadata": {
    "collapsed": false,
    "ExecuteTime": {
     "start_time": "2023-09-13T14:32:44.716099501Z"
    }
   }
  }
 ],
 "metadata": {
  "kernelspec": {
   "display_name": "Python 3",
   "language": "python",
   "name": "python3"
  },
  "language_info": {
   "codemirror_mode": {
    "name": "ipython",
    "version": 2
   },
   "file_extension": ".py",
   "mimetype": "text/x-python",
   "name": "python",
   "nbconvert_exporter": "python",
   "pygments_lexer": "ipython2",
   "version": "2.7.6"
  }
 },
 "nbformat": 4,
 "nbformat_minor": 0
}
