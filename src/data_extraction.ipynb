{
 "cells": [
  {
   "cell_type": "markdown",
   "source": [],
   "metadata": {
    "collapsed": false
   }
  },
  {
   "cell_type": "code",
   "execution_count": 1,
   "outputs": [],
   "source": [
    "from helpers import analyzeppl\n",
    "from helpers import image_data\n",
    "import pandas as pd\n",
    "from helpers import data_frame_helper\n",
    "from helpers import human_re"
   ],
   "metadata": {
    "collapsed": false,
    "ExecuteTime": {
     "end_time": "2023-07-08T12:34:01.178705357Z",
     "start_time": "2023-07-08T12:34:00.339671066Z"
    }
   }
  },
  {
   "cell_type": "markdown",
   "source": [
    "Making a dataframe to store the data."
   ],
   "metadata": {
    "collapsed": false
   }
  },
  {
   "cell_type": "code",
   "execution_count": 12,
   "outputs": [
    {
     "name": "stdout",
     "output_type": "stream",
     "text": [
      "loc='stabilityai' contains  len(data)=200\n",
      "loc='SG161222' contains  len(data)=200\n",
      "loc='runwayml' contains  len(data)=200\n",
      "loc='prompthero' contains  len(data)=100\n",
      "loc='nitrosocke' contains  len(data)=200\n",
      "loc='mid_journey' contains  len(data)=132\n",
      "loc='dall_e_2' contains  len(data)=100\n",
      "loc='dream' contains  len(data)=100\n",
      "loc='CompVis' contains  len(data)=100\n",
      "loc='base' contains  len(data)=5\n"
     ]
    }
   ],
   "source": [
    "data = image_data.get_target_data(\"prompt_0\")\n"
   ],
   "metadata": {
    "collapsed": false,
    "ExecuteTime": {
     "end_time": "2023-07-08T13:59:58.538014574Z",
     "start_time": "2023-07-08T13:59:54.832328150Z"
    }
   }
  },
  {
   "cell_type": "code",
   "execution_count": 14,
   "outputs": [
    {
     "name": "stdout",
     "output_type": "stream",
     "text": [
      "<bound method NDFrame.head of Empty DataFrame\n",
      "Columns: [image_id, generator, number, female, male, age_group_a, age_group_b, age_group_c, json_response]\n",
      "Index: []>\n"
     ]
    },
    {
     "name": "stderr",
     "output_type": "stream",
     "text": [
      "100%|██████████| 1337/1337 [22:21<00:00,  1.00s/it]\n"
     ]
    }
   ],
   "source": [
    "work, report = human_re.human_recon(data, 'prompt_0')"
   ],
   "metadata": {
    "collapsed": false,
    "ExecuteTime": {
     "end_time": "2023-07-08T14:46:46.073869287Z",
     "start_time": "2023-07-08T14:24:24.629106093Z"
    }
   }
  },
  {
   "cell_type": "code",
   "execution_count": 15,
   "outputs": [],
   "source": [
    "work.to_csv('data_csv/prompt_0/data_ppl.csv')"
   ],
   "metadata": {
    "collapsed": false,
    "ExecuteTime": {
     "end_time": "2023-07-08T14:55:15.817739589Z",
     "start_time": "2023-07-08T14:55:15.791017950Z"
    }
   }
  },
  {
   "cell_type": "code",
   "execution_count": 6,
   "outputs": [],
   "source": [
    "data_frame_helper.store_data(work, 'prompt_2')"
   ],
   "metadata": {
    "collapsed": false,
    "ExecuteTime": {
     "end_time": "2023-07-08T13:00:43.428708577Z",
     "start_time": "2023-07-08T13:00:43.398158165Z"
    }
   }
  },
  {
   "cell_type": "code",
   "execution_count": null,
   "outputs": [],
   "source": [
    "print(len(data))\n",
    "print(data)"
   ],
   "metadata": {
    "collapsed": false
   }
  },
  {
   "cell_type": "code",
   "execution_count": null,
   "outputs": [],
   "source": [
    "work, report = human_re.human_recon(data, 'prompt_0')"
   ],
   "metadata": {
    "collapsed": false
   }
  },
  {
   "cell_type": "code",
   "execution_count": null,
   "outputs": [],
   "source": [
    "work, report = human_re.human_recon(data, 'prompt_0')"
   ],
   "metadata": {
    "collapsed": false
   }
  }
 ],
 "metadata": {
  "kernelspec": {
   "display_name": "Python 3",
   "language": "python",
   "name": "python3"
  },
  "language_info": {
   "codemirror_mode": {
    "name": "ipython",
    "version": 2
   },
   "file_extension": ".py",
   "mimetype": "text/x-python",
   "name": "python",
   "nbconvert_exporter": "python",
   "pygments_lexer": "ipython2",
   "version": "2.7.6"
  }
 },
 "nbformat": 4,
 "nbformat_minor": 0
}
