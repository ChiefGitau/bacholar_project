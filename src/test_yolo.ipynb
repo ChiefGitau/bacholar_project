{
 "cells": [
  {
   "cell_type": "code",
   "execution_count": 9,
   "metadata": {
    "collapsed": true
   },
   "outputs": [],
   "source": [
    "from imageai.Detection import ObjectDetection\n",
    "import os"
   ]
  },
  {
   "cell_type": "code",
   "execution_count": 10,
   "outputs": [
    {
     "data": {
      "text/plain": "'/home/hidde/Desktop/git/Vu/Seeing_the_words/code/image_regonition/python/yolo/simple_yolo_v1/src/main.py'"
     },
     "execution_count": 10,
     "metadata": {},
     "output_type": "execute_result"
    }
   ],
   "source": [
    "os.path.abspath(\"main.py\")"
   ],
   "metadata": {
    "collapsed": false
   }
  },
  {
   "cell_type": "code",
   "execution_count": 5,
   "outputs": [],
   "source": [
    "# instantiating the class\n",
    "recognizer = ObjectDetection()\n",
    "\n",
    "# defining the paths\n",
    "path_model = \"models\"\n",
    "path_input = \"input/The-Last-Supper-Restored-Da-Vinci_32x16.jpg\"\n",
    "path_output = \"output/newimage.jpg\""
   ],
   "metadata": {
    "collapsed": false
   }
  },
  {
   "cell_type": "code",
   "execution_count": 6,
   "outputs": [
    {
     "ename": "ValueError",
     "evalue": "invalid path, path not pointing to a valid file.",
     "output_type": "error",
     "traceback": [
      "\u001B[0;31m---------------------------------------------------------------------------\u001B[0m",
      "\u001B[0;31mValueError\u001B[0m                                Traceback (most recent call last)",
      "Input \u001B[0;32mIn [6]\u001B[0m, in \u001B[0;36m<cell line: 2>\u001B[0;34m()\u001B[0m\n\u001B[1;32m      1\u001B[0m recognizer\u001B[38;5;241m.\u001B[39msetModelTypeAsTinyYOLOv3()\n\u001B[0;32m----> 2\u001B[0m \u001B[43mrecognizer\u001B[49m\u001B[38;5;241;43m.\u001B[39;49m\u001B[43msetModelPath\u001B[49m\u001B[43m(\u001B[49m\u001B[38;5;124;43m\"\u001B[39;49m\u001B[38;5;124;43myolo_test.pt\u001B[39;49m\u001B[38;5;124;43m\"\u001B[39;49m\u001B[43m)\u001B[49m\n\u001B[1;32m      4\u001B[0m \u001B[38;5;66;03m#recognizer.loadModel()\u001B[39;00m\n\u001B[1;32m      5\u001B[0m \n\u001B[1;32m      6\u001B[0m \u001B[38;5;66;03m# calling the detectObjectsFromImage() function\u001B[39;00m\n\u001B[1;32m      7\u001B[0m recognition \u001B[38;5;241m=\u001B[39m recognizer\u001B[38;5;241m.\u001B[39mdetectObjectsFromImage(\n\u001B[1;32m      8\u001B[0m     input_image\u001B[38;5;241m=\u001B[39mpath_input,\n\u001B[1;32m      9\u001B[0m     output_image_path\u001B[38;5;241m=\u001B[39mpath_output\n\u001B[1;32m     10\u001B[0m )\n",
      "File \u001B[0;32m/usr/local/lib/python3.8/dist-packages/imageai/Detection/__init__.py:210\u001B[0m, in \u001B[0;36mObjectDetection.setModelPath\u001B[0;34m(self, path)\u001B[0m\n\u001B[1;32m    208\u001B[0m     \u001B[38;5;28mself\u001B[39m\u001B[38;5;241m.\u001B[39m__model_loaded \u001B[38;5;241m=\u001B[39m \u001B[38;5;28;01mFalse\u001B[39;00m\n\u001B[1;32m    209\u001B[0m \u001B[38;5;28;01melse\u001B[39;00m:\n\u001B[0;32m--> 210\u001B[0m     \u001B[38;5;28;01mraise\u001B[39;00m \u001B[38;5;167;01mValueError\u001B[39;00m(\n\u001B[1;32m    211\u001B[0m                 \u001B[38;5;124m\"\u001B[39m\u001B[38;5;124minvalid path, path not pointing to a valid file.\u001B[39m\u001B[38;5;124m\"\u001B[39m\n\u001B[1;32m    212\u001B[0m             ) \u001B[38;5;28;01mfrom\u001B[39;00m \u001B[38;5;28mNone\u001B[39m\n",
      "\u001B[0;31mValueError\u001B[0m: invalid path, path not pointing to a valid file."
     ]
    }
   ],
   "source": [
    "\n",
    "\n",
    "\n",
    "recognizer.setModelTypeAsTinyYOLOv3()\n",
    "\n",
    "recognizer.setModelPath(\"/home/hidde/Desktop/git/Vu/Seeing_the_words/code/image_regonition/python/yolo/simple_yolo_v1/src/\")\n",
    "\n",
    "#recognizer.loadModel()\n",
    "\n",
    "# calling the detectObjectsFromImage() function\n",
    "recognition = recognizer.detectObjectsFromImage(\n",
    "    input_image=path_input,\n",
    "    output_image_path=path_output\n",
    ")\n"
   ],
   "metadata": {
    "collapsed": false
   }
  },
  {
   "cell_type": "code",
   "execution_count": null,
   "outputs": [],
   "source": [
    "# iterating through the items found in the image\n",
    "for eachItem in recognition:\n",
    "    print(eachItem[\"name\"], \" : \", eachItem[\"percentage_probability\"])\n"
   ],
   "metadata": {
    "collapsed": false
   }
  }
 ],
 "metadata": {
  "kernelspec": {
   "display_name": "Python 3",
   "language": "python",
   "name": "python3"
  },
  "language_info": {
   "codemirror_mode": {
    "name": "ipython",
    "version": 2
   },
   "file_extension": ".py",
   "mimetype": "text/x-python",
   "name": "python",
   "nbconvert_exporter": "python",
   "pygments_lexer": "ipython2",
   "version": "2.7.6"
  }
 },
 "nbformat": 4,
 "nbformat_minor": 0
}
